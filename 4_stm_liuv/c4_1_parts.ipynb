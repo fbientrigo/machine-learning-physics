{
 "cells": [
  {
   "attachments": {},
   "cell_type": "markdown",
   "metadata": {},
   "source": [
    "# Other architectures from the existing code\n",
    "Differential equations are possible to solve by a family of algorithms which take in different linear combinations of the previous values;\n",
    "\n",
    "each algorithm will have an equivalent NN architecture.\n",
    "\n",
    "We start by the most general form of the differential equation\n",
    "$$\n",
    "\\frac{d}{dz} (p(z) \\,\\frac{d}{dz} v(z) ) + q(z) v(z) = \\lambda v(z)\n",
    "$$\n",
    "\n",
    "Expanding it and making it equal to zero, allows to extract values, first begin by including another function:\n",
    "$$\n",
    "\\pi(z) = \\frac{d}{dz} v(z)\n",
    "$$\n",
    "\n",
    "$$\n",
    "\\Rightarrow v(z + \\Delta z) = v(z) + \\Delta z \\pi(z)\n",
    "$$\n",
    "\n",
    "___\n",
    "\n",
    "$$\n",
    "\\frac{d}{dz} \\{ p(z) \\,\\pi(z) \\} + q(z) v(z) = \\lambda v(z)\n",
    "$$\n",
    "\n",
    "Expandiendo:\n",
    "$$\n",
    "p \\pi'  = \\lambda v - p' \\pi - q v\n",
    "$$\n",
    "\n",
    "Discretizando:\n",
    "$$\n",
    "p\\, \\pi(z + \\Delta z) = p\\, \\pi(z) + \\Delta z (\\lambda v - p' \\pi - q v) \n",
    "$$\n",
    "\n"
   ]
  },
  {
   "cell_type": "code",
   "execution_count": null,
   "metadata": {},
   "outputs": [],
   "source": []
  }
 ],
 "metadata": {
  "language_info": {
   "name": "python"
  },
  "orig_nbformat": 4
 },
 "nbformat": 4,
 "nbformat_minor": 2
}
