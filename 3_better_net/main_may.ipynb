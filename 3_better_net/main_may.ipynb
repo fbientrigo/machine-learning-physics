{
 "cells": [
  {
   "cell_type": "code",
   "execution_count": 1,
   "metadata": {},
   "outputs": [],
   "source": [
    "import deepql\n",
    "import torch\n",
    "import torch.nn as nn\n",
    "\n",
    "import numpy as np\n",
    "import pandas as pd\n",
    "import matplotlib.pyplot as plt"
   ]
  },
  {
   "cell_type": "code",
   "execution_count": 2,
   "metadata": {},
   "outputs": [
    {
     "name": "stdout",
     "output_type": "stream",
     "text": [
      "3000\n"
     ]
    },
    {
     "data": {
      "text/html": [
       "<div>\n",
       "<style scoped>\n",
       "    .dataframe tbody tr th:only-of-type {\n",
       "        vertical-align: middle;\n",
       "    }\n",
       "\n",
       "    .dataframe tbody tr th {\n",
       "        vertical-align: top;\n",
       "    }\n",
       "\n",
       "    .dataframe thead th {\n",
       "        text-align: right;\n",
       "    }\n",
       "</style>\n",
       "<table border=\"1\" class=\"dataframe\">\n",
       "  <thead>\n",
       "    <tr style=\"text-align: right;\">\n",
       "      <th></th>\n",
       "      <th>phi</th>\n",
       "      <th>t</th>\n",
       "      <th>tau</th>\n",
       "      <th>r</th>\n",
       "      <th>rdot</th>\n",
       "      <th>u</th>\n",
       "      <th>udot</th>\n",
       "    </tr>\n",
       "  </thead>\n",
       "  <tbody>\n",
       "    <tr>\n",
       "      <th>0</th>\n",
       "      <td>0.00</td>\n",
       "      <td>1.184505</td>\n",
       "      <td>1.260863</td>\n",
       "      <td>4.763984</td>\n",
       "      <td>0.083194</td>\n",
       "      <td>0.209908</td>\n",
       "      <td>-0.003666</td>\n",
       "    </tr>\n",
       "    <tr>\n",
       "      <th>1</th>\n",
       "      <td>0.05</td>\n",
       "      <td>2.372049</td>\n",
       "      <td>2.525035</td>\n",
       "      <td>4.770229</td>\n",
       "      <td>0.166643</td>\n",
       "      <td>0.209634</td>\n",
       "      <td>-0.007323</td>\n",
       "    </tr>\n",
       "    <tr>\n",
       "      <th>2</th>\n",
       "      <td>0.10</td>\n",
       "      <td>3.564678</td>\n",
       "      <td>3.794741</td>\n",
       "      <td>4.780660</td>\n",
       "      <td>0.250601</td>\n",
       "      <td>0.209176</td>\n",
       "      <td>-0.010965</td>\n",
       "    </tr>\n",
       "    <tr>\n",
       "      <th>3</th>\n",
       "      <td>0.15</td>\n",
       "      <td>4.764468</td>\n",
       "      <td>5.072240</td>\n",
       "      <td>4.795309</td>\n",
       "      <td>0.335327</td>\n",
       "      <td>0.208537</td>\n",
       "      <td>-0.014583</td>\n",
       "    </tr>\n",
       "    <tr>\n",
       "      <th>4</th>\n",
       "      <td>0.20</td>\n",
       "      <td>5.973532</td>\n",
       "      <td>6.359836</td>\n",
       "      <td>4.814220</td>\n",
       "      <td>0.421083</td>\n",
       "      <td>0.207718</td>\n",
       "      <td>-0.018168</td>\n",
       "    </tr>\n",
       "  </tbody>\n",
       "</table>\n",
       "</div>"
      ],
      "text/plain": [
       "    phi         t       tau         r      rdot         u      udot\n",
       "0  0.00  1.184505  1.260863  4.763984  0.083194  0.209908 -0.003666\n",
       "1  0.05  2.372049  2.525035  4.770229  0.166643  0.209634 -0.007323\n",
       "2  0.10  3.564678  3.794741  4.780660  0.250601  0.209176 -0.010965\n",
       "3  0.15  4.764468  5.072240  4.795309  0.335327  0.208537 -0.014583\n",
       "4  0.20  5.973532  6.359836  4.814220  0.421083  0.207718 -0.018168"
      ]
     },
     "execution_count": 2,
     "metadata": {},
     "output_type": "execute_result"
    }
   ],
   "source": [
    "data = pd.read_csv(\"gen_data/heun_c1_u021.csv\", index_col=0)\n",
    "print(len(data))\n",
    "data.head()\n"
   ]
  },
  {
   "cell_type": "code",
   "execution_count": 3,
   "metadata": {},
   "outputs": [
    {
     "name": "stdout",
     "output_type": "stream",
     "text": [
      "min: 0.0480733277999466, max: 0.2101430908430522\n"
     ]
    }
   ],
   "source": [
    "# limits of data\n",
    "umax = data.u.max()\n",
    "umin = data.u.min()\n",
    "\n",
    "print(f\"min: {umin}, max: {umax}\")"
   ]
  },
  {
   "cell_type": "code",
   "execution_count": 4,
   "metadata": {},
   "outputs": [
    {
     "name": "stdout",
     "output_type": "stream",
     "text": [
      "dt: 0.05\n"
     ]
    }
   ],
   "source": [
    "# important parameters from data\n",
    "dt = data.phi[1] - data.phi[0]\n",
    "print(f\"dt: {dt}\")\n",
    "\n",
    "# ammount of points for the force function\n",
    "# more points -> more training\n",
    "N_ff = 200"
   ]
  },
  {
   "cell_type": "code",
   "execution_count": 5,
   "metadata": {},
   "outputs": [
    {
     "name": "stdout",
     "output_type": "stream",
     "text": [
      "2849\n"
     ]
    },
    {
     "data": {
      "text/html": [
       "<div>\n",
       "<style scoped>\n",
       "    .dataframe tbody tr th:only-of-type {\n",
       "        vertical-align: middle;\n",
       "    }\n",
       "\n",
       "    .dataframe tbody tr th {\n",
       "        vertical-align: top;\n",
       "    }\n",
       "\n",
       "    .dataframe thead th {\n",
       "        text-align: right;\n",
       "    }\n",
       "</style>\n",
       "<table border=\"1\" class=\"dataframe\">\n",
       "  <thead>\n",
       "    <tr style=\"text-align: right;\">\n",
       "      <th></th>\n",
       "      <th>x_initial</th>\n",
       "      <th>v_initial</th>\n",
       "      <th>x_step10</th>\n",
       "      <th>v_step10</th>\n",
       "      <th>x_step20</th>\n",
       "      <th>v_step20</th>\n",
       "      <th>x_step30</th>\n",
       "      <th>v_step30</th>\n",
       "      <th>x_step40</th>\n",
       "      <th>v_step40</th>\n",
       "      <th>...</th>\n",
       "      <th>x_step110</th>\n",
       "      <th>v_step110</th>\n",
       "      <th>x_step120</th>\n",
       "      <th>v_step120</th>\n",
       "      <th>x_step130</th>\n",
       "      <th>v_step130</th>\n",
       "      <th>x_step140</th>\n",
       "      <th>v_step140</th>\n",
       "      <th>x_step150</th>\n",
       "      <th>v_step150</th>\n",
       "    </tr>\n",
       "  </thead>\n",
       "  <tbody>\n",
       "    <tr>\n",
       "      <th>0</th>\n",
       "      <td>0.209908</td>\n",
       "      <td>-0.003666</td>\n",
       "      <td>0.199147</td>\n",
       "      <td>-0.038578</td>\n",
       "      <td>0.172721</td>\n",
       "      <td>-0.065125</td>\n",
       "      <td>0.136408</td>\n",
       "      <td>-0.077315</td>\n",
       "      <td>0.098304</td>\n",
       "      <td>-0.072077</td>\n",
       "      <td>...</td>\n",
       "      <td>0.176587</td>\n",
       "      <td>0.062585</td>\n",
       "      <td>0.201367</td>\n",
       "      <td>0.034662</td>\n",
       "      <td>0.210003</td>\n",
       "      <td>-0.000767</td>\n",
       "      <td>0.200629</td>\n",
       "      <td>-0.036032</td>\n",
       "      <td>0.175269</td>\n",
       "      <td>-0.063491</td>\n",
       "    </tr>\n",
       "    <tr>\n",
       "      <th>1</th>\n",
       "      <td>0.209634</td>\n",
       "      <td>-0.007323</td>\n",
       "      <td>0.197138</td>\n",
       "      <td>-0.041725</td>\n",
       "      <td>0.169414</td>\n",
       "      <td>-0.067068</td>\n",
       "      <td>0.132533</td>\n",
       "      <td>-0.077595</td>\n",
       "      <td>0.094735</td>\n",
       "      <td>-0.070589</td>\n",
       "      <td>...</td>\n",
       "      <td>0.179661</td>\n",
       "      <td>0.060327</td>\n",
       "      <td>0.203018</td>\n",
       "      <td>0.031337</td>\n",
       "      <td>0.209873</td>\n",
       "      <td>-0.004432</td>\n",
       "      <td>0.198746</td>\n",
       "      <td>-0.039247</td>\n",
       "      <td>0.172041</td>\n",
       "      <td>-0.065549</td>\n",
       "    </tr>\n",
       "    <tr>\n",
       "      <th>2</th>\n",
       "      <td>0.209176</td>\n",
       "      <td>-0.010965</td>\n",
       "      <td>0.194974</td>\n",
       "      <td>-0.044780</td>\n",
       "      <td>0.166014</td>\n",
       "      <td>-0.068860</td>\n",
       "      <td>0.128649</td>\n",
       "      <td>-0.077695</td>\n",
       "      <td>0.091245</td>\n",
       "      <td>-0.068935</td>\n",
       "      <td>...</td>\n",
       "      <td>0.182619</td>\n",
       "      <td>0.057933</td>\n",
       "      <td>0.204501</td>\n",
       "      <td>0.027943</td>\n",
       "      <td>0.209560</td>\n",
       "      <td>-0.008087</td>\n",
       "      <td>0.196704</td>\n",
       "      <td>-0.042376</td>\n",
       "      <td>0.168714</td>\n",
       "      <td>-0.067461</td>\n",
       "    </tr>\n",
       "    <tr>\n",
       "      <th>3</th>\n",
       "      <td>0.208537</td>\n",
       "      <td>-0.014583</td>\n",
       "      <td>0.192660</td>\n",
       "      <td>-0.047736</td>\n",
       "      <td>0.162528</td>\n",
       "      <td>-0.070497</td>\n",
       "      <td>0.124763</td>\n",
       "      <td>-0.077617</td>\n",
       "      <td>0.087842</td>\n",
       "      <td>-0.067118</td>\n",
       "      <td>...</td>\n",
       "      <td>0.185455</td>\n",
       "      <td>0.055411</td>\n",
       "      <td>0.205813</td>\n",
       "      <td>0.024487</td>\n",
       "      <td>0.209065</td>\n",
       "      <td>-0.011725</td>\n",
       "      <td>0.194508</td>\n",
       "      <td>-0.045411</td>\n",
       "      <td>0.165295</td>\n",
       "      <td>-0.069221</td>\n",
       "    </tr>\n",
       "    <tr>\n",
       "      <th>4</th>\n",
       "      <td>0.207718</td>\n",
       "      <td>-0.018168</td>\n",
       "      <td>0.190201</td>\n",
       "      <td>-0.050587</td>\n",
       "      <td>0.158964</td>\n",
       "      <td>-0.071974</td>\n",
       "      <td>0.120887</td>\n",
       "      <td>-0.077359</td>\n",
       "      <td>0.084533</td>\n",
       "      <td>-0.065142</td>\n",
       "      <td>...</td>\n",
       "      <td>0.188161</td>\n",
       "      <td>0.052766</td>\n",
       "      <td>0.206950</td>\n",
       "      <td>0.020978</td>\n",
       "      <td>0.208388</td>\n",
       "      <td>-0.015337</td>\n",
       "      <td>0.192163</td>\n",
       "      <td>-0.048346</td>\n",
       "      <td>0.161792</td>\n",
       "      <td>-0.070825</td>\n",
       "    </tr>\n",
       "  </tbody>\n",
       "</table>\n",
       "<p>5 rows × 32 columns</p>\n",
       "</div>"
      ],
      "text/plain": [
       "   x_initial  v_initial  x_step10  v_step10  x_step20  v_step20  x_step30  \\\n",
       "0   0.209908  -0.003666  0.199147 -0.038578  0.172721 -0.065125  0.136408   \n",
       "1   0.209634  -0.007323  0.197138 -0.041725  0.169414 -0.067068  0.132533   \n",
       "2   0.209176  -0.010965  0.194974 -0.044780  0.166014 -0.068860  0.128649   \n",
       "3   0.208537  -0.014583  0.192660 -0.047736  0.162528 -0.070497  0.124763   \n",
       "4   0.207718  -0.018168  0.190201 -0.050587  0.158964 -0.071974  0.120887   \n",
       "\n",
       "   v_step30  x_step40  v_step40  ...  x_step110  v_step110  x_step120  \\\n",
       "0 -0.077315  0.098304 -0.072077  ...   0.176587   0.062585   0.201367   \n",
       "1 -0.077595  0.094735 -0.070589  ...   0.179661   0.060327   0.203018   \n",
       "2 -0.077695  0.091245 -0.068935  ...   0.182619   0.057933   0.204501   \n",
       "3 -0.077617  0.087842 -0.067118  ...   0.185455   0.055411   0.205813   \n",
       "4 -0.077359  0.084533 -0.065142  ...   0.188161   0.052766   0.206950   \n",
       "\n",
       "   v_step120  x_step130  v_step130  x_step140  v_step140  x_step150  v_step150  \n",
       "0   0.034662   0.210003  -0.000767   0.200629  -0.036032   0.175269  -0.063491  \n",
       "1   0.031337   0.209873  -0.004432   0.198746  -0.039247   0.172041  -0.065549  \n",
       "2   0.027943   0.209560  -0.008087   0.196704  -0.042376   0.168714  -0.067461  \n",
       "3   0.024487   0.209065  -0.011725   0.194508  -0.045411   0.165295  -0.069221  \n",
       "4   0.020978   0.208388  -0.015337   0.192163  -0.048346   0.161792  -0.070825  \n",
       "\n",
       "[5 rows x 32 columns]"
      ]
     },
     "execution_count": 5,
     "metadata": {},
     "output_type": "execute_result"
    }
   ],
   "source": [
    "df = deepql.separate_data(df=data, run_length=150,\n",
    "     position='u', velocity='udot')\n",
    "\n",
    "print(len(df))\n",
    "df.head()"
   ]
  },
  {
   "cell_type": "code",
   "execution_count": 6,
   "metadata": {},
   "outputs": [
    {
     "data": {
      "image/png": "[encoded data removed]",
      "text/plain": [
       "<Figure size 432x288 with 1 Axes>"
      ]
     },
     "metadata": {
      "needs_background": "light"
     },
     "output_type": "display_data"
    }
   ],
   "source": [
    "model = deepql.diffnet.diffNet(\n",
    "    depth=150, dt=dt, N=N_ff, lower_limit=umin, upper_limit=umax,\n",
    "    post_process=True, pp_mu=0, pp_epsilon=1e-2, force_type='position', debug=False\n",
    ")\n",
    "\n",
    "model.plot_parameters()"
   ]
  },
  {
   "cell_type": "code",
   "execution_count": 16,
   "metadata": {},
   "outputs": [],
   "source": [
    "import torch.optim.lr_scheduler as lr_scheduler\n",
    "model_name = \"0604_heun_c1\"\n",
    "\n",
    "# Hyperparameters\n",
    "smooth_rate = 0.05\n",
    "targets_rate = 1\n",
    "\n",
    "batch_size = 200\n",
    "shuffle_batch = True\n",
    "\n",
    "learning_rate = 0.4\n",
    "\n",
    "# Define number of epochs\n",
    "num_epochs = 10\n",
    "\n",
    "# Define loss function and optimizer\n",
    "L2_loss = nn.MSELoss()\n",
    "optimizer = torch.optim.SGD(model.parameters(), lr=learning_rate)\n",
    "\n",
    "# Learning rate scheduler\n",
    "scheduler = lr_scheduler.LinearLR(optimizer, start_factor=1.0, end_factor=0.5, total_iters=30)\n",
    "\n",
    "\n",
    "# initializing data\n",
    "my_dataset = deepql.MyDataset(df, step_size=150)\n",
    "my_dataloader = deepql.DataLoader(my_dataset, \n",
    "    batch_size=batch_size, shuffle=shuffle_batch)\n",
    "\n",
    "\n",
    "running_loss = 0\n",
    "loss_array = []"
   ]
  },
  {
   "attachments": {},
   "cell_type": "markdown",
   "metadata": {},
   "source": [
    "problemas con el post procesador"
   ]
  },
  {
   "attachments": {},
   "cell_type": "markdown",
   "metadata": {},
   "source": [
    "# despues"
   ]
  },
  {
   "cell_type": "code",
   "execution_count": 23,
   "metadata": {},
   "outputs": [
    {
     "name": "stdout",
     "output_type": "stream",
     "text": [
      "Epoch 0: SGD lr 0.3200 -> 0.3133\n",
      "Epoch 1: SGD lr 0.3133 -> 0.3067\n",
      "Epoch 2: SGD lr 0.3067 -> 0.3000\n",
      "Epoch 3: SGD lr 0.3000 -> 0.2933\n",
      "Epoch 4: SGD lr 0.2933 -> 0.2867\n",
      "Epoch 5: SGD lr 0.2867 -> 0.2800\n",
      "Epoch 6: SGD lr 0.2800 -> 0.2733\n",
      "Epoch 7: SGD lr 0.2733 -> 0.2667\n",
      "Epoch 8: SGD lr 0.2667 -> 0.2600\n",
      "Epoch 9: SGD lr 0.2600 -> 0.2533\n",
      "Finished training\n"
     ]
    },
    {
     "data": {
      "image/png": "[encoded data removed]",
      "text/plain": [
       "<Figure size 432x288 with 1 Axes>"
      ]
     },
     "metadata": {
      "needs_background": "light"
     },
     "output_type": "display_data"
    },
    {
     "data": {
      "image/png": "[encoded data removed]",
      "text/plain": [
       "<Figure size 432x288 with 1 Axes>"
      ]
     },
     "metadata": {
      "needs_background": "light"
     },
     "output_type": "display_data"
    }
   ],
   "source": [
    "num_epochs = 10\n",
    "#used for graphs\n",
    "max_i = len(my_dataloader)\n",
    "model.train(); # switch a modo entranmiento\n",
    "\n",
    "# Iterate through epochs\n",
    "\n",
    "for epoch in range(num_epochs):\n",
    "    # Iterate through data in the DataLoader\n",
    "    for i, data in enumerate(my_dataloader, 0):\n",
    "        # Get inputs and targets from data\n",
    "        inputs, targets = data\n",
    "\n",
    "        # Zero the parameter gradients\n",
    "        optimizer.zero_grad()\n",
    "\n",
    "        # Forward pass\n",
    "        outputs = model.forward(inputs)\n",
    "\n",
    "        \n",
    "        # Compute loss\n",
    "        L2_computed_loss = L2_loss(outputs, targets)\n",
    "        loss = smooth_rate * deepql.diffnet.smooth_loss(list(model.parameters())[0]) +\\\n",
    "            targets_rate * L2_computed_loss\n",
    "\n",
    "        loss_array.append(loss.item())\n",
    "        # Backward pass and optimization\n",
    "        loss.backward()\n",
    "        optimizer.step()\n",
    "\n",
    "        # Print statistics\n",
    "        running_loss += loss.item()\n",
    "        if i % 100 == 99:    # Print every 100 mini-batches\n",
    "            print(\"L2_loss:\", L2_computed_loss.detach().item())\n",
    "            #loss_array.append(L2_computed_loss.detach().item())\n",
    "            print('[Epoch %d, Mini-batch %5d] Loss: %.3f' %\n",
    "                (epoch + 1, i + 1, running_loss / 100))\n",
    "            running_loss = 0.0\n",
    "\n",
    "    # scheduler workings\n",
    "    before_lr = optimizer.param_groups[0][\"lr\"]\n",
    "    scheduler.step()\n",
    "    after_lr = optimizer.param_groups[0][\"lr\"]\n",
    "    print(\"Epoch %d: SGD lr %.4f -> %.4f\" % (epoch, before_lr, after_lr))\n",
    "\n",
    "    if epoch % 100 == 10:\n",
    "        # saving the model\n",
    "        torch.save(model, f\"./model/{name}_epoch{epoch}.pt\")\n",
    "        \n",
    "        #ploting\n",
    "        model.plot_parameters()\n",
    "        # plt.show()\n",
    "        # plt.savefig(f\"./evolution_force/{name}_epoch_{epoch}_loss_{running_loss :.2f}.png\")\n",
    "\n",
    "\n",
    "# finish training\n",
    "#torch.save(model, f\"./model/{name}_epoch{epoch}.pt\")\n",
    "print('Finished training')\n",
    "\n",
    "model.plot_parameters()\n",
    "\n",
    "\n",
    "# plot loss\n",
    "plt.plot(loss_array)\n",
    "plt.title(\"evolution of L2 loss output target\")\n",
    "plt.show()"
   ]
  },
  {
   "cell_type": "code",
   "execution_count": 14,
   "metadata": {},
   "outputs": [],
   "source": [
    "# saving the model\n",
    "torch.save(model, f\"./model/{model_name}_epoch{epoch}.pt\")"
   ]
  },
  {
   "cell_type": "code",
   "execution_count": null,
   "metadata": {},
   "outputs": [],
   "source": []
  }
 ],
 "metadata": {
  "kernelspec": {
   "display_name": "deepl",
   "language": "python",
   "name": "python3"
  },
  "language_info": {
   "codemirror_mode": {
    "name": "ipython",
    "version": 3
   },
   "file_extension": ".py",
   "mimetype": "text/x-python",
   "name": "python",
   "nbconvert_exporter": "python",
   "pygments_lexer": "ipython3",
   "version": "3.10.9"
  },
  "orig_nbformat": 4
 },
 "nbformat": 4,
 "nbformat_minor": 2
}
