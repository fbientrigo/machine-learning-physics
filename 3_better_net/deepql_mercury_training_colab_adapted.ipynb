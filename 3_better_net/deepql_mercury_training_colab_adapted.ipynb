{
  "cells": [
    {
      "cell_type": "markdown",
      "metadata": {
        "id": "BJSyVfo4GGOp"
      },
      "source": [
        "### Setup process"
      ]
    },
    {
      "cell_type": "code",
      "source": [
        "%cd /content"
      ],
      "metadata": {
        "colab": {
          "base_uri": "https://localhost:8080/"
        },
        "id": "c40SO2mocUNp",
        "outputId": "2089145a-64eb-4059-f8e8-f4a214251329"
      },
      "execution_count": 4,
      "outputs": [
        {
          "output_type": "stream",
          "name": "stdout",
          "text": [
            "/content\n"
          ]
        }
      ]
    },
    {
      "cell_type": "code",
      "execution_count": 5,
      "metadata": {
        "colab": {
          "base_uri": "https://localhost:8080/"
        },
        "id": "cgNLs_g4rLCA",
        "outputId": "bccd3551-e27e-4f4b-e831-854e308c9869"
      },
      "outputs": [
        {
          "output_type": "stream",
          "name": "stdout",
          "text": [
            "Cloning into 'machine-learning-physics'...\n",
            "remote: Enumerating objects: 663, done.\u001b[K\n",
            "remote: Counting objects: 100% (238/238), done.\u001b[K\n",
            "remote: Compressing objects: 100% (164/164), done.\u001b[K\n",
            "remote: Total 663 (delta 95), reused 196 (delta 66), pack-reused 425\u001b[K\n",
            "Receiving objects: 100% (663/663), 64.14 MiB | 23.88 MiB/s, done.\n",
            "Resolving deltas: 100% (217/217), done.\n"
          ]
        }
      ],
      "source": [
        "# get all data\n",
        "!git clone https://github.com/fbientrigo/machine-learning-physics"
      ]
    },
    {
      "cell_type": "code",
      "execution_count": null,
      "metadata": {
        "colab": {
          "base_uri": "https://localhost:8080/"
        },
        "id": "oPUjlHvG0JL5",
        "outputId": "61449307-75c4-4195-e71c-17e663e43cb7"
      },
      "outputs": [
        {
          "name": "stdout",
          "output_type": "stream",
          "text": [
            "Found existing installation: deepql 0.1.0\n",
            "Uninstalling deepql-0.1.0:\n",
            "  Would remove:\n",
            "    /usr/local/lib/python3.10/dist-packages/deepql.egg-link\n",
            "Proceed (Y/n)? Y\n",
            "  Successfully uninstalled deepql-0.1.0\n"
          ]
        }
      ],
      "source": [
        "!pip uninstall -y deepql"
      ]
    },
    {
      "cell_type": "code",
      "execution_count": 6,
      "metadata": {
        "colab": {
          "base_uri": "https://localhost:8080/"
        },
        "id": "7B6e-Bjcub5D",
        "outputId": "586cdf45-59ea-4ea0-8980-b1068e69edba"
      },
      "outputs": [
        {
          "output_type": "stream",
          "name": "stdout",
          "text": [
            "/content/machine-learning-physics\n",
            "Looking in indexes: https://pypi.org/simple, https://us-python.pkg.dev/colab-wheels/public/simple/\n",
            "Obtaining file:///content/machine-learning-physics/deepql\n",
            "  Preparing metadata (setup.py) ... \u001b[?25l\u001b[?25hdone\n",
            "Requirement already satisfied: numpy in /usr/local/lib/python3.10/dist-packages (from deepql==0.1.0) (1.22.4)\n",
            "Requirement already satisfied: pandas in /usr/local/lib/python3.10/dist-packages (from deepql==0.1.0) (1.5.3)\n",
            "Requirement already satisfied: python-dateutil>=2.8.1 in /usr/local/lib/python3.10/dist-packages (from pandas->deepql==0.1.0) (2.8.2)\n",
            "Requirement already satisfied: pytz>=2020.1 in /usr/local/lib/python3.10/dist-packages (from pandas->deepql==0.1.0) (2022.7.1)\n",
            "Requirement already satisfied: six>=1.5 in /usr/local/lib/python3.10/dist-packages (from python-dateutil>=2.8.1->pandas->deepql==0.1.0) (1.16.0)\n",
            "Installing collected packages: deepql\n",
            "  Running setup.py develop for deepql\n",
            "Successfully installed deepql-0.1.0\n",
            "/content/machine-learning-physics/3_better_net\n",
            "/content/machine-learning-physics/3_better_net\n"
          ]
        }
      ],
      "source": [
        "# install library\n",
        "%cd /content/machine-learning-physics/\n",
        "!sudo python3 -m pip install -e deepql\n",
        "\n",
        "# solves error adding to path the folder\n",
        "import sys \n",
        "sys.path.append(r'/content/machine-learning-physics/deepql')\n",
        "\n",
        "# get to main development zone\n",
        "%cd /content/machine-learning-physics/3_better_net\n",
        "!pwd"
      ]
    },
    {
      "cell_type": "code",
      "execution_count": null,
      "metadata": {
        "colab": {
          "base_uri": "https://localhost:8080/"
        },
        "id": "_qzg5uk6xAhj",
        "outputId": "c9313b4e-7724-42e1-961c-b56b1519096f"
      },
      "outputs": [
        {
          "name": "stdout",
          "output_type": "stream",
          "text": [
            "Name: deepql\n",
            "Version: 0.1.0\n",
            "Summary: A package for the physics inverse problem of finding the force giving the trajectory\n",
            "Home-page: \n",
            "Author: Fabian Trigo\n",
            "Author-email: fbientrigo@gmail.com\n",
            "License: \n",
            "Location: /content/machine-learning-physics/deepql\n",
            "Editable project location: /content/machine-learning-physics/deepql\n",
            "Requires: numpy, pandas\n",
            "Required-by: \n"
          ]
        }
      ],
      "source": [
        "!pip show deepql"
      ]
    },
    {
      "cell_type": "markdown",
      "metadata": {
        "id": "aaGl3rD6GJp4"
      },
      "source": [
        "# Code"
      ]
    },
    {
      "cell_type": "code",
      "execution_count": 7,
      "metadata": {
        "id": "gQtyOmEGrlOM"
      },
      "outputs": [],
      "source": [
        "import deepql\n",
        "import torch\n",
        "import torch.nn as nn\n",
        "import torch.optim.lr_scheduler as lr_scheduler\n",
        "\n",
        "import numpy as np\n",
        "import pandas as pd\n",
        "import matplotlib.pyplot as plt"
      ]
    },
    {
      "cell_type": "code",
      "source": [
        "# Data Loading for preworked data\n",
        "df = pd.read_csv(\"data/heun_c1_merged_data.csv\", index_col=0)\n",
        "\n",
        "# assuming your model is already built from a simple set"
      ],
      "metadata": {
        "id": "uvoO8ZGOc1Pa"
      },
      "execution_count": 15,
      "outputs": []
    },
    {
      "cell_type": "code",
      "execution_count": null,
      "metadata": {
        "colab": {
          "base_uri": "https://localhost:8080/",
          "height": 372
        },
        "id": "48Q0Pkw5r47B",
        "outputId": "8a01fd25-6edd-493d-d507-095833342c4f"
      },
      "outputs": [
        {
          "name": "stdout",
          "output_type": "stream",
          "text": [
            "3000\n",
            "min: 0.0480733277999466, max: 0.2101430908430522\n",
            "dt: 0.05\n",
            "2849\n"
          ]
        },
        {
          "data": {
            "text/html": [
              "\n",
              "  <div id=\"df-de91ae0a-2434-4183-8d80-6f9c4292e1ca\">\n",
              "    <div class=\"colab-df-container\">\n",
              "      <div>\n",
              "<style scoped>\n",
              "    .dataframe tbody tr th:only-of-type {\n",
              "        vertical-align: middle;\n",
              "    }\n",
              "\n",
              "    .dataframe tbody tr th {\n",
              "        vertical-align: top;\n",
              "    }\n",
              "\n",
              "    .dataframe thead th {\n",
              "        text-align: right;\n",
              "    }\n",
              "</style>\n",
              "<table border=\"1\" class=\"dataframe\">\n",
              "  <thead>\n",
              "    <tr style=\"text-align: right;\">\n",
              "      <th></th>\n",
              "      <th>x_initial</th>\n",
              "      <th>v_initial</th>\n",
              "      <th>x_step10</th>\n",
              "      <th>v_step10</th>\n",
              "      <th>x_step20</th>\n",
              "      <th>v_step20</th>\n",
              "      <th>x_step30</th>\n",
              "      <th>v_step30</th>\n",
              "      <th>x_step40</th>\n",
              "      <th>v_step40</th>\n",
              "      <th>...</th>\n",
              "      <th>x_step110</th>\n",
              "      <th>v_step110</th>\n",
              "      <th>x_step120</th>\n",
              "      <th>v_step120</th>\n",
              "      <th>x_step130</th>\n",
              "      <th>v_step130</th>\n",
              "      <th>x_step140</th>\n",
              "      <th>v_step140</th>\n",
              "      <th>x_step150</th>\n",
              "      <th>v_step150</th>\n",
              "    </tr>\n",
              "  </thead>\n",
              "  <tbody>\n",
              "    <tr>\n",
              "      <th>0</th>\n",
              "      <td>0.209908</td>\n",
              "      <td>-0.003666</td>\n",
              "      <td>0.199147</td>\n",
              "      <td>-0.038578</td>\n",
              "      <td>0.172721</td>\n",
              "      <td>-0.065125</td>\n",
              "      <td>0.136408</td>\n",
              "      <td>-0.077315</td>\n",
              "      <td>0.098304</td>\n",
              "      <td>-0.072077</td>\n",
              "      <td>...</td>\n",
              "      <td>0.176587</td>\n",
              "      <td>0.062585</td>\n",
              "      <td>0.201367</td>\n",
              "      <td>0.034662</td>\n",
              "      <td>0.210003</td>\n",
              "      <td>-0.000767</td>\n",
              "      <td>0.200629</td>\n",
              "      <td>-0.036032</td>\n",
              "      <td>0.175269</td>\n",
              "      <td>-0.063491</td>\n",
              "    </tr>\n",
              "    <tr>\n",
              "      <th>1</th>\n",
              "      <td>0.209634</td>\n",
              "      <td>-0.007323</td>\n",
              "      <td>0.197138</td>\n",
              "      <td>-0.041725</td>\n",
              "      <td>0.169414</td>\n",
              "      <td>-0.067068</td>\n",
              "      <td>0.132533</td>\n",
              "      <td>-0.077595</td>\n",
              "      <td>0.094735</td>\n",
              "      <td>-0.070589</td>\n",
              "      <td>...</td>\n",
              "      <td>0.179661</td>\n",
              "      <td>0.060327</td>\n",
              "      <td>0.203018</td>\n",
              "      <td>0.031337</td>\n",
              "      <td>0.209873</td>\n",
              "      <td>-0.004432</td>\n",
              "      <td>0.198746</td>\n",
              "      <td>-0.039247</td>\n",
              "      <td>0.172041</td>\n",
              "      <td>-0.065549</td>\n",
              "    </tr>\n",
              "    <tr>\n",
              "      <th>2</th>\n",
              "      <td>0.209176</td>\n",
              "      <td>-0.010965</td>\n",
              "      <td>0.194974</td>\n",
              "      <td>-0.044780</td>\n",
              "      <td>0.166014</td>\n",
              "      <td>-0.068860</td>\n",
              "      <td>0.128649</td>\n",
              "      <td>-0.077695</td>\n",
              "      <td>0.091245</td>\n",
              "      <td>-0.068935</td>\n",
              "      <td>...</td>\n",
              "      <td>0.182619</td>\n",
              "      <td>0.057933</td>\n",
              "      <td>0.204501</td>\n",
              "      <td>0.027943</td>\n",
              "      <td>0.209560</td>\n",
              "      <td>-0.008087</td>\n",
              "      <td>0.196704</td>\n",
              "      <td>-0.042376</td>\n",
              "      <td>0.168714</td>\n",
              "      <td>-0.067461</td>\n",
              "    </tr>\n",
              "    <tr>\n",
              "      <th>3</th>\n",
              "      <td>0.208537</td>\n",
              "      <td>-0.014583</td>\n",
              "      <td>0.192660</td>\n",
              "      <td>-0.047736</td>\n",
              "      <td>0.162528</td>\n",
              "      <td>-0.070497</td>\n",
              "      <td>0.124763</td>\n",
              "      <td>-0.077617</td>\n",
              "      <td>0.087842</td>\n",
              "      <td>-0.067118</td>\n",
              "      <td>...</td>\n",
              "      <td>0.185455</td>\n",
              "      <td>0.055411</td>\n",
              "      <td>0.205813</td>\n",
              "      <td>0.024487</td>\n",
              "      <td>0.209065</td>\n",
              "      <td>-0.011725</td>\n",
              "      <td>0.194508</td>\n",
              "      <td>-0.045411</td>\n",
              "      <td>0.165295</td>\n",
              "      <td>-0.069221</td>\n",
              "    </tr>\n",
              "    <tr>\n",
              "      <th>4</th>\n",
              "      <td>0.207718</td>\n",
              "      <td>-0.018168</td>\n",
              "      <td>0.190201</td>\n",
              "      <td>-0.050587</td>\n",
              "      <td>0.158964</td>\n",
              "      <td>-0.071974</td>\n",
              "      <td>0.120887</td>\n",
              "      <td>-0.077359</td>\n",
              "      <td>0.084533</td>\n",
              "      <td>-0.065142</td>\n",
              "      <td>...</td>\n",
              "      <td>0.188161</td>\n",
              "      <td>0.052766</td>\n",
              "      <td>0.206950</td>\n",
              "      <td>0.020978</td>\n",
              "      <td>0.208388</td>\n",
              "      <td>-0.015337</td>\n",
              "      <td>0.192163</td>\n",
              "      <td>-0.048346</td>\n",
              "      <td>0.161792</td>\n",
              "      <td>-0.070825</td>\n",
              "    </tr>\n",
              "  </tbody>\n",
              "</table>\n",
              "<p>5 rows × 32 columns</p>\n",
              "</div>\n",
              "      <button class=\"colab-df-convert\" onclick=\"convertToInteractive('df-de91ae0a-2434-4183-8d80-6f9c4292e1ca')\"\n",
              "              title=\"Convert this dataframe to an interactive table.\"\n",
              "              style=\"display:none;\">\n",
              "        \n",
              "  <svg xmlns=\"http://www.w3.org/2000/svg\" height=\"24px\"viewBox=\"0 0 24 24\"\n",
              "       width=\"24px\">\n",
              "    <path d=\"M0 0h24v24H0V0z\" fill=\"none\"/>\n",
              "    <path d=\"M18.56 5.44l.94 2.06.94-2.06 2.06-.94-2.06-.94-.94-2.06-.94 2.06-2.06.94zm-11 1L8.5 8.5l.94-2.06 2.06-.94-2.06-.94L8.5 2.5l-.94 2.06-2.06.94zm10 10l.94 2.06.94-2.06 2.06-.94-2.06-.94-.94-2.06-.94 2.06-2.06.94z\"/><path d=\"M17.41 7.96l-1.37-1.37c-.4-.4-.92-.59-1.43-.59-.52 0-1.04.2-1.43.59L10.3 9.45l-7.72 7.72c-.78.78-.78 2.05 0 2.83L4 21.41c.39.39.9.59 1.41.59.51 0 1.02-.2 1.41-.59l7.78-7.78 2.81-2.81c.8-.78.8-2.07 0-2.86zM5.41 20L4 18.59l7.72-7.72 1.47 1.35L5.41 20z\"/>\n",
              "  </svg>\n",
              "      </button>\n",
              "      \n",
              "  <style>\n",
              "    .colab-df-container {\n",
              "      display:flex;\n",
              "      flex-wrap:wrap;\n",
              "      gap: 12px;\n",
              "    }\n",
              "\n",
              "    .colab-df-convert {\n",
              "      background-color: #E8F0FE;\n",
              "      border: none;\n",
              "      border-radius: 50%;\n",
              "      cursor: pointer;\n",
              "      display: none;\n",
              "      fill: #1967D2;\n",
              "      height: 32px;\n",
              "      padding: 0 0 0 0;\n",
              "      width: 32px;\n",
              "    }\n",
              "\n",
              "    .colab-df-convert:hover {\n",
              "      background-color: #E2EBFA;\n",
              "      box-shadow: 0px 1px 2px rgba(60, 64, 67, 0.3), 0px 1px 3px 1px rgba(60, 64, 67, 0.15);\n",
              "      fill: #174EA6;\n",
              "    }\n",
              "\n",
              "    [theme=dark] .colab-df-convert {\n",
              "      background-color: #3B4455;\n",
              "      fill: #D2E3FC;\n",
              "    }\n",
              "\n",
              "    [theme=dark] .colab-df-convert:hover {\n",
              "      background-color: #434B5C;\n",
              "      box-shadow: 0px 1px 3px 1px rgba(0, 0, 0, 0.15);\n",
              "      filter: drop-shadow(0px 1px 2px rgba(0, 0, 0, 0.3));\n",
              "      fill: #FFFFFF;\n",
              "    }\n",
              "  </style>\n",
              "\n",
              "      <script>\n",
              "        const buttonEl =\n",
              "          document.querySelector('#df-de91ae0a-2434-4183-8d80-6f9c4292e1ca button.colab-df-convert');\n",
              "        buttonEl.style.display =\n",
              "          google.colab.kernel.accessAllowed ? 'block' : 'none';\n",
              "\n",
              "        async function convertToInteractive(key) {\n",
              "          const element = document.querySelector('#df-de91ae0a-2434-4183-8d80-6f9c4292e1ca');\n",
              "          const dataTable =\n",
              "            await google.colab.kernel.invokeFunction('convertToInteractive',\n",
              "                                                     [key], {});\n",
              "          if (!dataTable) return;\n",
              "\n",
              "          const docLinkHtml = 'Like what you see? Visit the ' +\n",
              "            '<a target=\"_blank\" href=https://colab.research.google.com/notebooks/data_table.ipynb>data table notebook</a>'\n",
              "            + ' to learn more about interactive tables.';\n",
              "          element.innerHTML = '';\n",
              "          dataTable['output_type'] = 'display_data';\n",
              "          await google.colab.output.renderOutput(dataTable, element);\n",
              "          const docLink = document.createElement('div');\n",
              "          docLink.innerHTML = docLinkHtml;\n",
              "          element.appendChild(docLink);\n",
              "        }\n",
              "      </script>\n",
              "    </div>\n",
              "  </div>\n",
              "  "
            ],
            "text/plain": [
              "   x_initial  v_initial  x_step10  v_step10  x_step20  v_step20  x_step30  \\\n",
              "0   0.209908  -0.003666  0.199147 -0.038578  0.172721 -0.065125  0.136408   \n",
              "1   0.209634  -0.007323  0.197138 -0.041725  0.169414 -0.067068  0.132533   \n",
              "2   0.209176  -0.010965  0.194974 -0.044780  0.166014 -0.068860  0.128649   \n",
              "3   0.208537  -0.014583  0.192660 -0.047736  0.162528 -0.070497  0.124763   \n",
              "4   0.207718  -0.018168  0.190201 -0.050587  0.158964 -0.071974  0.120887   \n",
              "\n",
              "   v_step30  x_step40  v_step40  ...  x_step110  v_step110  x_step120  \\\n",
              "0 -0.077315  0.098304 -0.072077  ...   0.176587   0.062585   0.201367   \n",
              "1 -0.077595  0.094735 -0.070589  ...   0.179661   0.060327   0.203018   \n",
              "2 -0.077695  0.091245 -0.068935  ...   0.182619   0.057933   0.204501   \n",
              "3 -0.077617  0.087842 -0.067118  ...   0.185455   0.055411   0.205813   \n",
              "4 -0.077359  0.084533 -0.065142  ...   0.188161   0.052766   0.206950   \n",
              "\n",
              "   v_step120  x_step130  v_step130  x_step140  v_step140  x_step150  v_step150  \n",
              "0   0.034662   0.210003  -0.000767   0.200629  -0.036032   0.175269  -0.063491  \n",
              "1   0.031337   0.209873  -0.004432   0.198746  -0.039247   0.172041  -0.065549  \n",
              "2   0.027943   0.209560  -0.008087   0.196704  -0.042376   0.168714  -0.067461  \n",
              "3   0.024487   0.209065  -0.011725   0.194508  -0.045411   0.165295  -0.069221  \n",
              "4   0.020978   0.208388  -0.015337   0.192163  -0.048346   0.161792  -0.070825  \n",
              "\n",
              "[5 rows x 32 columns]"
            ]
          },
          "execution_count": 4,
          "metadata": {},
          "output_type": "execute_result"
        }
      ],
      "source": [
        "# Data Loading and Separation\n",
        "data = pd.read_csv(\"gen_data/heun_c1_u021.csv\", index_col=0)\n",
        "print(len(data))\n",
        "# limits of data\n",
        "umax = data.u.max()\n",
        "umin = data.u.min()\n",
        "\n",
        "print(f\"min: {umin}, max: {umax}\")\n",
        "# important parameters from data\n",
        "dt = data.phi[1] - data.phi[0]\n",
        "print(f\"dt: {dt}\")\n",
        "\n",
        "# ammount of points for the force function\n",
        "# more points -> more training\n",
        "N_ff = 200\n",
        "df = deepql.separate_data(df=data, run_length=150,\n",
        "     position='u', velocity='udot')\n",
        "\n",
        "print(len(df))\n",
        "df.head()\n"
      ]
    },
    {
      "cell_type": "code",
      "execution_count": 11,
      "metadata": {
        "colab": {
          "base_uri": "https://localhost:8080/"
        },
        "id": "vwk9FCROG4vZ",
        "outputId": "37b754d9-b9a0-4cda-f802-25e3672ad29e"
      },
      "outputs": [
        {
          "output_type": "stream",
          "name": "stdout",
          "text": [
            "0605_heunc1_pp_npp_epoch1000.pt  0605_heunc1_pp_npp_epoch3100.pt  heun_pp\n",
            "0605_heunc1_pp_npp_epoch1500.pt  0605_heunc1_pp_npp_epoch3265.pt\n",
            "0605_heunc1_pp_npp_epoch2300.pt  0605_heunc1_pp_npp_epoch500.pt\n"
          ]
        }
      ],
      "source": [
        "!cd model && ls"
      ]
    },
    {
      "cell_type": "code",
      "execution_count": 13,
      "metadata": {
        "colab": {
          "base_uri": "https://localhost:8080/",
          "height": 449
        },
        "id": "9Fwpux7WIoWO",
        "outputId": "b97fe7c7-7015-4505-eafc-a1aae59ba1c6"
      },
      "outputs": [
        {
          "output_type": "display_data",
          "data": {
            "text/plain": [
              "<Figure size 640x480 with 1 Axes>"
            ],
            "image/png": "[encoded data removed]"
          },
          "metadata": {}
        }
      ],
      "source": [
        "# Model\n",
        "model = torch.load(\"./model/0605_heunc1_pp_npp_epoch3100.pt\")\n",
        "model.plot_parameters()"
      ]
    },
    {
      "cell_type": "code",
      "execution_count": null,
      "metadata": {
        "id": "_EIU0oRcO0Gt"
      },
      "outputs": [],
      "source": [
        "# Other Model Easier to train\n",
        "\n",
        "#post_processing_epsilon = df.std().x_step150\n",
        "#post_processing_mean = df.mean().x_step150\n",
        "\n",
        "model = deepql.diffnet.diffNet(\n",
        "    depth=150, dt=dt, N=N_ff, lower_limit=umin, upper_limit=umax,\n",
        "    post_process=False, \n",
        "    force_type='position', debug=False\n",
        ")\n",
        "\n",
        "model.plot_parameters()"
      ]
    },
    {
      "cell_type": "code",
      "execution_count": 16,
      "metadata": {
        "id": "hXy8DZABGxyd"
      },
      "outputs": [],
      "source": [
        "# Hyperparameters\n",
        "smooth_rate = 0.05\n",
        "targets_rate = 1\n",
        "name = \"0609_heunc1\"\n",
        "\n",
        "batch_size = 30\n",
        "shuffle_batch = True\n",
        "\n",
        "# Learning rate\n",
        "learning_rate = 0.0003\n",
        "\n",
        "# Define loss function and optimizer\n",
        "L2_loss = nn.MSELoss()\n",
        "optimizer = torch.optim.SGD(model.parameters(), lr=learning_rate)\n",
        "\n",
        "# Learning rate scheduler\n",
        "scheduler = lr_scheduler.LinearLR(optimizer, start_factor=1.0, end_factor=0.001, total_iters=100)\n",
        "\n",
        "\n",
        "# initializing data\n",
        "my_dataset = deepql.MyDataset(df, step_size=150)\n",
        "my_dataloader = deepql.DataLoader(my_dataset, \n",
        "    batch_size=batch_size, shuffle=shuffle_batch)\n",
        "\n",
        "\n",
        "running_loss = 0"
      ]
    },
    {
      "cell_type": "code",
      "execution_count": 17,
      "metadata": {
        "id": "VEcmbmhTN0qF"
      },
      "outputs": [],
      "source": [
        "# another proposed scheduler\n",
        "from torch.optim.lr_scheduler import CosineAnnealingWarmRestarts\n",
        "scheduler = CosineAnnealingWarmRestarts(optimizer, \n",
        "                                        T_0 = 50,# Number of iterations for the first restart\n",
        "                                        T_mult = 1, # A factor increases TiTi​ after a restart\n",
        "                                        eta_min = 1e-9) # Minimum learning rate"
      ]
    },
    {
      "cell_type": "code",
      "execution_count": 18,
      "metadata": {
        "id": "fWrS5FyaQ7K6"
      },
      "outputs": [],
      "source": [
        "loss_array = []"
      ]
    },
    {
      "cell_type": "code",
      "execution_count": 19,
      "metadata": {
        "id": "3DPLkQbJH0wB"
      },
      "outputs": [],
      "source": [
        "# Define number of epochs\n",
        "num_epochs = 100"
      ]
    },
    {
      "cell_type": "code",
      "execution_count": null,
      "metadata": {
        "colab": {
          "base_uri": "https://localhost:8080/"
        },
        "id": "EZl-Dh5HHaMJ",
        "outputId": "df380738-4efc-4ae8-b7b3-09f86329f371"
      },
      "outputs": [
        {
          "output_type": "stream",
          "name": "stdout",
          "text": [
            "L2_loss: 0.0028134076856076717\n",
            "[Epoch 3101, Mini-batch     1] Loss: 0.000\n",
            "L2_loss: 0.0023962678387761116\n",
            "[Epoch 3101, Mini-batch    51] Loss: 0.002\n",
            "L2_loss: 0.003437221050262451\n",
            "[Epoch 3101, Mini-batch   101] Loss: 0.002\n",
            "L2_loss: 0.0027025467716157436\n",
            "[Epoch 3101, Mini-batch   151] Loss: 0.002\n",
            "L2_loss: 0.003374204272404313\n",
            "[Epoch 3101, Mini-batch   201] Loss: 0.002\n",
            "L2_loss: 0.0028897279407829046\n",
            "[Epoch 3101, Mini-batch   251] Loss: 0.002\n",
            "L2_loss: 0.002782754600048065\n",
            "[Epoch 3101, Mini-batch   301] Loss: 0.002\n",
            "L2_loss: 0.0019750185310840607\n",
            "[Epoch 3101, Mini-batch   351] Loss: 0.002\n",
            "L2_loss: 0.002370301866903901\n",
            "[Epoch 3101, Mini-batch   401] Loss: 0.002\n",
            "L2_loss: 0.0035906361881643534\n",
            "[Epoch 3101, Mini-batch   451] Loss: 0.002\n",
            "L2_loss: 0.002629366237670183\n",
            "[Epoch 3101, Mini-batch   501] Loss: 0.002\n",
            "L2_loss: 0.0026551729533821344\n",
            "[Epoch 3101, Mini-batch   551] Loss: 0.002\n",
            "L2_loss: 0.0026215261314064264\n",
            "[Epoch 3101, Mini-batch   601] Loss: 0.002\n",
            "L2_loss: 0.002598225139081478\n",
            "[Epoch 3101, Mini-batch   651] Loss: 0.002\n"
          ]
        }
      ],
      "source": [
        "#used for graphs\n",
        "max_i = len(my_dataloader)\n",
        "model.train(); # switch a modo entranmiento\n",
        "\n",
        "# Iterate through epochs\n",
        "base_epoch = 3100\n",
        "\n",
        "\n",
        "# Training\n",
        "for epoch in range(base_epoch, base_epoch+num_epochs+1):\n",
        "    # Iterate through data in the DataLoader\n",
        "    for i, data in enumerate(my_dataloader, 0):\n",
        "        # Get inputs and targets from data\n",
        "        inputs, targets = data\n",
        "\n",
        "        # Zero the parameter gradients\n",
        "        optimizer.zero_grad()\n",
        "\n",
        "        # Forward pass\n",
        "        outputs = model.forward(inputs)\n",
        "\n",
        "        \n",
        "        # Compute loss\n",
        "        L2_computed_loss = L2_loss(outputs, targets)\n",
        "        loss = smooth_rate * deepql.diffnet.smooth_loss(list(model.parameters())[0]) +\\\n",
        "            targets_rate * L2_computed_loss\n",
        "\n",
        "        loss_array.append(loss.item())\n",
        "        # Backward pass and optimization\n",
        "        loss.backward()\n",
        "        optimizer.step()\n",
        "\n",
        "        # Print statistics\n",
        "        running_loss += loss.item()\n",
        "        if i % 50 == 0:    # Print every 100 mini-batches\n",
        "            print(\"L2_loss:\", L2_computed_loss.detach().item())\n",
        "            loss_array.append(L2_computed_loss.detach().item())\n",
        "            print('[Epoch %d, Mini-batch %5d] Loss: %.3f' %\n",
        "                (epoch + 1, i + 1, running_loss / 100))\n",
        "            running_loss = 0.0\n",
        "\n",
        "    # scheduler workings\n",
        "    scheduler.step()\n",
        "\n",
        "\n",
        "    if epoch % 100 == 10:\n",
        "        # saving the model\n",
        "        torch.save(model, f\"./model/{name}_epoch{epoch}.pt\")\n",
        "        \n",
        "        #ploting\n",
        "        model.plot_parameters()\n",
        "        plt.show()\n",
        "        # plt.savefig(f\"./evolution_force/{name}_epoch_{epoch}_loss_{running_loss :.2f}.png\")\n",
        "\n",
        "\n",
        "# finish training\n",
        "#torch.save(model, f\"./model/{name}_epoch{epoch}.pt\")\n",
        "print('Finished training')\n",
        "\n"
      ]
    },
    {
      "cell_type": "code",
      "execution_count": null,
      "metadata": {
        "colab": {
          "base_uri": "https://localhost:8080/"
        },
        "id": "OREIIuy1LUz-",
        "outputId": "113b21e8-b1da-44c5-fd6d-70b07bc9d969"
      },
      "outputs": [
        {
          "data": {
            "text/plain": [
              "3264"
            ]
          },
          "execution_count": 12,
          "metadata": {},
          "output_type": "execute_result"
        }
      ],
      "source": [
        "epoch"
      ]
    },
    {
      "cell_type": "code",
      "execution_count": null,
      "metadata": {
        "colab": {
          "base_uri": "https://localhost:8080/",
          "height": 449
        },
        "id": "XxM2LRANXzsu",
        "outputId": "b6af09e3-b9da-4da5-cdb5-9d5e16b2cb97"
      },
      "outputs": [
        {
          "data": {
            "image/png": "[encoded data removed]",
            "text/plain": [
              "<Figure size 640x480 with 1 Axes>"
            ]
          },
          "metadata": {},
          "output_type": "display_data"
        }
      ],
      "source": [
        "model.plot_parameters()\n",
        "plt.show()"
      ]
    },
    {
      "cell_type": "code",
      "execution_count": null,
      "metadata": {
        "colab": {
          "base_uri": "https://localhost:8080/",
          "height": 452
        },
        "id": "zvUsBi_NXxTm",
        "outputId": "23852c70-b46c-4333-df7c-a550863edfa4"
      },
      "outputs": [
        {
          "data": {
            "image/png": "[encoded data removed]",
            "text/plain": [
              "<Figure size 640x480 with 1 Axes>"
            ]
          },
          "metadata": {},
          "output_type": "display_data"
        }
      ],
      "source": [
        "# plot loss\n",
        "plt.plot(loss_array)\n",
        "plt.title(\"evolution of L2 loss output target\")\n",
        "plt.show()"
      ]
    },
    {
      "cell_type": "code",
      "execution_count": null,
      "metadata": {
        "colab": {
          "base_uri": "https://localhost:8080/"
        },
        "id": "HZVqLkSSdkdk",
        "outputId": "d4658894-c1af-4987-de07-7379cae52ad0"
      },
      "outputs": [
        {
          "data": {
            "text/plain": [
              "3099"
            ]
          },
          "execution_count": 96,
          "metadata": {},
          "output_type": "execute_result"
        }
      ],
      "source": []
    },
    {
      "cell_type": "code",
      "execution_count": null,
      "metadata": {
        "id": "vJ7vKFPQNZXQ"
      },
      "outputs": [],
      "source": [
        "total_epochs = 500 + 500 + 500"
      ]
    },
    {
      "cell_type": "code",
      "execution_count": null,
      "metadata": {
        "id": "xAIH1C3KHb7_"
      },
      "outputs": [],
      "source": [
        "# saving the model\n",
        "torch.save(model, f\"./model/{name}_npp_epoch{epoch+1}.pt\")"
      ]
    },
    {
      "cell_type": "code",
      "execution_count": null,
      "metadata": {
        "id": "GL8gK1N2O2i9"
      },
      "outputs": [],
      "source": []
    }
  ],
  "metadata": {
    "colab": {
      "provenance": []
    },
    "kernelspec": {
      "display_name": "Python 3",
      "name": "python3"
    },
    "language_info": {
      "name": "python"
    }
  },
  "nbformat": 4,
  "nbformat_minor": 0
}