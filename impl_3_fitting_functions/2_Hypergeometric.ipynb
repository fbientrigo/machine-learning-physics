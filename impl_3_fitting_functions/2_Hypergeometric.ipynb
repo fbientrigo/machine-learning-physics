{
 "cells": [
  {
   "attachments": {},
   "cell_type": "markdown",
   "metadata": {},
   "source": [
    "# Computacion de Funcion Hypergeometrica\n",
    "\n",
    "```python\n",
    "F(a,b;c;z) = exp(lgamma(c) - lgamma(b) - lgamma(c - b)) * z^a * (1 - z)^(c - a - b) * beta(a + 1 - c + b, c - a - b)\n",
    "```\n",
    "\n",
    "\\begin{align*}\n",
    "F(a,b;c;z) &= \\frac{\\Gamma(c)}{\\Gamma(b)\\Gamma(c-b)} \\int_{0}^{1} t^{b-1}(1-t)^{c-b-1}(1-tz)^{-a} dt \\\n",
    "\n",
    "\\end{align*}\n",
    "\n",
    "\\begin{align*}\n",
    "&= \\frac{\\Gamma(c)}{\\Gamma(b)\\Gamma(c-b)} \\int_{0}^{1} \\frac{t^{b-1}(1-t)^{c-b-1}}{(1-tz)^{c-b}} (1-tz)^{c-b-a} dt \\\n",
    "\\end{align*}\n",
    "\n",
    "\\begin{align*}\n",
    "&= \\frac{\\Gamma(c)}{\\Gamma(b)\\Gamma(c-b)} \\int_{0}^{1} \\frac{(1-tz)^{c-b-a-1}}{(1-t)^{a}} t^{b-1}(1-t)^{c-b-1} dt \\\n",
    "&= \\frac{\\Gamma(c)}{\\Gamma(b)\\Gamma(c-b)} \\int_{0}^{1} \\sum_{n=0}^{\\infty} \\binom{n+a-1}{a-1} t^{n+b-1}(1-t)^{c-n-b-1} z^n dt \\\n",
    "\\end{align*}\n",
    "\n",
    "\\begin{align*}\n",
    "&= \\sum_{n=0}^{\\infty} \\frac{(a)_n (b)n}{(c)_n} z^n \\int_{0}^{1} \\binom{n+a-1}{a-1} t^{n+b-1}(1-t)^{c-n-b-1} dt \\\n",
    "&= \\sum_{n=0}^{\\infty} \\frac{(a)_n (b)_n}{(c)_n} z^n \\beta(n+a,c-n-a) \\\n",
    "\n",
    "\\end{align*}\n",
    "\n",
    "\n",
    "\n",
    "\n",
    "\n",
    "\n",
    "\n",
    "\n",
    "\n",
    "\n",
    "Can read more in:\n",
    "- Abramowitz, M. and Stegun, I. A. (1965). Handbook of Mathematical Functions with Formulas, Graphs, and Mathematical Tables. National Bureau of Standards.\n",
    "- Olver, F. W. J., Lozier, D. W., Boisvert, R. F., and Clark, C. W. (2010). NIST Handbook of Mathematical Functions. Cambridge University Press.\n",
    "- Wikipedia page on the Gauss hypergeometric function: https://en.wikipedia.org/wiki/Hypergeometric_function"
   ]
  },
  {
   "cell_type": "code",
   "execution_count": 16,
   "metadata": {},
   "outputs": [],
   "source": [
    "import torch\n",
    "\n",
    "#define beta function\n",
    "def beta(x, y):\n",
    "    return torch.exp(torch.lgamma(x) + torch.lgamma(y) - torch.lgamma(x + y))\n",
    "\n",
    "\n",
    "class HyperGeomFunction(torch.autograd.Function):\n",
    "    @staticmethod\n",
    "    def forward(ctx, a, b, c, z):\n",
    "        ctx.save_for_backward(a, b, c, z)\n",
    "        result = 0\n",
    "        for n in range(100):\n",
    "            result += torch.exp(torch.lgamma(c) - torch.lgamma(b) - torch.lgamma(c - b)) \\\n",
    "                      * z.pow(n + a) * (1 - z).pow(c - a - b - n) \\\n",
    "                      * beta(n + a - c + b, c - a - b)\n",
    "        return result\n",
    "        \n",
    "    @staticmethod\n",
    "    def backward(ctx, grad_output):\n",
    "        a, b, c, z = ctx.saved_tensors\n",
    "        # Derivatives of Euler's Hypergeometric function with respect to parameters a, b, c, and z\n",
    "        dfda = grad_output * (HyperGeomFunction(a+1, b, c, z) - HyperGeomFunction(a, b, c, z) * (c - b - a) / z)\n",
    "        dfdb = grad_output * (HyperGeomFunction(a, b+1, c, z) - HyperGeomFunction(a, b, c, z) * (b - a) / (1 - z))\n",
    "        dfdc = grad_output * (HyperGeomFunction(a, b, c+1, z) - HyperGeomFunction(a, b, c, z) * (a + b - c) / (1 - z))\n",
    "        dfdz = grad_output * (HyperGeomFunction(a, b, c, z) * (a / z - (c - a - b) / (1 - z)))\n",
    "        return dfda, dfdb, dfdc, dfdz\n",
    "\n",
    "def hypergeom(a, b, c, z):\n",
    "    a = torch.tensor(a, requires_grad=False, dtype=torch.float64)\n",
    "    b = torch.tensor(b, requires_grad=False, dtype=torch.float64)\n",
    "    c = torch.tensor(c, requires_grad=False, dtype=torch.float64)\n",
    "    z = torch.tensor(z, requires_grad=False, dtype=torch.float64)\n",
    "    return HyperGeomFunction.apply(a, b, c, z)\n"
   ]
  },
  {
   "cell_type": "code",
   "execution_count": null,
   "metadata": {},
   "outputs": [],
   "source": []
  },
  {
   "cell_type": "code",
   "execution_count": 20,
   "metadata": {},
   "outputs": [
    {
     "name": "stderr",
     "output_type": "stream",
     "text": [
      "C:\\Users\\fbien.DESKTOP-6FMEAR7\\AppData\\Local\\Temp\\ipykernel_5736\\239533778.py:33: UserWarning: To copy construct from a tensor, it is recommended to use sourceTensor.clone().detach() or sourceTensor.clone().detach().requires_grad_(True), rather than torch.tensor(sourceTensor).\n",
      "  z = torch.tensor(z, requires_grad=False, dtype=torch.float64)\n"
     ]
    },
    {
     "data": {
      "text/plain": [
       "array([nan, nan, nan])"
      ]
     },
     "execution_count": 20,
     "metadata": {},
     "output_type": "execute_result"
    }
   ],
   "source": [
    "# testing this hypergeometric\n",
    "a = 1.0\n",
    "b = 2.0\n",
    "c = 3.0\n",
    "z = torch.tensor([0.1, 0.2, 0.3])\n",
    "\n",
    "import scipy.special\n",
    "expected_output = scipy.special.hyp2f1(a, b, c, z.detach())\n",
    "\n",
    "\n",
    "actual_output = hypergeom(a, b, c, z.detach()).detach().numpy()\n",
    "\n",
    "#import numpy.testing as npt\n",
    "#npt.assert_allclose(actual_output, expected_output, rtol=1e-5, atol=1e-5)\n",
    "actual_output"
   ]
  },
  {
   "cell_type": "code",
   "execution_count": 3,
   "metadata": {},
   "outputs": [],
   "source": [
    "import numpy as np\n",
    "import matplotlib.pyplot as plt\n",
    "\n",
    "# Generate some data using numpy\n",
    "x = np.linspace(0, 2*np.pi, 100)\n",
    "y = np.sin(x)\n",
    "\n",
    "# Convert the data to a torch tensor\n",
    "x_tensor = torch.from_numpy(x).float()\n",
    "y_tensor = torch.from_numpy(y).float()\n",
    "\n"
   ]
  },
  {
   "attachments": {},
   "cell_type": "markdown",
   "metadata": {},
   "source": [
    "## Hypergeo alternativew implementation"
   ]
  },
  {
   "cell_type": "code",
   "execution_count": 15,
   "metadata": {},
   "outputs": [],
   "source": [
    "import torch\n",
    "import math\n",
    "\n",
    "# Define the beta function\n",
    "def beta(x, y):\n",
    "    return torch.exp(torch.lgamma(x) + torch.lgamma(y) - torch.lgamma(x + y))\n",
    "\n",
    "# Define the forward and backward functions\n",
    "class HyperGeomFunction(torch.autograd.Function):\n",
    "    @staticmethod\n",
    "    def forward(ctx, a, b, c, z):\n",
    "        ctx.save_for_backward(a, b, c, z)\n",
    "        return torch.exp(torch.lgamma(c) - torch.lgamma(b) - torch.lgamma(c - b)) \\\n",
    "            * z.pow(a) * (1 - z).pow(c - a - b) * beta(a + 1 - c + b, c - a - b)\n",
    "    \n",
    "    @staticmethod\n",
    "    def backward(ctx, grad_output):\n",
    "        a, b, c, z = ctx.saved_tensors\n",
    "        # Derivatives of Euler's Hypergeometric function with respect to parameters a, b, c, and z\n",
    "        dfda = grad_output * (HyperGeomFunction.apply(a+1, b, c, z) \\\n",
    "            - HyperGeomFunction.apply(a, b, c, z) * (c - b - a) / z)\n",
    "        dfdb = grad_output * (HyperGeomFunction.apply(a, b+1, c, z) \\\n",
    "            - HyperGeomFunction.apply(a, b, c, z) * (b - a) / (1 - z))\n",
    "        dfdc = grad_output * (HyperGeomFunction.apply(a, b, c+1, z) \\\n",
    "            - HyperGeomFunction.apply(a, b, c, z) * (a + b - c) / (1 - z))\n",
    "        dfdz = grad_output * (HyperGeomFunction.apply(a, b, c, z) \\\n",
    "            * (a / z - (c - a - b) / (1 - z)))\n",
    "        return dfda, dfdb, dfdc, dfdz\n",
    "\n",
    "\n",
    "def hypergeom(a, b, c, z):\n",
    "    return HyperGeomFunction.apply(a, b, c, z)\n"
   ]
  },
  {
   "cell_type": "code",
   "execution_count": 25,
   "metadata": {},
   "outputs": [
    {
     "data": {
      "text/plain": [
       "tensor([nan, nan, nan, nan, nan, nan, nan, nan, nan, nan, nan, nan, nan, nan, nan, nan, nan, nan, nan, nan, nan, nan, nan, nan,\n",
       "        nan, nan, nan, nan, nan, nan, nan, nan, nan, nan, nan, nan, nan, nan, nan, nan, nan, nan, nan, nan, nan, nan, nan, nan,\n",
       "        nan, nan, nan, nan, nan, nan, nan, nan, nan, nan, nan, nan, nan, nan, nan, nan, nan, nan, nan, nan, nan, nan, nan, nan,\n",
       "        nan, nan, nan, nan, nan, nan, nan, nan, nan, nan, nan, nan, nan, nan, nan, nan, nan, nan, nan, nan, nan, nan, nan, nan,\n",
       "        nan, nan, nan, nan], dtype=torch.float64)"
      ]
     },
     "execution_count": 25,
     "metadata": {},
     "output_type": "execute_result"
    }
   ],
   "source": [
    "import matplotlib.pyplot as plt\n",
    "\n",
    "# Generate some data using numpy\n",
    "z = np.linspace(0, 0.5, 100)\n",
    "\n",
    "# Compute the known hypergeometric function\n",
    "F = (1 - z)**(-2)\n",
    "\n",
    "# Compute the function using our implementation\n",
    "a = torch.tensor(1)\n",
    "b = torch.tensor(2)\n",
    "c = a + b\n",
    "z = torch.tensor(z)\n",
    "F_hat = HyperGeomFunction.apply(a, b, c, z)\n",
    "\n",
    "\n",
    "F_hat"
   ]
  },
  {
   "cell_type": "code",
   "execution_count": 24,
   "metadata": {},
   "outputs": [
    {
     "data": {
      "image/png": "[encoded data removed]",
      "text/plain": [
       "<Figure size 432x288 with 1 Axes>"
      ]
     },
     "metadata": {
      "needs_background": "light"
     },
     "output_type": "display_data"
    }
   ],
   "source": [
    "# Plot the results\n",
    "plt.plot(z.numpy(), F, label='Known hypergeometric')\n",
    "plt.plot(z.numpy(), F_hat.detach().numpy(), '--', label='Our implementation')\n",
    "plt.legend()\n",
    "plt.show()"
   ]
  },
  {
   "cell_type": "code",
   "execution_count": null,
   "metadata": {},
   "outputs": [],
   "source": []
  }
 ],
 "metadata": {
  "kernelspec": {
   "display_name": "deepl",
   "language": "python",
   "name": "python3"
  },
  "language_info": {
   "codemirror_mode": {
    "name": "ipython",
    "version": 3
   },
   "file_extension": ".py",
   "mimetype": "text/x-python",
   "name": "python",
   "nbconvert_exporter": "python",
   "pygments_lexer": "ipython3",
   "version": "3.10.9"
  },
  "orig_nbformat": 4
 },
 "nbformat": 4,
 "nbformat_minor": 2
}
