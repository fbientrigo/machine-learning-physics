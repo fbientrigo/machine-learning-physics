{
  "cells": [
    {
      "attachments": {},
      "cell_type": "markdown",
      "metadata": {},
      "source": [
        "# Torching\n",
        "A jupyter notebook with an explained guide of the main usage of Pytorch for the use on deep neural networks, includes the explanation of:\n",
        "- Tensors\n",
        "- Autogradient"
      ]
    },
    {
      "cell_type": "code",
      "execution_count": 1,
      "metadata": {
        "id": "tgS_4JHpXoN0"
      },
      "outputs": [],
      "source": [
        "import torch\n",
        "import torch.nn as nn\n",
        "import matplotlib.pyplot as plt\n",
        "\n",
        "import torch.nn.functional as F # functions\n",
        "\n",
        "from torch.optim import SGD\n",
        "\n",
        "import numpy as np"
      ]
    },
    {
      "attachments": {},
      "cell_type": "markdown",
      "metadata": {
        "id": "YVkpLg1HXqCL"
      },
      "source": [
        "## 1. Components: Tensors\n",
        "- `tensor`: description and usage of the main component of the pytorch library, tensors.\n",
        "    - slicing\n",
        "    - adding\n",
        "    - extracting components\n",
        "    - usage of gpu"
      ]
    },
    {
      "cell_type": "code",
      "execution_count": 2,
      "metadata": {
        "colab": {
          "base_uri": "https://localhost:8080/"
        },
        "id": "EVFBSpENXoN2",
        "outputId": "8d9cf73d-2f31-4e00-d379-5a1542a622e4"
      },
      "outputs": [
        {
          "data": {
            "text/plain": [
              "tensor([[0.0359, 0.2398, 0.9134, 0.0017],\n",
              "        [0.5934, 0.6840, 0.4614, 0.4077],\n",
              "        [0.1225, 0.4044, 0.4066, 0.1160],\n",
              "        [0.9987, 0.1779, 0.5521, 0.2259],\n",
              "        [0.5449, 0.9703, 0.9951, 0.4437]])"
            ]
          },
          "execution_count": 2,
          "metadata": {},
          "output_type": "execute_result"
        }
      ],
      "source": [
        "x = torch.rand(5,4) #quick way to write 5 rows 4 columns\n",
        "x[:,:] # same syntax as numpy"
      ]
    },
    {
      "cell_type": "code",
      "execution_count": 3,
      "metadata": {
        "colab": {
          "base_uri": "https://localhost:8080/"
        },
        "id": "Nrgjg2jwNB71",
        "outputId": "5376e1f6-b1b2-4947-f623-77748a02b209"
      },
      "outputs": [
        {
          "data": {
            "text/plain": [
              "tensor([[0.9194, 0.3988, 1.8719, 0.5872],\n",
              "        [1.0945, 1.1008, 1.1452, 0.4539],\n",
              "        [0.5878, 0.9565, 0.9700, 0.2345],\n",
              "        [1.3509, 1.1454, 1.5199, 0.8703],\n",
              "        [0.6132, 1.5163, 1.2628, 1.3843]])"
            ]
          },
          "execution_count": 3,
          "metadata": {},
          "output_type": "execute_result"
        }
      ],
      "source": [
        "# adding in place \n",
        "y = torch.rand(5,4)\n",
        "y.add_(x) # y = y + x"
      ]
    },
    {
      "cell_type": "code",
      "execution_count": 4,
      "metadata": {
        "colab": {
          "base_uri": "https://localhost:8080/"
        },
        "id": "9yQHzr6vLliK",
        "outputId": "a7545ce1-7c49-444a-94fb-ea24a4478bb3"
      },
      "outputs": [
        {
          "name": "stdout",
          "output_type": "stream",
          "text": [
            "tensor([[0.0359, 0.2398, 0.9134, 0.0017, 0.5934, 0.6840, 0.4614, 0.4077, 0.1225,\n",
            "         0.4044],\n",
            "        [0.4066, 0.1160, 0.9987, 0.1779, 0.5521, 0.2259, 0.5449, 0.9703, 0.9951,\n",
            "         0.4437]])\n",
            "torch.Size([2, 10])\n"
          ]
        }
      ],
      "source": [
        "z = x.view(-1, 10)\n",
        "print(z)\n",
        "print(z.size())"
      ]
    },
    {
      "cell_type": "code",
      "execution_count": 5,
      "metadata": {
        "colab": {
          "base_uri": "https://localhost:8080/"
        },
        "id": "6cNwNtrFLuj4",
        "outputId": "717aba69-2ef9-4caa-c937-49191ec2c25e"
      },
      "outputs": [
        {
          "name": "stdout",
          "output_type": "stream",
          "text": [
            "tensor(0.0359)\n",
            "tensor(0.0359)\n",
            "====\n",
            "tensor(1.0359)\n",
            "tensor(1.0359)\n"
          ]
        }
      ],
      "source": [
        "print(z[0,0])\n",
        "print(x[0,0])\n",
        "print(\"====\")\n",
        "z += 1 # modification of a view affects all, because they are pointers\n",
        "print(z[0,0])\n",
        "print(x[0,0])"
      ]
    },
    {
      "cell_type": "code",
      "execution_count": 6,
      "metadata": {
        "colab": {
          "base_uri": "https://localhost:8080/"
        },
        "id": "sEqDYmhDMET8",
        "outputId": "2d9957fd-e41b-45c2-82a8-a5513886baa5"
      },
      "outputs": [
        {
          "data": {
            "text/plain": [
              "1.6839582920074463"
            ]
          },
          "execution_count": 6,
          "metadata": {},
          "output_type": "execute_result"
        }
      ],
      "source": [
        "x[1,1].item() # extract a number"
      ]
    },
    {
      "cell_type": "markdown",
      "metadata": {
        "id": "50JfYofZMr5k"
      },
      "source": [
        "translate to numpy array, but they still share memory addres"
      ]
    },
    {
      "cell_type": "code",
      "execution_count": 7,
      "metadata": {
        "colab": {
          "base_uri": "https://localhost:8080/"
        },
        "id": "BpmsQrnxMjtL",
        "outputId": "cdc8fc60-250f-4005-e902-2358cb4ae47e"
      },
      "outputs": [
        {
          "name": "stdout",
          "output_type": "stream",
          "text": [
            "tensor([[1., 1., 1.],\n",
            "        [1., 1., 1.],\n",
            "        [1., 1., 1.]])\n",
            "[[1. 1. 1.]\n",
            " [1. 1. 1.]\n",
            " [1. 1. 1.]]\n",
            "====\n",
            "tensor([[2., 2., 2.],\n",
            "        [2., 2., 2.],\n",
            "        [2., 2., 2.]])\n",
            "[[2. 2. 2.]\n",
            " [2. 2. 2.]\n",
            " [2. 2. 2.]]\n"
          ]
        }
      ],
      "source": [
        "A = torch.ones(3,3)\n",
        "N = A.numpy()\n",
        "\n",
        "print(A)\n",
        "print(N)\n",
        "print(\"====\")\n",
        "N += 1\n",
        "print(A)\n",
        "print(N)"
      ]
    },
    {
      "cell_type": "code",
      "execution_count": 8,
      "metadata": {
        "colab": {
          "base_uri": "https://localhost:8080/"
        },
        "id": "jWxAHNi-MyBt",
        "outputId": "0d63eb61-faaf-4eef-c0f0-db5273095749"
      },
      "outputs": [
        {
          "name": "stdout",
          "output_type": "stream",
          "text": [
            "tensor([[2., 2., 2.],\n",
            "        [2., 2., 2.],\n",
            "        [2., 2., 2.]], dtype=torch.float64)\n",
            "tensor([[1., 1., 1.],\n",
            "        [1., 1., 1.],\n",
            "        [1., 1., 1.]], dtype=torch.float64)\n"
          ]
        }
      ],
      "source": [
        "#construct from numpy\n",
        "a  = np.ones((3,3))\n",
        "b = torch.from_numpy(a) #share memory\n",
        "c = torch.tensor(a) # new copy\n",
        "\n",
        "a += 1\n",
        "print(b)\n",
        "print(c)"
      ]
    },
    {
      "cell_type": "markdown",
      "metadata": {
        "id": "xjs7NBZ-Npvf"
      },
      "source": [
        "tensors can exist on cpu or gpu"
      ]
    },
    {
      "cell_type": "code",
      "execution_count": 9,
      "metadata": {
        "colab": {
          "base_uri": "https://localhost:8080/"
        },
        "id": "XG9e5MivNeWK",
        "outputId": "4b22ffb1-20ef-464c-afaa-8c2ffff46561"
      },
      "outputs": [
        {
          "data": {
            "text/plain": [
              "device(type='cpu')"
            ]
          },
          "execution_count": 9,
          "metadata": {},
          "output_type": "execute_result"
        }
      ],
      "source": [
        "device = torch.device('cuda' if torch.cuda.is_available() else 'cpu')\n",
        "device"
      ]
    },
    {
      "cell_type": "code",
      "execution_count": 10,
      "metadata": {
        "colab": {
          "base_uri": "https://localhost:8080/"
        },
        "id": "gdeOzyq-N0Ma",
        "outputId": "60dbe61f-fcec-4f55-8a50-da2fb6019f9d"
      },
      "outputs": [
        {
          "name": "stdout",
          "output_type": "stream",
          "text": [
            "10.1 µs ± 3.2 µs per loop (mean ± std. dev. of 7 runs, 100,000 loops each)\n"
          ]
        }
      ],
      "source": [
        "%%timeit\n",
        "x = torch.rand(5,4).to(device) # move (slower)\n"
      ]
    },
    {
      "cell_type": "code",
      "execution_count": 11,
      "metadata": {
        "colab": {
          "base_uri": "https://localhost:8080/"
        },
        "id": "3y5EqtHYOT79",
        "outputId": "cede2453-3b0e-4080-c0f4-8a701df2da29"
      },
      "outputs": [
        {
          "name": "stdout",
          "output_type": "stream",
          "text": [
            "9.24 µs ± 2.08 µs per loop (mean ± std. dev. of 7 runs, 100,000 loops each)\n"
          ]
        }
      ],
      "source": [
        "%%timeit\n",
        "z = torch.rand(5,4, device=device) # create inside selected device"
      ]
    },
    {
      "attachments": {},
      "cell_type": "markdown",
      "metadata": {
        "id": "UTHeFhOFO8R9"
      },
      "source": [
        "# 2. Autograd\n",
        "autograd is an engine for computing the vector Jacobian product; that is taking their partial derivatives and applying chain rule\n",
        "\n",
        "each operation done on a tensor that has `requires_grad` is tracked in a operation graph, important for the *backward propagation*"
      ]
    },
    {
      "cell_type": "code",
      "execution_count": 12,
      "metadata": {
        "colab": {
          "base_uri": "https://localhost:8080/"
        },
        "id": "9g27eOlsOgYr",
        "outputId": "79304f68-92b7-4767-e78c-1dc4f289673b"
      },
      "outputs": [
        {
          "name": "stdout",
          "output_type": "stream",
          "text": [
            "tensor([0.0110, 0.5825, 0.1373], requires_grad=True)\n",
            "tensor([2.0110, 2.5825, 2.1373], grad_fn=<AddBackward0>)\n",
            "<AddBackward0 object at 0x000001D4CEBA5EA0>\n"
          ]
        }
      ],
      "source": [
        "import torch\n",
        "\n",
        "# requires_grad = True -> track all operations in operational graph\n",
        "x = torch.rand(3, requires_grad = True)\n",
        "y = x + 2\n",
        "\n",
        "print(x)\n",
        "print(y)\n",
        "print(y.grad_fn)"
      ]
    },
    {
      "cell_type": "code",
      "execution_count": 13,
      "metadata": {
        "colab": {
          "base_uri": "https://localhost:8080/"
        },
        "id": "dDfK9oBxVDn_",
        "outputId": "f109cdf3-03e7-42d8-e084-d153c768d864"
      },
      "outputs": [
        {
          "name": "stdout",
          "output_type": "stream",
          "text": [
            "tensor([12.1326, 20.0075, 13.7040], grad_fn=<MulBackward0>)\n",
            "tensor(15.2813, grad_fn=<MeanBackward0>)\n"
          ]
        }
      ],
      "source": [
        "# executing more operations\n",
        "z = y * y * 3\n",
        "print(z)\n",
        "z = z.mean()\n",
        "print(z)"
      ]
    },
    {
      "cell_type": "code",
      "execution_count": 14,
      "metadata": {
        "colab": {
          "base_uri": "https://localhost:8080/"
        },
        "id": "DzJ5BZoNVNks",
        "outputId": "c3c863fd-bfa9-47b8-edc1-f7b5e3066f41"
      },
      "outputs": [
        {
          "name": "stdout",
          "output_type": "stream",
          "text": [
            "None\n",
            "tensor([4.0220, 5.1649, 4.2746])\n"
          ]
        }
      ],
      "source": [
        "print(x.grad)\n",
        "\n",
        "# but calling LAST_TENSOR.backward() then with brack propagation\n",
        "# does all the gradients automatically\n",
        "\n",
        "z.backward()\n",
        "print(x.grad) # dz/dx\n",
        "\n",
        "# during optimization is important to reset this after an epoch\n",
        "# optimizer.zero_grad() !!!"
      ]
    },
    {
      "cell_type": "code",
      "execution_count": 15,
      "metadata": {
        "colab": {
          "base_uri": "https://localhost:8080/"
        },
        "id": "I-gsuzCkWcHF",
        "outputId": "af9b20f0-e1ea-4f3a-f5f9-f7b7541f48ee"
      },
      "outputs": [
        {
          "name": "stdout",
          "output_type": "stream",
          "text": [
            "True\n",
            "False\n"
          ]
        }
      ],
      "source": [
        "# for detaching, is creating a copy without the requires_grad\n",
        "a = torch.rand(2,2, requires_grad = True)\n",
        "b = a.detach()\n",
        "print(a.requires_grad)\n",
        "print(b.requires_grad)"
      ]
    },
    {
      "cell_type": "code",
      "execution_count": 16,
      "metadata": {
        "colab": {
          "base_uri": "https://localhost:8080/"
        },
        "id": "K-aspiQAW5MY",
        "outputId": "2ac4a739-4afe-411d-817f-226a7d2dda04"
      },
      "outputs": [
        {
          "name": "stdout",
          "output_type": "stream",
          "text": [
            "True\n",
            "False\n"
          ]
        }
      ],
      "source": [
        "# also we can create an environment without this gradient score\n",
        "print(a.requires_grad)\n",
        "with torch.no_grad():\n",
        "    b = a**2\n",
        "    print(b.requires_grad)"
      ]
    },
    {
      "cell_type": "markdown",
      "metadata": {
        "id": "4as8NfURXL7X"
      },
      "source": [
        "# 3. Gradient Descent Autograd\n",
        "Linear rgression example:\n",
        "$$\n",
        "f(X) = W * X + B\n",
        "$$"
      ]
    },
    {
      "cell_type": "code",
      "execution_count": 17,
      "metadata": {
        "colab": {
          "base_uri": "https://localhost:8080/"
        },
        "id": "cQOnaWBtXKnc",
        "outputId": "44bd04da-40f9-4ad7-938f-4f0e08bbd462"
      },
      "outputs": [
        {
          "name": "stdout",
          "output_type": "stream",
          "text": [
            "Initial prediction: f(5.0) = 0.000\n"
          ]
        }
      ],
      "source": [
        "import torch\n",
        "\n",
        "# for this model the real relation is f(X) = 2 * X\n",
        "X = torch.tensor([i for i in range(1,10)], dtype=torch.float32)\n",
        "Y = torch.tensor([2*i for i in range(1,10)], dtype=torch.float32)\n",
        "\n",
        "# assuming only one weight ()\n",
        "w = torch.tensor(0.0, dtype=torch.float32, requires_grad=True)\n",
        "\n",
        "# run throught model\n",
        "def forward(x):\n",
        "    return w * x\n",
        "\n",
        "# loss MSE (Mean Squared Error) L2 Norm\n",
        "def loss(y, y_pred):\n",
        "    return ( (y_pred - y)**2 ).mean()\n",
        "\n",
        "X_test = 5.0\n",
        "print(f'Initial prediction: f({X_test}) = {forward(X_test).item():.3f}')"
      ]
    },
    {
      "cell_type": "code",
      "execution_count": 18,
      "metadata": {
        "colab": {
          "base_uri": "https://localhost:8080/",
          "height": 235
        },
        "id": "75O36iaQYQ-O",
        "outputId": "f35abc7d-fa95-444a-80da-a018bb7784bc"
      },
      "outputs": [
        {
          "name": "stdout",
          "output_type": "stream",
          "text": [
            "epoch 10: w = 2.000, \t loss= 0.000\n",
            "epoch 20: w = 2.000, \t loss= 0.000\n",
            "epoch 30: w = 2.000, \t loss= 0.000\n",
            "epoch 40: w = 2.000, \t loss= 0.000\n",
            "epoch 50: w = 2.000, \t loss= 0.000\n",
            "epoch 60: w = 2.000, \t loss= 0.000\n",
            "epoch 70: w = 2.000, \t loss= 0.000\n",
            "epoch 80: w = 2.000, \t loss= 0.000\n",
            "epoch 90: w = 2.000, \t loss= 0.000\n",
            "epoch 100: w = 2.000, \t loss= 0.000\n",
            "Prediction after training for 100 epochs: f(5.0) = 10.000\n"
          ]
        }
      ],
      "source": [
        "# training\n",
        "learning_rate = 0.01\n",
        "n_epochs = 100\n",
        "\n",
        "for epoch in range(n_epochs):\n",
        "    # prediction = forward pass\n",
        "    y_pred = forward(X)\n",
        "\n",
        "    # loss\n",
        "    L2 = loss(Y, y_pred)\n",
        "\n",
        "    # backward propagation (calculate the gradients)\n",
        "    L2.backward() #updates the gradient for w\n",
        "\n",
        "    # update weights\n",
        "    with torch.no_grad():   # updat w without impact\n",
        "        w -= learning_rate * w.grad\n",
        "\n",
        "    # zero the gradients after the update (cleaning)\n",
        "    w.grad.zero_()\n",
        "\n",
        "    if (epoch+1) % 10 == 0:\n",
        "        print(f'epoch {int(epoch+1)}: w = {w.item():.3f}, \\t loss= {L2.item():.3f}')\n",
        "\n",
        "print(f'Prediction after training for {epoch+1} epochs: f({X_test}) = {forward(X_test).item():.3f}')\n"
      ]
    },
    {
      "attachments": {},
      "cell_type": "markdown",
      "metadata": {
        "id": "SJWs35uBIWwf"
      },
      "source": [
        "# 4Implementation of a Model"
      ]
    },
    {
      "cell_type": "code",
      "execution_count": 19,
      "metadata": {
        "colab": {
          "base_uri": "https://localhost:8080/"
        },
        "id": "BOnh8lJgZW0f",
        "outputId": "b355104e-4ee2-4495-ba83-f48167f45406"
      },
      "outputs": [
        {
          "name": "stdout",
          "output_type": "stream",
          "text": [
            "n_data: 10; \t n_features: 1\n"
          ]
        }
      ],
      "source": [
        "import torch\n",
        "import torch.nn as nn\n",
        "\n",
        "# they need to have at least two dimension, to extract number of data and features\n",
        "X = torch.tensor([ [i] for i in range(10) ], dtype=torch.float32)\n",
        "Y = torch.tensor([ [2*i] for i in range(10) ], dtype=torch.float32)\n",
        "\n",
        "# Hyperparameters\n",
        "N_epochs = 100\n",
        "learning_rate = 0.01\n",
        "\n",
        "n_data, n_features = X.size()\n",
        "print(f\"n_data: {n_data}; \\t n_features: {n_features}\")"
      ]
    },
    {
      "cell_type": "code",
      "execution_count": 20,
      "metadata": {
        "id": "BAyRof86JY8J"
      },
      "outputs": [],
      "source": [
        "class LinearRegressor(nn.Module):\n",
        "    \"\"\" model for linear regression \"\"\"\n",
        "    def __init__(self, input_dimension, output_dimension):\n",
        "        super(LinearRegressor, self).__init__()\n",
        "        # define the components to use to build\n",
        "        # linear works for the W * X + B model\n",
        "        self.lineal_1 = nn.Linear(input_dimension, output_dimension) \n",
        "    \n",
        "    # then defines a forward method, \n",
        "    # defines how the data flows inside the network\n",
        "    def forward(self, x):\n",
        "        return self.lineal_1(x)"
      ]
    },
    {
      "cell_type": "code",
      "execution_count": 21,
      "metadata": {},
      "outputs": [
        {
          "name": "stdout",
          "output_type": "stream",
          "text": [
            "1\n"
          ]
        }
      ],
      "source": [
        "print(n_features)"
      ]
    },
    {
      "cell_type": "code",
      "execution_count": 22,
      "metadata": {
        "colab": {
          "base_uri": "https://localhost:8080/"
        },
        "id": "bD6l-EfUJ_o8",
        "outputId": "fc02cdb6-69a5-4367-ce03-1604fef69eed"
      },
      "outputs": [
        {
          "data": {
            "text/plain": [
              "tensor([[-0.1170],\n",
              "        [ 0.6482],\n",
              "        [ 1.4133],\n",
              "        [ 2.1785],\n",
              "        [ 2.9437],\n",
              "        [ 3.7089],\n",
              "        [ 4.4741],\n",
              "        [ 5.2392],\n",
              "        [ 6.0044],\n",
              "        [ 6.7696]], grad_fn=<AddmmBackward0>)"
            ]
          },
          "execution_count": 22,
          "metadata": {},
          "output_type": "execute_result"
        }
      ],
      "source": [
        "input_size, output_size = n_features, n_features\n",
        "\n",
        "# here the method __init__ is used first\n",
        "model = LinearRegressor(input_size, output_size)\n",
        "\n",
        "# we can call their methods\n",
        "y_pred = model.forward(X)\n",
        "y_pred"
      ]
    },
    {
      "cell_type": "code",
      "execution_count": 23,
      "metadata": {
        "colab": {
          "base_uri": "https://localhost:8080/"
        },
        "id": "PRj0SHitMXLN",
        "outputId": "5582fbec-6d73-49ac-f7fe-cc7dc0459fd6"
      },
      "outputs": [
        {
          "data": {
            "text/plain": [
              "tensor([[-0.1170],\n",
              "        [ 0.6482],\n",
              "        [ 1.4133],\n",
              "        [ 2.1785],\n",
              "        [ 2.9437],\n",
              "        [ 3.7089],\n",
              "        [ 4.4741],\n",
              "        [ 5.2392],\n",
              "        [ 6.0044],\n",
              "        [ 6.7696]])"
            ]
          },
          "execution_count": 23,
          "metadata": {},
          "output_type": "execute_result"
        }
      ],
      "source": [
        "y_pred.detach()"
      ]
    },
    {
      "cell_type": "code",
      "execution_count": 24,
      "metadata": {
        "colab": {
          "base_uri": "https://localhost:8080/",
          "height": 265
        },
        "id": "9eoUforXL-0m",
        "outputId": "cd8d18ff-3315-447d-df3d-0f4c08a585e6"
      },
      "outputs": [
        {
          "data": {
            "image/png": "[encoded data removed]",
            "text/plain": [
              "<Figure size 432x288 with 1 Axes>"
            ]
          },
          "metadata": {
            "needs_background": "light"
          },
          "output_type": "display_data"
        }
      ],
      "source": [
        "# see the difference of prediction\n",
        "def plot_difference(X, Y, y_pred):\n",
        "    import matplotlib.pyplot as plt\n",
        "\n",
        "    plt.plot(X, Y, label=\"data\")\n",
        "    plt.plot(X, y_pred, label=\"prediction\")\n",
        "    plt.legend()\n",
        "    plt.show()\n",
        "\n",
        "plot_difference(X, Y, y_pred.detach())"
      ]
    },
    {
      "cell_type": "code",
      "execution_count": 25,
      "metadata": {
        "colab": {
          "base_uri": "https://localhost:8080/"
        },
        "id": "pzhibaWvLAmD",
        "outputId": "22e897c3-d996-4c32-9e31-8aac7e8f698d"
      },
      "outputs": [
        {
          "data": {
            "text/plain": [
              "tensor(44.7704, grad_fn=<MeanBackward0>)"
            ]
          },
          "execution_count": 25,
          "metadata": {},
          "output_type": "execute_result"
        }
      ],
      "source": [
        "# define a loss function\n",
        "def loss_function(y_pred, y_data):\n",
        "    \"\"\" uses MSE \"\"\"\n",
        "    return ( (y_pred - y_data)**2 ).mean()\n",
        "\n",
        "L2_loss = loss_function( y_pred, Y )\n",
        "L2_loss"
      ]
    },
    {
      "attachments": {},
      "cell_type": "markdown",
      "metadata": {},
      "source": [
        "training of this simple model,\n",
        "occurs inside of `epoch`,\n",
        "\n",
        "some things are neccesary which we were ommited,\n",
        "- measuring prediction on already trained data produces lack of measure on overfitting"
      ]
    },
    {
      "cell_type": "code",
      "execution_count": null,
      "metadata": {
        "id": "mcj8flJQLjqz"
      },
      "outputs": [],
      "source": []
    }
  ],
  "metadata": {
    "colab": {
      "provenance": []
    },
    "gpuClass": "standard",
    "kernelspec": {
      "display_name": "Python 3",
      "name": "python3"
    },
    "language_info": {
      "codemirror_mode": {
        "name": "ipython",
        "version": 3
      },
      "file_extension": ".py",
      "mimetype": "text/x-python",
      "name": "python",
      "nbconvert_exporter": "python",
      "pygments_lexer": "ipython3",
      "version": "3.10.9"
    },
    "orig_nbformat": 4
  },
  "nbformat": 4,
  "nbformat_minor": 0
}
