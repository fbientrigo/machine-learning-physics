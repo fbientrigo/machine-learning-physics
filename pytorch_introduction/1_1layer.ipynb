{
 "cells": [
  {
   "cell_type": "code",
   "execution_count": 91,
   "metadata": {},
   "outputs": [],
   "source": [
    "import torch\n",
    "import torch.nn as nn\n",
    "import matplotlib.pyplot as plt\n",
    "\n",
    "import torch.nn.functional as F # functions\n",
    "\n",
    "from torch.optim import SGD\n",
    "\n",
    "import numpy as np"
   ]
  },
  {
   "attachments": {},
   "cell_type": "markdown",
   "metadata": {},
   "source": [
    "# 1 Network\n",
    "Networks are defined as a class and then an implementation in an instance called `model`"
   ]
  },
  {
   "cell_type": "code",
   "execution_count": 18,
   "metadata": {},
   "outputs": [],
   "source": [
    "class myNet(nn.Module):\n",
    "    def __init__(self): # defines parameters\n",
    "        super(myNet, self).__init__() # uses the init of the parent class `nn`\n",
    "        # requires_grad specifies is its trainable\n",
    "        # tensor provide automatic differentiation\n",
    "        self.w00 = nn.Parameter(torch.tensor(1.7), requires_grad= False) \n",
    "        self.w01 = nn.Parameter(torch.tensor(-12.6), requires_grad= False) \n",
    "        self.b00 = nn.Parameter(torch.tensor(1), requires_grad= False)\n",
    "        self.b01 = nn.Parameter(torch.tensor(5), requires_grad= False)\n",
    "\n",
    "        self.w10 = nn.Parameter(torch.tensor(3.7), requires_grad= False) \n",
    "        self.w11 = nn.Parameter(torch.tensor(-15.7), requires_grad= False)\n",
    "        self.b10 = nn.Parameter(torch.tensor(3), requires_grad= False)\n",
    "        self.b11 = nn.Parameter(torch.tensor(-4), requires_grad= False)\n",
    "\n",
    "    \n",
    "    def forward(self, input): # defines the workings\n",
    "        # connection input to two neurons\n",
    "        input_to_00 = input * self.w00 + self.b00\n",
    "        output_00   = F.tanh(input_to_00) \n",
    "\n",
    "        input_to_01 = input * self.w01 + self.b01\n",
    "        output_01   = F.tanh(input_to_01)\n",
    "\n",
    "        # connection two neurons to final output\n",
    "        scaled_10   = output_00 * self.w10 + self.b10\n",
    "        scaled_11   = output_01 * self.w11 + self.b11\n",
    "\n",
    "        final_output= scaled_10 + scaled_11\n",
    "\n",
    "        return final_output\n"
   ]
  },
  {
   "cell_type": "code",
   "execution_count": 19,
   "metadata": {},
   "outputs": [
    {
     "data": {
      "text/plain": [
       "tensor([0.0000, 0.0526, 0.1053, 0.1579, 0.2105, 0.2632, 0.3158, 0.3684, 0.4211,\n",
       "        0.4737, 0.5263, 0.5789, 0.6316, 0.6842, 0.7368, 0.7895, 0.8421, 0.8947,\n",
       "        0.9474, 1.0000])"
      ]
     },
     "execution_count": 19,
     "metadata": {},
     "output_type": "execute_result"
    }
   ],
   "source": [
    "# array of inputs as a tensor\n",
    "input_array = torch.linspace(start=0, end=1, steps=20)\n",
    "\n",
    "input_array"
   ]
  },
  {
   "cell_type": "code",
   "execution_count": 20,
   "metadata": {},
   "outputs": [
    {
     "data": {
      "text/plain": [
       "tensor([-13.8807, -13.7469, -13.6194, -13.4665, -13.1747, -12.3423,  -9.7208,\n",
       "         -2.9662,   7.1173,  14.2489,  17.0791,  17.9470,  18.2004,  18.2810,\n",
       "         18.3132,  18.3307,  18.3428,  18.3524,  18.3602,  18.3667])"
      ]
     },
     "execution_count": 20,
     "metadata": {},
     "output_type": "execute_result"
    }
   ],
   "source": [
    "# instance the model\n",
    "model = myNet()\n",
    "\n",
    "output_hat = model(input_array)\n",
    "\n",
    "output_hat"
   ]
  },
  {
   "cell_type": "code",
   "execution_count": 26,
   "metadata": {},
   "outputs": [
    {
     "data": {
      "image/png": "[encoded data removed]",
      "text/plain": [
       "<Figure size 432x288 with 1 Axes>"
      ]
     },
     "metadata": {
      "needs_background": "light"
     },
     "output_type": "display_data"
    }
   ],
   "source": [
    "plt.plot(input_array, output_hat)\n",
    "plt.grid()\n",
    "plt.xlabel('inputs')\n",
    "plt.ylabel('nn output')\n",
    "plt.title('Output of the NN ')\n",
    "plt.show()"
   ]
  },
  {
   "attachments": {},
   "cell_type": "markdown",
   "metadata": {},
   "source": [
    "# Trainable Network\n"
   ]
  },
  {
   "cell_type": "code",
   "execution_count": 109,
   "metadata": {},
   "outputs": [],
   "source": [
    "class myNet_train(nn.Module):\n",
    "    def __init__(self): # defines parameters\n",
    "        super(myNet_train, self).__init__() # uses the init of the parent class `nn`\n",
    "        # requires_grad specifies is its trainable\n",
    "        # tensor provide automatic differentiation\n",
    "        self.w00 = nn.Parameter(torch.tensor(10.7), requires_grad= True) \n",
    "        self.w01 = nn.Parameter(torch.tensor(12.6), requires_grad= True) \n",
    "        self.b00 = nn.Parameter(torch.tensor(10.), requires_grad= True)\n",
    "        self.b01 = nn.Parameter(torch.tensor(5.), requires_grad= True)\n",
    "\n",
    "        self.w10 = nn.Parameter(torch.tensor(3.7), requires_grad= True) \n",
    "        self.w11 = nn.Parameter(torch.tensor(15.7), requires_grad= True)\n",
    "        self.b10 = nn.Parameter(torch.tensor(3.), requires_grad= True)\n",
    "        self.b11 = nn.Parameter(torch.tensor(-4.), requires_grad= True)\n",
    "\n",
    "\n",
    "    \n",
    "    def forward(self, input): # defines the workings\n",
    "        # connection input to two neurons\n",
    "        input_to_00 = input * self.w00 + self.b00\n",
    "        output_00   = F.relu(input_to_00) \n",
    "\n",
    "        input_to_01 = input * self.w01 + self.b01\n",
    "        output_01   = F.relu(input_to_01)\n",
    "\n",
    "        # connection two neurons to final output\n",
    "        scaled_10   = output_00 * self.w10 + self.b10\n",
    "        scaled_11   = output_01 * self.w11 + self.b11\n",
    "\n",
    "        final_output= scaled_10 + scaled_11\n",
    "\n",
    "        return final_output"
   ]
  },
  {
   "cell_type": "code",
   "execution_count": 113,
   "metadata": {},
   "outputs": [
    {
     "data": {
      "text/plain": [
       "tensor([114.5000, 126.9953, 139.4905, 151.9858, 164.4810, 176.9763, 189.4716,\n",
       "        201.9668, 214.4621, 226.9574, 239.4526, 251.9479, 264.4432, 276.9384,\n",
       "        289.4337, 301.9290, 314.4242, 326.9195, 339.4148, 351.9100])"
      ]
     },
     "execution_count": 113,
     "metadata": {},
     "output_type": "execute_result"
    }
   ],
   "source": [
    "inputs = torch.tensor([0., 0.5, 1.])\n",
    "labels = torch.tensor([0., 1., 0.])\n",
    "\n",
    "model1 = myNet_train()\n",
    "\n",
    "output_hat = model1(input_array)\n",
    "output_hat.detach() # necessary this to separate, to be able to graph"
   ]
  },
  {
   "attachments": {},
   "cell_type": "markdown",
   "metadata": {},
   "source": [
    "optimizacion, "
   ]
  },
  {
   "cell_type": "code",
   "execution_count": 116,
   "metadata": {},
   "outputs": [
    {
     "name": "stdout",
     "output_type": "stream",
     "text": [
      "0.6667426228523254\n",
      "close to min, num steps:  1\n"
     ]
    }
   ],
   "source": [
    "optimizer = SGD(model1.parameters(), lr=0.1)\n",
    "\n",
    "last_loss = 0\n",
    "for epoch in range(100):\n",
    "    total_loss = 0\n",
    "\n",
    "    for iteration in range(len(inputs)):\n",
    "        input_i = inputs[iteration]\n",
    "        label_i = labels[iteration]\n",
    "\n",
    "        output_i = model1(input_i)\n",
    "\n",
    "        loss = (output_i - label_i)**2    # L2 Norma\n",
    "        loss.backward() # applies backward prop\n",
    "\n",
    "        total_loss += float(loss)\n",
    "        \n",
    "    if (total_loss < 0.1):\n",
    "        print(\"Num steps: \", epoch)\n",
    "        break\n",
    "\n",
    "    if ( np.abs(total_loss - last_loss) < 0.01):\n",
    "        print(total_loss)\n",
    "        print(\"close to min, num steps: \", epoch)\n",
    "        break\n",
    "\n",
    "\n",
    "    optimizer.step()\n",
    "    optimizer.zero_grad()\n",
    "\n",
    "    last_loss = total_loss"
   ]
  },
  {
   "cell_type": "code",
   "execution_count": 118,
   "metadata": {},
   "outputs": [],
   "source": [
    "outputs_hat = model1(inputs)"
   ]
  },
  {
   "cell_type": "code",
   "execution_count": 122,
   "metadata": {},
   "outputs": [
    {
     "data": {
      "image/png": "[encoded data removed]",
      "text/plain": [
       "<Figure size 432x288 with 1 Axes>"
      ]
     },
     "metadata": {
      "needs_background": "light"
     },
     "output_type": "display_data"
    }
   ],
   "source": [
    "plt.plot(inputs, labels, label=\"labels\")\n",
    "plt.plot(inputs, outputs_hat.detach(), label=\"model\")\n",
    "plt.legend()\n",
    "plt.show()"
   ]
  },
  {
   "cell_type": "code",
   "execution_count": null,
   "metadata": {},
   "outputs": [],
   "source": []
  }
 ],
 "metadata": {
  "kernelspec": {
   "display_name": "deepl",
   "language": "python",
   "name": "python3"
  },
  "language_info": {
   "codemirror_mode": {
    "name": "ipython",
    "version": 3
   },
   "file_extension": ".py",
   "mimetype": "text/x-python",
   "name": "python",
   "nbconvert_exporter": "python",
   "pygments_lexer": "ipython3",
   "version": "3.10.9"
  },
  "orig_nbformat": 4
 },
 "nbformat": 4,
 "nbformat_minor": 2
}
