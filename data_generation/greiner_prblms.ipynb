{
 "cells": [
  {
   "attachments": {},
   "cell_type": "markdown",
   "metadata": {},
   "source": [
    "# Selection of differential equations\n",
    "this is from\n",
    "`Classical Mecanics - W. Greiner`"
   ]
  },
  {
   "cell_type": "code",
   "execution_count": 1,
   "metadata": {},
   "outputs": [],
   "source": [
    "import matplotlib.pyplot as ptl\n",
    "import numpy as np"
   ]
  },
  {
   "attachments": {},
   "cell_type": "markdown",
   "metadata": {},
   "source": [
    "## Pendulums equations\n",
    "no damping:\n",
    "$$\n",
    "\\frac{d^2}{dt^2} {\\varphi} + \\omega^2 \\sin \\varphi = 0\n",
    "$$"
   ]
  },
  {
   "cell_type": "code",
   "execution_count": null,
   "metadata": {},
   "outputs": [],
   "source": []
  },
  {
   "attachments": {},
   "cell_type": "markdown",
   "metadata": {},
   "source": [
    "including damping:\n",
    "$$\n",
    "\\frac{d^2}{dt^2} {\\varphi} + 2 \\gamma \\frac{d}{dt} \\varphi  +  \\omega^2 \\sin \\varphi  = 0\n",
    "$$"
   ]
  },
  {
   "cell_type": "code",
   "execution_count": null,
   "metadata": {},
   "outputs": [],
   "source": []
  },
  {
   "attachments": {},
   "cell_type": "markdown",
   "metadata": {},
   "source": [
    "## central forces:\n",
    "\n",
    "(26.59)\n",
    "The path equation being:\n",
    "$$\n",
    "r = 2a \\cos \\theta\n",
    "$$\n",
    "\n",
    "where it derived the central force:\n",
    "$$\n",
    "f(r) = -\\frac{8a^2 m h^2}{r^5}\n",
    "$$"
   ]
  },
  {
   "cell_type": "code",
   "execution_count": null,
   "metadata": {},
   "outputs": [],
   "source": []
  },
  {
   "attachments": {},
   "cell_type": "markdown",
   "metadata": {},
   "source": [
    "(26.3)\n",
    "Path equation for spiral orbit\n",
    "$$\n",
    "r = e^{- \\theta}\n",
    "$$\n",
    "\n",
    "the central force:\n",
    "$$\n",
    "f(r) = -\\frac{2mh^2}{r^3}\n",
    "$$"
   ]
  },
  {
   "cell_type": "code",
   "execution_count": null,
   "metadata": {},
   "outputs": [],
   "source": []
  }
 ],
 "metadata": {
  "kernelspec": {
   "display_name": "deepl",
   "language": "python",
   "name": "python3"
  },
  "language_info": {
   "codemirror_mode": {
    "name": "ipython",
    "version": 3
   },
   "file_extension": ".py",
   "mimetype": "text/x-python",
   "name": "python",
   "nbconvert_exporter": "python",
   "pygments_lexer": "ipython3",
   "version": "3.10.9"
  },
  "orig_nbformat": 4
 },
 "nbformat": 4,
 "nbformat_minor": 2
}
