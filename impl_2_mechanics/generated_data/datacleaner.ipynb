{
 "cells": [
  {
   "attachments": {},
   "cell_type": "markdown",
   "metadata": {},
   "source": [
    "## Clean Data\n",
    "Converts a long list of simulation value to the correct shape\n",
    "of the data needed"
   ]
  },
  {
   "cell_type": "code",
   "execution_count": null,
   "metadata": {},
   "outputs": [],
   "source": [
    "import pandas as pd\n",
    "\n",
    "df = pd.read_csv('.\\songforce_v100\\songforce.csv')\n",
    "df.head()\n",
    "\n",
    "data_worked = pd.DataFrame()\n",
    "inicial = []\n",
    "final = []\n",
    "\n",
    "for index in range(10,len(df)-1):\n",
    "    final.append(df.velocity[index])\n",
    "    inicial.append(df.velocity[index - 10])\n",
    "\n",
    "# print(inicial)\n",
    "data_worked['inicial'] = inicial\n",
    "data_worked['final'] = final\n",
    "\n",
    "# seoarate \n",
    "Ndata = len(data_worked)\n",
    "datatraining = data_worked[:202]\n",
    "datavalidation = data_worked[202:250]\n",
    "datatesting = data_worked[250:-1]\n",
    "\n",
    "data_worked.head()\n"
   ]
  }
 ],
 "metadata": {
  "language_info": {
   "name": "python"
  },
  "orig_nbformat": 4
 },
 "nbformat": 4,
 "nbformat_minor": 2
}
