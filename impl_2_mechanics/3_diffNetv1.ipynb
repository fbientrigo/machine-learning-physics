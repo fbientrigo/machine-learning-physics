{
 "cells": [
  {
   "attachments": {},
   "cell_type": "markdown",
   "metadata": {},
   "source": [
    "## Constructing the data set and exporting"
   ]
  },
  {
   "cell_type": "code",
   "execution_count": null,
   "metadata": {},
   "outputs": [],
   "source": [
    "# generate the data\n",
    "import pandas as pd\n",
    "# all the names that fit this name\n",
    "csv_files = glob.glob(\"./data/song_v*.csv\")\n",
    "\n",
    "# empty list for the data frames\n",
    "dfs = []\n",
    "for filename in csv_files:\n",
    "    df = pd.read_csv(filename, index_col=0)\n",
    "    dfs.append(df)\n",
    "\n",
    "# combinar todos los DataFrames en un solo DataFrame\n",
    "combined_df = pd.concat(dfs, ignore_index=True)\n",
    "\n",
    "combined_df.to_csv(\"./data/song_combined_df.csv\",)\n",
    "\n",
    "# imprimir el DataFrame combinado\n",
    "print(f\"ammount of data so far: {len(combined_df)}\")\n",
    "combined_df.tail()"
   ]
  },
  {
   "attachments": {},
   "cell_type": "markdown",
   "metadata": {},
   "source": [
    "## NN Velocity dependent force\n",
    "Combining the components into a working Neural Network"
   ]
  },
  {
   "cell_type": "code",
   "execution_count": 1,
   "metadata": {},
   "outputs": [
    {
     "name": "stdout",
     "output_type": "stream",
     "text": [
      "max speed in data: 254.1388364409117\n"
     ]
    },
    {
     "data": {
      "text/html": [
       "<div>\n",
       "<style scoped>\n",
       "    .dataframe tbody tr th:only-of-type {\n",
       "        vertical-align: middle;\n",
       "    }\n",
       "\n",
       "    .dataframe tbody tr th {\n",
       "        vertical-align: top;\n",
       "    }\n",
       "\n",
       "    .dataframe thead th {\n",
       "        text-align: right;\n",
       "    }\n",
       "</style>\n",
       "<table border=\"1\" class=\"dataframe\">\n",
       "  <thead>\n",
       "    <tr style=\"text-align: right;\">\n",
       "      <th></th>\n",
       "      <th>x_initial</th>\n",
       "      <th>v_initial</th>\n",
       "      <th>x_step10</th>\n",
       "      <th>v_step10</th>\n",
       "      <th>x_step20</th>\n",
       "      <th>v_step20</th>\n",
       "      <th>x_step30</th>\n",
       "      <th>v_step30</th>\n",
       "      <th>x_step40</th>\n",
       "      <th>v_step40</th>\n",
       "      <th>x_step50</th>\n",
       "      <th>v_step50</th>\n",
       "    </tr>\n",
       "  </thead>\n",
       "  <tbody>\n",
       "    <tr>\n",
       "      <th>0</th>\n",
       "      <td>0.000000</td>\n",
       "      <td>10.000000</td>\n",
       "      <td>0.100167</td>\n",
       "      <td>10.033460</td>\n",
       "      <td>0.200670</td>\n",
       "      <td>10.067033</td>\n",
       "      <td>0.301508</td>\n",
       "      <td>10.100719</td>\n",
       "      <td>0.402684</td>\n",
       "      <td>10.134518</td>\n",
       "      <td>0.504199</td>\n",
       "      <td>10.168430</td>\n",
       "    </tr>\n",
       "    <tr>\n",
       "      <th>1</th>\n",
       "      <td>0.010002</td>\n",
       "      <td>10.003341</td>\n",
       "      <td>0.110202</td>\n",
       "      <td>10.036813</td>\n",
       "      <td>0.210738</td>\n",
       "      <td>10.070397</td>\n",
       "      <td>0.311611</td>\n",
       "      <td>10.104094</td>\n",
       "      <td>0.412821</td>\n",
       "      <td>10.137904</td>\n",
       "      <td>0.514369</td>\n",
       "      <td>10.171828</td>\n",
       "    </tr>\n",
       "    <tr>\n",
       "      <th>2</th>\n",
       "      <td>0.020007</td>\n",
       "      <td>10.006683</td>\n",
       "      <td>0.120241</td>\n",
       "      <td>10.040166</td>\n",
       "      <td>0.220810</td>\n",
       "      <td>10.073761</td>\n",
       "      <td>0.321716</td>\n",
       "      <td>10.107470</td>\n",
       "      <td>0.422960</td>\n",
       "      <td>10.141291</td>\n",
       "      <td>0.524543</td>\n",
       "      <td>10.175226</td>\n",
       "    </tr>\n",
       "    <tr>\n",
       "      <th>3</th>\n",
       "      <td>0.030015</td>\n",
       "      <td>10.010026</td>\n",
       "      <td>0.130283</td>\n",
       "      <td>10.043520</td>\n",
       "      <td>0.230886</td>\n",
       "      <td>10.077127</td>\n",
       "      <td>0.331826</td>\n",
       "      <td>10.110847</td>\n",
       "      <td>0.433103</td>\n",
       "      <td>10.144680</td>\n",
       "      <td>0.534720</td>\n",
       "      <td>10.178626</td>\n",
       "    </tr>\n",
       "    <tr>\n",
       "      <th>4</th>\n",
       "      <td>0.040027</td>\n",
       "      <td>10.013371</td>\n",
       "      <td>0.140328</td>\n",
       "      <td>10.046876</td>\n",
       "      <td>0.240965</td>\n",
       "      <td>10.080494</td>\n",
       "      <td>0.341938</td>\n",
       "      <td>10.114225</td>\n",
       "      <td>0.443250</td>\n",
       "      <td>10.148069</td>\n",
       "      <td>0.544900</td>\n",
       "      <td>10.182027</td>\n",
       "    </tr>\n",
       "  </tbody>\n",
       "</table>\n",
       "</div>"
      ],
      "text/plain": [
       "   x_initial  v_initial  x_step10   v_step10  x_step20   v_step20  x_step30  \\\n",
       "0   0.000000  10.000000  0.100167  10.033460  0.200670  10.067033  0.301508   \n",
       "1   0.010002  10.003341  0.110202  10.036813  0.210738  10.070397  0.311611   \n",
       "2   0.020007  10.006683  0.120241  10.040166  0.220810  10.073761  0.321716   \n",
       "3   0.030015  10.010026  0.130283  10.043520  0.230886  10.077127  0.331826   \n",
       "4   0.040027  10.013371  0.140328  10.046876  0.240965  10.080494  0.341938   \n",
       "\n",
       "    v_step30  x_step40   v_step40  x_step50   v_step50  \n",
       "0  10.100719  0.402684  10.134518  0.504199  10.168430  \n",
       "1  10.104094  0.412821  10.137904  0.514369  10.171828  \n",
       "2  10.107470  0.422960  10.141291  0.524543  10.175226  \n",
       "3  10.110847  0.433103  10.144680  0.534720  10.178626  \n",
       "4  10.114225  0.443250  10.148069  0.544900  10.182027  "
      ]
     },
     "execution_count": 1,
     "metadata": {},
     "output_type": "execute_result"
    }
   ],
   "source": [
    "from diffnet import F_function, W_matrix, diffNet, smooth_loss, physics_constrain, plot_f\n",
    "import torch\n",
    "import torch.nn as nn\n",
    "\n",
    "import pandas as pd\n",
    "import glob\n",
    "import matplotlib.pyplot as plt\n",
    "\n",
    "combined_df = pd.read_csv(\"./data/song_combined_df.csv\", index_col=0)\n",
    "\n",
    "print(\"max speed in data:\", combined_df['v_step20'].max())\n",
    "\n",
    "combined_df.head()\n"
   ]
  },
  {
   "cell_type": "code",
   "execution_count": 6,
   "metadata": {},
   "outputs": [],
   "source": [
    "# separate input and target:\n",
    "from torch.utils.data import Dataset, DataLoader\n",
    "\n",
    "class MyDataset(Dataset):\n",
    "    def __init__(self, combined_df):\n",
    "        self.combined_df = combined_df\n",
    "    \n",
    "    def __len__(self):\n",
    "        return len(self.combined_df)\n",
    "    \n",
    "    def __getitem__(self, idx):\n",
    "        x_initial = self.combined_df.iloc[idx]['x_initial']\n",
    "        v_initial = self.combined_df.iloc[idx]['v_initial']\n",
    "        x_step20 = self.combined_df.iloc[idx]['x_step50']\n",
    "        v_step20 = self.combined_df.iloc[idx]['v_step50']\n",
    "        return torch.tensor([x_initial, v_initial], dtype=torch.float32), torch.tensor([x_step20, v_step20], dtype=torch.float32)\n",
    "\n",
    "my_dataset = MyDataset(combined_df)\n",
    "my_dataloader = DataLoader(my_dataset, batch_size=32, shuffle=True)"
   ]
  },
  {
   "cell_type": "code",
   "execution_count": 7,
   "metadata": {},
   "outputs": [],
   "source": [
    "#constructing the network\n",
    "model = diffNet(depth=50)"
   ]
  },
  {
   "cell_type": "code",
   "execution_count": 8,
   "metadata": {},
   "outputs": [
    {
     "name": "stdout",
     "output_type": "stream",
     "text": [
      "257\n"
     ]
    }
   ],
   "source": [
    "for paramA in model.parameters():\n",
    "    print(len(paramA)) # access every force parameter at each layer\n",
    "    # but we are getting extra parameters, because it is regenerating"
   ]
  },
  {
   "cell_type": "code",
   "execution_count": 9,
   "metadata": {},
   "outputs": [],
   "source": [
    "# how our loss functions looks for the model activation function\n",
    "# smooth_loss(force_params)\n",
    "# physics_constrain(force_params)\n",
    "\n",
    "smooth_rate = 0.03\n",
    "constrain_rate = 1.0 # F(v=0) = 0\n",
    "# L2_loss = nn.MSELoss()\n",
    "\n",
    "optimizer = torch.optim.SGD(model.parameters(), lr=0.03)"
   ]
  },
  {
   "cell_type": "code",
   "execution_count": 10,
   "metadata": {},
   "outputs": [
    {
     "data": {
      "text/plain": [
       "tensor(1.3726, grad_fn=<AddBackward0>)"
      ]
     },
     "execution_count": 10,
     "metadata": {},
     "output_type": "execute_result"
    }
   ],
   "source": [
    "total_loss = smooth_rate * smooth_loss(list(model.parameters())[0]) +\\\n",
    "    constrain_rate* physics_constrain(list(model.parameters())[0])\n",
    "    \n",
    "# backward propagation\n",
    "total_loss"
   ]
  },
  {
   "cell_type": "code",
   "execution_count": 11,
   "metadata": {},
   "outputs": [
    {
     "name": "stdout",
     "output_type": "stream",
     "text": [
      "tensor(0.9650, grad_fn=<AddBackward0>)\n",
      "tensor(0.7493, grad_fn=<AddBackward0>)\n",
      "tensor(0.5915, grad_fn=<AddBackward0>)\n",
      "tensor(0.4722, grad_fn=<AddBackward0>)\n"
     ]
    },
    {
     "data": {
      "image/png": "[encoded data removed]",
      "text/plain": [
       "<Figure size 432x288 with 1 Axes>"
      ]
     },
     "metadata": {
      "needs_background": "light"
     },
     "output_type": "display_data"
    }
   ],
   "source": [
    "num_epochs = 100\n",
    "\n",
    "for i in range(num_epochs):\n",
    "    total_loss = smooth_rate * smooth_loss(list(model.parameters())[0]) +\\\n",
    "        constrain_rate* physics_constrain(list(model.parameters())[0])\n",
    "        \n",
    "    # backward propagation\n",
    "    if (i+1) % 25 == 0:\n",
    "        print(total_loss)\n",
    "\n",
    "    total_loss.backward()\n",
    "    optimizer.step()\n",
    "\n",
    "    if (i) % 25 == 0:\n",
    "        plt.plot(list(model.parameters())[0].detach(), alpha = i/num_epochs )\n",
    "\n",
    "    optimizer.zero_grad()"
   ]
  },
  {
   "cell_type": "code",
   "execution_count": null,
   "metadata": {},
   "outputs": [],
   "source": [
    "# Hyperparameters\n",
    "smooth_rate = 0.03\n",
    "constrain_rate = 1.0 # F(v=0) = 0\n",
    "targets_rate = 0.3\n",
    "\n",
    "# Define number of epochs\n",
    "num_epochs = 10\n",
    "\n",
    "# Define loss function and optimizer\n",
    "L2_loss = nn.MSELoss()\n",
    "optimizer = torch.optim.SGD(model.parameters(), lr=0.04)\n",
    "\n",
    "running_loss = 0\n",
    "\n",
    "#used for graphs\n",
    "max_i = len(my_dataloader)\n",
    "\n",
    "# Iterate through epochs\n",
    "for epoch in range(num_epochs):\n",
    "    # Iterate through data in the DataLoader\n",
    "    for i, data in enumerate(my_dataloader, 0):\n",
    "        # Get inputs and targets from data\n",
    "        inputs, targets = data\n",
    "            #x_initial, v_initial = inputs\n",
    "            #x_step20, v_step20 = targets\n",
    "        #print(f\"maximum velocity in data {inputs[:,1].max()}\")\n",
    "\n",
    "        # Zero the parameter gradients\n",
    "        optimizer.zero_grad()\n",
    "\n",
    "        # Forward pass\n",
    "        outputs = model.forward(inputs)\n",
    "\n",
    "        # Compute loss\n",
    "        loss = smooth_rate * smooth_loss(list(model.parameters())[0]) +\\\n",
    "            constrain_rate*physics_constrain(list(model.parameters())[0]) + targets_rate * L2_loss(outputs, targets)\n",
    "\n",
    "\n",
    "        # Backward pass and optimization\n",
    "        loss.backward()\n",
    "        optimizer.step()\n",
    "\n",
    "        # Print statistics\n",
    "        running_loss += loss.item()\n",
    "        if i % 100 == 99:    # Print every 100 mini-batches\n",
    "            print(\"L2_loss:\", L2_loss(outputs, targets))\n",
    "            print('[Epoch %d, Mini-batch %5d] Loss: %.3f' %\n",
    "                  (epoch + 1, i + 1, running_loss / 100))\n",
    "            running_loss = 0.0\n",
    "    \n",
    "    if epoch % 5 == 0:\n",
    "        plt.plot(list(model.parameters())[0].detach(), alpha = epoch/num_epochs)\n",
    "        plt.show()\n",
    "        plt.save_fig(f\"./evolution_force/epoch_{epoch}.png\")\n",
    "\n",
    "print('Finished training')\n"
   ]
  },
  {
   "cell_type": "code",
   "execution_count": 15,
   "metadata": {},
   "outputs": [],
   "source": [
    "# saving the model\n",
    "torch.save(model, \"./model/040223.pt\")"
   ]
  },
  {
   "cell_type": "code",
   "execution_count": 16,
   "metadata": {},
   "outputs": [],
   "source": [
    "# can be loaded using:\n",
    "model2 = torch.load(\"./model/040223.pt\")"
   ]
  },
  {
   "attachments": {},
   "cell_type": "markdown",
   "metadata": {},
   "source": [
    "# Loading model and continuum training"
   ]
  },
  {
   "cell_type": "code",
   "execution_count": 1,
   "metadata": {},
   "outputs": [],
   "source": [
    "from diffnet import F_function, W_matrix, diffNet, smooth_loss, physics_constrain, plot_f\n",
    "from dataset import MyDataset, DataLoader\n",
    "import torch\n",
    "import torch.nn as nn\n",
    "\n",
    "import pandas as pd\n",
    "import glob\n",
    "import matplotlib.pyplot as plt\n",
    "\n",
    "my_dataset = MyDataset(pd.read_csv(\"./data/song_combined_df.csv\", index_col=0))\n",
    "my_dataloader = DataLoader(my_dataset, batch_size=32, shuffle=True)"
   ]
  },
  {
   "cell_type": "code",
   "execution_count": 2,
   "metadata": {},
   "outputs": [
    {
     "data": {
      "image/png": "[encoded data removed]",
      "text/plain": [
       "<Figure size 432x288 with 1 Axes>"
      ]
     },
     "metadata": {
      "needs_background": "light"
     },
     "output_type": "display_data"
    }
   ],
   "source": [
    "# Loading the model\n",
    "model = torch.load(\"./model/040223.pt\")\n",
    "\n",
    "plt.plot(list(model.parameters())[0].detach())\n",
    "plt.title(\"Loaded parameters of activation function\")\n",
    "plt.show()"
   ]
  },
  {
   "cell_type": "code",
   "execution_count": 3,
   "metadata": {},
   "outputs": [
    {
     "name": "stdout",
     "output_type": "stream",
     "text": [
      "L2_loss: tensor(0.4753, grad_fn=<MseLossBackward0>)\n",
      "[Epoch 1, Mini-batch   100] Loss: 0.149\n",
      "L2_loss: tensor(0.4714, grad_fn=<MseLossBackward0>)\n",
      "[Epoch 1, Mini-batch   200] Loss: 0.147\n",
      "L2_loss: tensor(0.4503, grad_fn=<MseLossBackward0>)\n",
      "[Epoch 1, Mini-batch   300] Loss: 0.146\n",
      "L2_loss: tensor(0.4483, grad_fn=<MseLossBackward0>)\n",
      "[Epoch 1, Mini-batch   400] Loss: 0.147\n",
      "L2_loss: tensor(0.4998, grad_fn=<MseLossBackward0>)\n",
      "[Epoch 1, Mini-batch   500] Loss: 0.149\n",
      "L2_loss: tensor(0.4882, grad_fn=<MseLossBackward0>)\n",
      "[Epoch 1, Mini-batch   600] Loss: 0.147\n",
      "L2_loss: tensor(0.4250, grad_fn=<MseLossBackward0>)\n",
      "[Epoch 1, Mini-batch   700] Loss: 0.144\n"
     ]
    },
    {
     "data": {
      "image/png": "[encoded data removed]",
      "text/plain": [
       "<Figure size 432x288 with 1 Axes>"
      ]
     },
     "metadata": {
      "needs_background": "light"
     },
     "output_type": "display_data"
    },
    {
     "name": "stdout",
     "output_type": "stream",
     "text": [
      "L2_loss: tensor(0.4852, grad_fn=<MseLossBackward0>)\n",
      "[Epoch 2, Mini-batch   100] Loss: 0.201\n",
      "L2_loss: tensor(0.4064, grad_fn=<MseLossBackward0>)\n",
      "[Epoch 2, Mini-batch   200] Loss: 0.142\n",
      "L2_loss: tensor(0.4143, grad_fn=<MseLossBackward0>)\n",
      "[Epoch 2, Mini-batch   300] Loss: 0.144\n",
      "L2_loss: tensor(0.5256, grad_fn=<MseLossBackward0>)\n",
      "[Epoch 2, Mini-batch   400] Loss: 0.145\n",
      "L2_loss: tensor(0.5290, grad_fn=<MseLossBackward0>)\n",
      "[Epoch 2, Mini-batch   500] Loss: 0.144\n",
      "L2_loss: tensor(0.4191, grad_fn=<MseLossBackward0>)\n",
      "[Epoch 2, Mini-batch   600] Loss: 0.145\n"
     ]
    }
   ],
   "source": [
    "# Hyperparameters\n",
    "smooth_rate = 0.03\n",
    "constrain_rate = 1.0 # F(v=0) = 0\n",
    "targets_rate = 0.3\n",
    "\n",
    "# Define number of epochs\n",
    "num_epochs = 10\n",
    "\n",
    "# Define loss function and optimizer\n",
    "L2_loss = nn.MSELoss()\n",
    "optimizer = torch.optim.SGD(model.parameters(), lr=0.08)\n",
    "\n",
    "running_loss = 0\n",
    "\n",
    "#used for graphs\n",
    "max_i = len(my_dataloader)\n",
    "\n",
    "# Iterate through epochs\n",
    "for epoch in range(num_epochs):\n",
    "    # Iterate through data in the DataLoader\n",
    "    for i, data in enumerate(my_dataloader, 0):\n",
    "        # Get inputs and targets from data\n",
    "        inputs, targets = data\n",
    "            #x_initial, v_initial = inputs\n",
    "            #x_step20, v_step20 = targets\n",
    "        #print(f\"maximum velocity in data {inputs[:,1].max()}\")\n",
    "\n",
    "        # Zero the parameter gradients\n",
    "        optimizer.zero_grad()\n",
    "\n",
    "        # Forward pass\n",
    "        outputs = model.forward(inputs)\n",
    "\n",
    "        # Compute loss\n",
    "        loss = smooth_rate * smooth_loss(list(model.parameters())[0]) +\\\n",
    "            constrain_rate*physics_constrain(list(model.parameters())[0]) + targets_rate * L2_loss(outputs, targets)\n",
    "\n",
    "\n",
    "        # Backward pass and optimization\n",
    "        loss.backward()\n",
    "        optimizer.step()\n",
    "\n",
    "        # Print statistics\n",
    "        running_loss += loss.item()\n",
    "        if i % 100 == 99:    # Print every 100 mini-batches\n",
    "            print(\"L2_loss:\", L2_loss(outputs, targets))\n",
    "            print('[Epoch %d, Mini-batch %5d] Loss: %.3f' %\n",
    "                  (epoch + 1, i + 1, running_loss / 100))\n",
    "            running_loss = 0.0\n",
    "    \n",
    "    if epoch % 100 == 0:\n",
    "        # saving the model\n",
    "        torch.save(model, f\"./model/song_040223_epoch{epoch}.pt\")\n",
    "        \n",
    "        #ploting\n",
    "        plt.plot(list(model.parameters())[0].detach(), alpha = epoch/num_epochs)\n",
    "        plt.show()\n",
    "        plt.savefig(f\"./evolution_force/song_epoch_{epoch}_loss_{running_loss :.2f}.png\")\n",
    "\n",
    "print('Finished training')"
   ]
  },
  {
   "cell_type": "code",
   "execution_count": null,
   "metadata": {},
   "outputs": [],
   "source": [
    "# saving the model\n",
    "torch.save(model, f\"./model/song_040223_epoch{epoch}.pt\")"
   ]
  }
 ],
 "metadata": {
  "kernelspec": {
   "display_name": "deepl",
   "language": "python",
   "name": "python3"
  },
  "language_info": {
   "codemirror_mode": {
    "name": "ipython",
    "version": 3
   },
   "file_extension": ".py",
   "mimetype": "text/x-python",
   "name": "python",
   "nbconvert_exporter": "python",
   "pygments_lexer": "ipython3",
   "version": "3.10.9"
  },
  "orig_nbformat": 4
 },
 "nbformat": 4,
 "nbformat_minor": 2
}
