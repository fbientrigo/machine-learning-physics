{
 "cells": [
  {
   "attachments": {},
   "cell_type": "markdown",
   "metadata": {},
   "source": [
    "# Quantum Mechanics Wave Evolution\n",
    "\n",
    "pd: $\\hbar = 1$\n",
    "\n",
    "where $H$ is the Hamiltonian, expressed as:\n",
    "\n",
    "$$\n",
    "H = - \\frac{\\hbar^2}{2m} \\frac{\\partial^2}{\\partial x^2} + V\n",
    "$$\n",
    "\n",
    "2nd order derivative is discretized as:\n",
    "\n",
    "$$\n",
    "\\frac{\\partial^2 \\psi^t_x}{\\partial x^2} = \\frac{\\psi^t_{x+1} - 2 \\psi^t_x + \\psi^t_{x-1}}{(\\Delta x)^2} = \\frac{D^2}{(\\Delta x)^2} \\psi^t_x\n",
    "$$\n",
    "\n",
    "the discretization of the 2nd order derivative ends up as a matrix:\n",
    "\n",
    "$$\n",
    "D^2 = \\left( \\begin{matrix} \n",
    "-2 && 1 && 0 && 0 && \\dots && 0 && 0 \\\\\n",
    "1 && -2 && 1 && 0 && \\dots && 0 && 0 \\\\\n",
    "0 && 1 && -2 && 1 && \\dots && 0 && 0 \\\\\n",
    "0 && 0 && 1 && -2 && \\dots && 0 && 0 \\\\\n",
    "\\vdots && \\vdots && \\vdots && \\vdots && \\ddots && \\vdots && \\vdots \\\\\n",
    "0 && 0 && 0 && 0 && \\dots && -2 && 1 \\\\\n",
    "0 && 0 && 0 && 0 && \\dots && 1 && -2 \\\\\n",
    "\\end{matrix} \\right)\n",
    "$$\n",
    "\n"
   ]
  },
  {
   "cell_type": "markdown",
   "metadata": {},
   "source": [
    "So:\n",
    "$$\n",
    "H \\psi_n = E \\psi_n\n",
    "$$\n",
    "\n",
    "$$\n",
    "- \\alpha \\frac{D^2}{(\\Delta x)^2} \\psi_n + \\psi_n V - \\psi_n E_n = 0\n",
    "$$"
   ]
  },
  {
   "cell_type": "code",
   "execution_count": 1,
   "metadata": {},
   "outputs": [
    {
     "data": {
      "image/png": "[encoded data removed]",
      "text/plain": [
       "<Figure size 432x288 with 1 Axes>"
      ]
     },
     "metadata": {
      "needs_background": "light"
     },
     "output_type": "display_data"
    }
   ],
   "source": [
    "import torch\n",
    "import torch.nn as nn\n",
    "import numpy as np\n",
    "from scipy import sparse\n",
    "import matplotlib.pyplot as plt\n",
    "\n",
    "# Potential V(x)\n",
    "x_Vmin = 5\n",
    "T = 1\n",
    "omega = 2 * np.pi / T\n",
    "k = omega**2\n",
    "dx = 0.1\n",
    "x = np.arange(0, 10, dx)\n",
    "\n",
    "kx = 0.1\n",
    "m = 1\n",
    "sigma = 0.1\n",
    "x0 = 3.0\n",
    "A = 1.0 / (sigma * np.sqrt(np.pi))\n",
    "\n",
    "# Convert x and V to PyTorch tensors\n",
    "x_tensor = torch.as_tensor(x, dtype=torch.float32)\n",
    "V_tensor = torch.as_tensor(0.5 * k * (x - x_Vmin)**2, dtype=torch.float32)\n",
    "\n",
    "# Create a parameter tensor for psi with requires_grad=True for backpropagation\n",
    "psi_tensor = nn.Parameter(np.sqrt(A) * torch.exp(-(x_tensor - x0)**2 / (2.0 * sigma**2)) * torch.cos(kx * x_tensor))\n",
    "\n",
    "# Wave packet\n",
    "plt.plot(x, V_tensor * 0.01, \"k--\", label=r\"$V(x) = \\frac{1}{2}m\\omega^2 (x-5)^2$ (x0.01)\")\n",
    "plt.plot(x, (torch.abs(psi_tensor)**2).detach().numpy(), \"r\", label=r\"$\\vert\\psi(t=0,x)\\vert^2$\")\n",
    "plt.show()\n",
    "\n"
   ]
  },
  {
   "cell_type": "code",
   "execution_count": 2,
   "metadata": {},
   "outputs": [],
   "source": [
    "# Laplace Operator (Finite Difference)\n",
    "D2 = sparse.diags([1, -2, 1], [-1, 0, 1], shape=(x.size, x.size)) / dx**2\n",
    "D2.toarray()*dx**2\n",
    "D2 = torch.as_tensor(D2.toarray(), dtype = torch.float32)"
   ]
  },
  {
   "cell_type": "code",
   "execution_count": 3,
   "metadata": {},
   "outputs": [
    {
     "data": {
      "text/plain": [
       "tensor([[-0., 0., 0.,  ..., 0., 0., 0.],\n",
       "        [0., -0., 0.,  ..., 0., 0., 0.],\n",
       "        [0., 0., -0.,  ..., 0., 0., 0.],\n",
       "        ...,\n",
       "        [0., 0., 0.,  ..., -0., 0., 0.],\n",
       "        [0., 0., 0.,  ..., 0., -0., 0.],\n",
       "        [0., 0., 0.,  ..., 0., 0., -0.]], grad_fn=<MulBackward0>)"
      ]
     },
     "execution_count": 3,
     "metadata": {},
     "output_type": "execute_result"
    }
   ],
   "source": [
    "D2 * psi_tensor"
   ]
  },
  {
   "cell_type": "code",
   "execution_count": 4,
   "metadata": {},
   "outputs": [
    {
     "data": {
      "text/plain": [
       "tensor([ 0.0000e+00,  0.0000e+00,  0.0000e+00,  0.0000e+00,  0.0000e+00,\n",
       "         0.0000e+00,  0.0000e+00,  0.0000e+00,  0.0000e+00,  0.0000e+00,\n",
       "         0.0000e+00,  0.0000e+00,  0.0000e+00,  0.0000e+00,  0.0000e+00,\n",
       "         6.4460e-41,  4.6938e-35,  1.2573e-29,  1.2388e-24,  4.4897e-20,\n",
       "         5.9851e-16,  2.9344e-12,  5.2896e-09,  3.5033e-06,  8.5064e-04,\n",
       "         7.5291e-02,  2.3899e+00,  2.5885e+01,  7.8807e+01, -1.8292e+01,\n",
       "        -1.7858e+02, -1.6969e+01,  7.8669e+01,  2.5596e+01,  2.3469e+00,\n",
       "         7.3460e-02,  8.2475e-04,  3.3755e-06,  5.0651e-09,  2.7924e-12,\n",
       "         5.6600e-16,  4.2194e-20,  1.1570e-24,  1.1669e-29,  4.3287e-35,\n",
       "         5.9135e-41,  0.0000e+00,  0.0000e+00,  0.0000e+00,  0.0000e+00,\n",
       "         0.0000e+00,  0.0000e+00,  0.0000e+00,  0.0000e+00,  0.0000e+00,\n",
       "         0.0000e+00,  0.0000e+00,  0.0000e+00,  0.0000e+00,  0.0000e+00,\n",
       "         0.0000e+00,  0.0000e+00,  0.0000e+00,  0.0000e+00,  0.0000e+00,\n",
       "         0.0000e+00,  0.0000e+00,  0.0000e+00,  0.0000e+00,  0.0000e+00,\n",
       "         0.0000e+00,  0.0000e+00,  0.0000e+00,  0.0000e+00,  0.0000e+00,\n",
       "         0.0000e+00,  0.0000e+00,  0.0000e+00,  0.0000e+00,  0.0000e+00,\n",
       "         0.0000e+00,  0.0000e+00,  0.0000e+00,  0.0000e+00,  0.0000e+00,\n",
       "         0.0000e+00,  0.0000e+00,  0.0000e+00,  0.0000e+00,  0.0000e+00,\n",
       "         0.0000e+00,  0.0000e+00,  0.0000e+00,  0.0000e+00,  0.0000e+00,\n",
       "         0.0000e+00,  0.0000e+00,  0.0000e+00,  0.0000e+00,  0.0000e+00],\n",
       "       grad_fn=<ViewBackward0>)"
      ]
     },
     "execution_count": 4,
     "metadata": {},
     "output_type": "execute_result"
    }
   ],
   "source": [
    "# obtains 2nd derivative\n",
    "# != D2 * psi_tensor\n",
    "psi_dd = torch.einsum('ij,j->i', D2, psi_tensor)\n",
    "psi_dd"
   ]
  },
  {
   "cell_type": "code",
   "execution_count": 5,
   "metadata": {},
   "outputs": [],
   "source": [
    "A = (torch.abs(psi_dd)**2).sum()\n",
    "B = (torch.abs(psi_tensor)**2).sum()\n"
   ]
  },
  {
   "cell_type": "code",
   "execution_count": 6,
   "metadata": {},
   "outputs": [
    {
     "data": {
      "image/png": "[encoded data removed]",
      "text/plain": [
       "<Figure size 432x288 with 1 Axes>"
      ]
     },
     "metadata": {
      "needs_background": "light"
     },
     "output_type": "display_data"
    }
   ],
   "source": [
    "plt.plot(x, V_tensor * 0.001, \"k--\", label=r\"$V(x) = \\frac{1}{2}m\\omega^2 (x-5)^2$ (x0.01)\")\n",
    "plt.plot(x, (torch.abs(psi_dd)**2/(torch.abs(psi_dd)**2).sum()).detach().numpy(), \"b\", label=\"2nd derivative\")\n",
    "plt.plot(x, (torch.abs(psi_tensor)**2/B).detach().numpy(), \"r\", label=r\"$\\vert\\psi(t=0,x)\\vert^2$\")\n",
    "plt.legend()\n",
    "plt.show()\n"
   ]
  },
  {
   "cell_type": "code",
   "execution_count": null,
   "metadata": {},
   "outputs": [],
   "source": [
    "# use the 2nd derivative for getting the next point"
   ]
  },
  {
   "cell_type": "markdown",
   "metadata": {},
   "source": [
    "### rk4 method\n",
    "this method runs from left to right, which causes some instabilities"
   ]
  },
  {
   "cell_type": "code",
   "execution_count": 7,
   "metadata": {},
   "outputs": [],
   "source": [
    "def sch_equation(Z, r, V, E):\n",
    "    \"\"\"by separation of variable, the sch equation\n",
    "    Z contains psi and dx_psi (first derivative of psi)\n",
    "    \"\"\"\n",
    "    psi, dx_psi = Z     \n",
    "    dx_Z = [dx_psi, (V - E) * psi]\n",
    "    return torch.tensor(dx_Z)\n",
    "\n",
    "def rk4(f, psi, x, V, E):\n",
    "    \"\"\"Fourth-order Runge-Kutta method to solve phi' = f(psi, x) with psi(x[0]) = psi0.\n",
    "    Integrates function f with initial values psi0 and potential V numerically.\n",
    "    Output is a multidimensional tensor (in psi) with len(x).\"\"\"\n",
    "    h = x[1] - x[0]\n",
    "    n = len(x)\n",
    "    for i in range(n - 2):\n",
    "        k1 = h * f(psi[i], x[i], V[i], E)\n",
    "        k2 = h * f(psi[i] + 0.5 * k1, x[i] + 0.5 * h, V[i], E)\n",
    "        k3 = h * f(psi[i] + 0.5 * k2, x[i] + 0.5 * h, V[i], E)\n",
    "        k4 = h * f(psi[i] + k3, x[i + 1], V[i], E)\n",
    "        psi[i + 1] = psi[i] + (k1 + 2.0 * (k2 + k3) + k4) / 6.0\n",
    "    return psi"
   ]
  },
  {
   "cell_type": "markdown",
   "metadata": {},
   "source": [
    "`psi_init` its initialized with the boudary values for psi and its derivative"
   ]
  },
  {
   "cell_type": "code",
   "execution_count": 8,
   "metadata": {},
   "outputs": [
    {
     "data": {
      "text/plain": [
       "tensor([[0.0000, 0.5000],\n",
       "        [0.0000, 0.5000],\n",
       "        [0.0000, 0.5000],\n",
       "        [0.0000, 0.5000],\n",
       "        [0.0000, 0.5000]])"
      ]
     },
     "execution_count": 8,
     "metadata": {},
     "output_type": "execute_result"
    }
   ],
   "source": [
    "psi_0 = 0.0\n",
    "dx_psi0 = 0.5 # derivative at bound\n",
    "psi_init = torch.tensor([ psi_0 , dx_psi0 ], dtype=torch.float32)\n",
    "n = len(x_tensor)\n",
    "psi_init = torch.stack([psi_init] * n)\n",
    "psi_init[:5]"
   ]
  },
  {
   "cell_type": "code",
   "execution_count": 12,
   "metadata": {},
   "outputs": [],
   "source": [
    "# E0 > V\n",
    "E0 = 10\n",
    "psi_2iter = rk4(sch_equation, psi_init, x_tensor, V_tensor, E0*1000)[:,0]\n",
    "A = (torch.abs(psi_2iter)**2).sum()"
   ]
  },
  {
   "cell_type": "code",
   "execution_count": 14,
   "metadata": {},
   "outputs": [
    {
     "data": {
      "text/plain": [
       "tensor([ 0.0000e+00, -7.4221e-01, -4.9151e+02, -2.2949e+05, -8.8243e+07,\n",
       "        -2.8572e+10, -7.3778e+12, -1.1174e+15,  2.4845e+17,  3.2283e+20,\n",
       "         1.8631e+23,  8.2825e+25,  3.0878e+28,  9.6313e+30,  2.2858e+33,\n",
       "         2.1166e+35,         nan,         nan,         nan,         nan,\n",
       "                nan,         nan,         nan,         nan,         nan,\n",
       "                nan,         nan,         nan,         nan,         nan,\n",
       "                nan,         nan,         nan,         nan,         nan,\n",
       "                nan,         nan,         nan,         nan,         nan,\n",
       "                nan,         nan,         nan,         nan,         nan,\n",
       "                nan,         nan,         nan,         nan,         nan,\n",
       "                nan,         nan,         nan,         nan,         nan,\n",
       "                nan,         nan,         nan,         nan,         nan,\n",
       "                nan,         nan,         nan,         nan,         nan,\n",
       "                nan,         nan,         nan,         nan,         nan,\n",
       "                nan,         nan,         nan,         nan,         nan,\n",
       "                nan,         nan,         nan,         nan,         nan,\n",
       "                nan,         nan,         nan,         nan,         nan,\n",
       "                nan,         nan,         nan,         nan,         nan,\n",
       "                nan,         nan,         nan,         nan,         nan,\n",
       "                nan,         nan,         nan,         nan,  0.0000e+00])"
      ]
     },
     "execution_count": 14,
     "metadata": {},
     "output_type": "execute_result"
    }
   ],
   "source": [
    "psi_2iter"
   ]
  },
  {
   "cell_type": "code",
   "execution_count": 13,
   "metadata": {},
   "outputs": [
    {
     "data": {
      "image/png": "[encoded data removed]",
      "text/plain": [
       "<Figure size 432x288 with 1 Axes>"
      ]
     },
     "metadata": {
      "needs_background": "light"
     },
     "output_type": "display_data"
    }
   ],
   "source": [
    "plt.plot(x, V_tensor*0.001, \"k--\", label=r\"$V(x) = \\frac{1}{2}m\\omega^2 (x-5)^2$ (x0.01)\")\n",
    "plt.plot(x, (torch.abs(psi_2iter)**2/(torch.abs(psi_2iter)**2).sum()).detach().numpy(), \"b\")\n",
    "# plt.legend()\n",
    "plt.show()"
   ]
  },
  {
   "cell_type": "markdown",
   "metadata": {},
   "source": [
    "### More on the method"
   ]
  },
  {
   "cell_type": "code",
   "execution_count": 74,
   "metadata": {},
   "outputs": [
    {
     "name": "stdout",
     "output_type": "stream",
     "text": [
      "1\n",
      "3\n"
     ]
    }
   ],
   "source": [
    "from scipy.signal import argrelextrema\n",
    "\n",
    "def countNodes(wavefunc):\n",
    "    \"\"\"Count nodes of wavefunc by finding Minima and Maxima in wavefunc.\"\"\"\n",
    "    wavefunc_np = wavefunc.detach().numpy()  # Convert tensor to NumPy array\n",
    "    maxarray = argrelextrema(wavefunc_np, np.greater)[0]\n",
    "    minarray = argrelextrema(wavefunc_np, np.less)[0]\n",
    "    nodecounter = len(maxarray) + len(minarray)\n",
    "    return nodecounter\n",
    "\n",
    "print(countNodes(psi_tensor))\n",
    "print(countNodes(psi_dd))"
   ]
  },
  {
   "cell_type": "code",
   "execution_count": 77,
   "metadata": {},
   "outputs": [
    {
     "data": {
      "text/plain": [
       "array([28, 31], dtype=int64)"
      ]
     },
     "execution_count": 77,
     "metadata": {},
     "output_type": "execute_result"
    }
   ],
   "source": [
    "def findZeros( wavefunc ):\n",
    "    \"\"\" Find zero crossing due to sign change array.\n",
    "    Return array with array indices before sign change occurs .\n",
    "    \"\"\"\n",
    "    wavefunc_np = wavefunc.detach().numpy()  # Convert tensor to NumPy array\n",
    "    return np.where( np.diff( np .signbit(wavefunc_np)))[0]\n",
    "\n",
    "findZeros(psi_dd)"
   ]
  },
  {
   "cell_type": "code",
   "execution_count": 83,
   "metadata": {},
   "outputs": [],
   "source": [
    "def RefineEnergy ( Ebot , Etop , Nodes , psi0 , x , V, E_tolerance=1e-12, psi_tolerance = 1e-3 ):\n",
    "    tolerance = E_tolerance\n",
    "    ET = Etop\n",
    "    EB = Ebot\n",
    "    psi = psi0[1]\n",
    "    while ( abs(EB - ET ) > tolerance or abs ( psi[ -1]) > psi_tolerance):\n",
    "        initE = ( ET + EB )/2.0\n",
    "        psi = rk4 ( Schroed , psi0 , x , V , initE )[: , 0]\n",
    "        nodes_ist = len( findZeros ( psi ))-1\n",
    "        if nodes_ist > Nodes + 1:\n",
    "            ET = initE\n",
    "            continue\n",
    "        if nodes_ist < Nodes - 1:\n",
    "            EB = initE\n",
    "            continue\n",
    "        if ( nodes_ist % 2 == 0):\n",
    "            if (( psi [ len ( psi ) -1] <= 0.0)):\n",
    "                ET = initE\n",
    "            else :\n",
    "                EB = initE\n",
    "        elif nodes_ist > 0:\n",
    "            if (( psi [ len ( psi ) -1] <= 0.0)):\n",
    "                EB = initE\n",
    "            else :\n",
    "                ET = initE\n",
    "        elif nodes_ist < 0:\n",
    "            EB = initE\n",
    "        return EB , ET\n"
   ]
  },
  {
   "cell_type": "markdown",
   "metadata": {},
   "source": [
    "$$\n",
    "E_n = \\hbar \\omega ( n + \\frac{1}{2})\n",
    "$$"
   ]
  },
  {
   "cell_type": "code",
   "execution_count": null,
   "metadata": {},
   "outputs": [],
   "source": [
    "psi_0 = 0.0\n",
    "phi_0 = 1.0\n",
    "psi_init = np . asarray ([ psi_0 , phi_0 ])\n",
    "h_mesh = 1.0/100.0 # stepsize for range arrays\n",
    "x_arr_ipw = np . arange (0.0 , 1.0+ h_mesh , h_mesh ) # set up mesh\n",
    "V_ipw = np . zeros ( len ( x_arr_ipw )) # set up potential\n",
    "EBref , ETref = RefineEnergy ( E_interval [0] , E_interval [1] , nodes , psi_init ,\n",
    "x_arr_ipw , V_ipw )\n",
    "psi = rk4 ( Schroed , psi_init , x_arr_ipw , V_ipw , EBref )[: , 0]"
   ]
  },
  {
   "cell_type": "markdown",
   "metadata": {},
   "source": [
    "## Shooting Pytorch"
   ]
  },
  {
   "cell_type": "code",
   "execution_count": null,
   "metadata": {},
   "outputs": [],
   "source": [
    "import torch\n",
    "import torch.nn.functional as F\n",
    "import numpy as np\n",
    "import matplotlib.pyplot as plt\n"
   ]
  },
  {
   "cell_type": "code",
   "execution_count": 80,
   "metadata": {},
   "outputs": [],
   "source": [
    "def Schroed(Z, r, V, E):\n",
    "    \"\"\"Return one-dimensional Schroedinger equation with potential V.\n",
    "    Z contains psi and dx_psi (first derivative of psi)\n",
    "    \"\"\"\n",
    "    psi, dx_psi = psiphi     \n",
    "    dx_Z = [dx_psi, (V - E) * psi]\n",
    "    return torch.tensor(dx_Z)\n",
    "\n",
    "def rk4(f, psi0, x, V, E):\n",
    "    \"\"\"Fourth-order Runge-Kutta method to solve phi' = f(psi, x) with psi(x[0]) = psi0.\n",
    "    Integrates function f with initial values psi0 and potential V numerically.\n",
    "    Output is a multidimensional tensor (in psi) with len(x).\"\"\"\n",
    "    n = len(x)\n",
    "    psi = torch.tensor([psi0] * n)\n",
    "    for i in range(n - 1):\n",
    "        h = x[i + 1] - x[i]\n",
    "        k1 = h * f(psi[i], x[i], V[i], E)\n",
    "        k2 = h * f(psi[i] + 0.5 * k1, x[i] + 0.5 * h, V[i], E)\n",
    "        k3 = h * f(psi[i] + 0.5 * k2, x[i] + 0.5 * h, V[i], E)\n",
    "        k4 = h * f(psi[i] + k3, x[i + 1], V[i], E)\n",
    "        psi[i + 1] = psi[i] + (k1 + 2.0 * (k2 + k3) + k4) / 6.0\n",
    "    return psi"
   ]
  },
  {
   "cell_type": "code",
   "execution_count": null,
   "metadata": {},
   "outputs": [],
   "source": [
    "def findZeros ( rightbound_vals ):\n",
    "    \"\"\" Find zero crossing due to sign change in r i g h t b o u n d _ v a l s array .\n",
    "    Return array with array indices before sign change occurs .\n",
    "    \"\"\"\n",
    "    return np . where ( np.diff ( np . signbit ( rightbound_vals )))[0]\n"
   ]
  },
  {
   "cell_type": "code",
   "execution_count": null,
   "metadata": {},
   "outputs": [],
   "source": [
    "def normalize ( output_wavefunc ):\n",
    "    \"\"\" A function to roughly normalize the wave function to 1. \"\"\"\n",
    "    normal = max ( output_wavefunc )\n",
    "    return output_wavefunc *(1/( normal ))\n"
   ]
  },
  {
   "cell_type": "code",
   "execution_count": 42,
   "metadata": {},
   "outputs": [],
   "source": [
    "from scipy.signal import argrelextrema\n",
    "\n",
    "def countNodes ( wavefunc ):\n",
    "    \"\"\" Count nodes of wavefunc by finding Minima and Maxima in wavefunc . \"\"\"\n",
    "    maxarray = argrelextrema ( wavefunc , np . greater )[0]\n",
    "    minarray = argrelextrema ( wavefunc , np . less )[0]\n",
    "    nodecounter = len ( maxarray )+ len ( minarray )\n",
    "    return nodecounter\n"
   ]
  },
  {
   "cell_type": "code",
   "execution_count": null,
   "metadata": {},
   "outputs": [],
   "source": [
    "def RefineEnergy ( Ebot , Etop , Nodes , psi0 , x , V, E_tolerance=1e-12, psi_tolerance = 1e-3 ):\n",
    "    tolerance = E_tolerance\n",
    "    ET = Etop\n",
    "    EB = Ebot\n",
    "    psi = [1]\n",
    "    while ( abs(EB - ET ) > tolerance or abs ( psi[ -1]) > psi_tolerance):\n",
    "        initE = ( ET + EB )/2.0\n",
    "        psi = rk4 ( Schroed , psi0 , x , V , initE )[: , 0]\n",
    "        nodes_ist = len( findZeros ( psi ))-1\n",
    "        if nodes_ist > Nodes + 1:\n",
    "            ET = initE\n",
    "            continue\n",
    "        if nodes_ist < Nodes - 1:\n",
    "            EB = initE\n",
    "            continue\n",
    "        if ( nodes_ist % 2 == 0):\n",
    "            if (( psi [ len ( psi ) -1] <= 0.0)):\n",
    "                ET = initE\n",
    "            else :\n",
    "                EB = initE\n",
    "        elif nodes_ist > 0:\n",
    "            if (( psi [ len ( psi ) -1] <= 0.0)):\n",
    "                EB = initE\n",
    "            else :\n",
    "                ET = initE\n",
    "        elif nodes_ist < 0:\n",
    "            EB = initE\n",
    "        return EB , ET\n",
    "\n"
   ]
  },
  {
   "cell_type": "code",
   "execution_count": null,
   "metadata": {},
   "outputs": [],
   "source": [
    "def ShootingInfinitePotentialWell ( E_interval , nodes ):\n",
    "    \"\"\" I m p l e m e n t a t i o n of Shooting method for Infinite PotWell\n",
    "    INPUT : E_interval array with top and bottom value , len ( E_interval )=2\n",
    "    nodes : Number wavefunction nodes = > determins quantum state .\n",
    "    OUTPUT : refined energy value\n",
    "    numerical wavefunction as array .\n",
    "    \"\"\"\n",
    "    psi_0 = 0.0\n",
    "    phi_0 = 1.0\n",
    "    psi_init = np . asarray ([ psi_0 , phi_0 ])\n",
    "    h_mesh = 1.0/100.0 # stepsize for range arrays\n",
    "    x_arr_ipw = np . arange (0.0 , 1.0+ h_mesh , h_mesh ) # set up mesh\n",
    "    V_ipw = np . zeros ( len ( x_arr_ipw )) # set up potential\n",
    "    EBref , ETref = RefineEnergy ( E_interval [0] , E_interval [1] , nodes , psi_init ,\n",
    "    x_arr_ipw , V_ipw )\n",
    "    psi = rk4 ( Schroed , psi_init , x_arr_ipw , V_ipw , EBref )[: , 0]\n",
    "    return EBref , normalize ( psi ) , x_arr_ipw\n"
   ]
  },
  {
   "cell_type": "code",
   "execution_count": null,
   "metadata": {},
   "outputs": [],
   "source": [
    "def IPW_ana (x , k ):\n",
    "    \"\"\" Return analytical wavefunc of respective state ( k ) of IPW . \"\"\"\n",
    "    return np . asarray ( np . sin (k* np . pi *x ))\n"
   ]
  },
  {
   "cell_type": "markdown",
   "metadata": {},
   "source": [
    "$$\n",
    "E_n = \\hbar \\omega ( n + \\frac{1}{2})\n",
    "$$"
   ]
  },
  {
   "cell_type": "code",
   "execution_count": null,
   "metadata": {},
   "outputs": [],
   "source": [
    "# Start\n",
    "E_qho = [0.1 , 100.0]\n",
    "\n"
   ]
  },
  {
   "cell_type": "code",
   "execution_count": null,
   "metadata": {},
   "outputs": [],
   "source": [
    "print(\"Welcome!\")\n",
    "print(\"Maximum quantum state is currently limited to the 4th excited state.\")\n",
    "print(\"\\n\")\n",
    "print(\"Infinite Potential Well Shooting\")\n",
    "figipw = plt.figure()\n",
    "for ii in nodes_arr:\n",
    "    Energy, psi_ipw, x_ipw = ShootingInfinitePotentialWell(E_ipw, ii)\n",
    "    psi_ana = normalize(IPW_ana(ii, x_ipw))\n",
    "    print(\"Found quantum state at energy = %s [Hartree]\" % Energy)\n",
    "    plt.cla()  # clear axis\n",
    "    plt.clf()  # clear figure\n",
    "    plt.plot(x_ipw, psi_ipw, 'b-.', label=r'$\\Psi(x)_{num}$')\n",
    "    plt.plot(x_ipw, psi_ana, 'r--', label=r'$\\Psi(x)_{ana}$')\n",
    "    plt.title('Eigenstate: %s' % ii)\n",
    "    plt.legend(loc='best', fontsize='small')\n",
    "    plt.grid()\n",
    "    figipw.savefig('plots/ipw_shoottest_state_' + str(ii) + '.png')\n",
    "    print(\"\\n\")\n",
    "print(\"Quantum Harmonic Oscillator Shooting:\")\n",
    "figqho = plt.figure()\n",
    "for ii in nodes_arr:\n",
    "    EB, ET, psibot, psitop, x_qho = ShootingQuantumHarmonicOscillator(E_qho, ii)\n",
    "    psi_ana = QHO_ana(x_qho, ii)\n",
    "    print(\"Found quantum state at energy = %s [Hartree]\" % ET)\n",
    "    plt.cla()  # clear axis\n",
    "    plt.clf()  # clear figure\n",
    "    plt.plot(x_qho, psitop, 'b-.', label=r'$\\Psi(x)_{num}$')\n",
    "    plt.plot(x_qho, normalize(psi_ana), 'r--', label=r'$\\Psi(x)_{ana}$')\n",
    "    plt.title('Eigenstate: %s' % ii)\n",
    "    plt.legend(loc='best', fontsize='small')\n",
    "    plt.grid()\n",
    "    figqho.savefig('plots/qho_shoottest_state_' + str(ii) + '.png')\n",
    "    print(\"\\n\")\n",
    "print(\"Please find plots of wavefunctions in 'plots' folder.\")\n",
    "print(\"\\nGoodbye.\")\n"
   ]
  }
 ],
 "metadata": {
  "kernelspec": {
   "display_name": "deepl",
   "language": "python",
   "name": "python3"
  },
  "language_info": {
   "codemirror_mode": {
    "name": "ipython",
    "version": 3
   },
   "file_extension": ".py",
   "mimetype": "text/x-python",
   "name": "python",
   "nbconvert_exporter": "python",
   "pygments_lexer": "ipython3",
   "version": "3.10.9"
  },
  "orig_nbformat": 4
 },
 "nbformat": 4,
 "nbformat_minor": 2
}
