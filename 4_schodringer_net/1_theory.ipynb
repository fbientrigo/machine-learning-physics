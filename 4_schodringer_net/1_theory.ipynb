{
 "cells": [
  {
   "attachments": {},
   "cell_type": "markdown",
   "metadata": {},
   "source": [
    "# Quantum Mechanics Wave Evolution\n",
    "a 1 dimensional wave evolves through time according to the time dependent equation\n",
    "\n",
    "$$\n",
    "j \\hbar \\frac{\\partial \\psi}{\\partial t} = H \\psi\n",
    "$$\n",
    "\n",
    "with Crank-Nicholson method we take an average of the explicit and the implicit time stepping when we discretize:\n",
    "\n",
    "$$\n",
    "j \\hbar \\frac{\\psi^{t+1}_x - \\psi^{t}_x}{\\Delta t} = \\frac{1}{2} H \\psi^{t+1}_x + \\frac{1}{2} H \\psi^{t}_x\n",
    "$$\n",
    "\n",
    "pd: $\\hbar = 1$\n",
    "\n",
    "where $H$ is the Hamiltonian, expressed as:\n",
    "\n",
    "$$\n",
    "H = - \\frac{\\hbar^2}{2m} \\frac{\\partial^2}{\\partial x^2} + V\n",
    "$$\n",
    "\n",
    "2nd order derivative is discretized as:\n",
    "\n",
    "$$\n",
    "\\frac{\\partial^2 \\psi^t_x}{\\partial x^2} = \\frac{\\psi^t_{x+1} - 2 \\psi^t_x + \\psi^t_{x-1}}{(\\Delta x)^2} = \\frac{D^2}{(\\Delta x)^2} \\psi^t_x\n",
    "$$\n",
    "\n",
    "the discretization of the 2nd order derivative ends up as a matrix:\n",
    "\n",
    "$$\n",
    "D^2 = \\left( \\begin{matrix} \n",
    "-2 && 1 && 0 && 0 && \\dots && 0 && 0 \\\\\n",
    "1 && -2 && 1 && 0 && \\dots && 0 && 0 \\\\\n",
    "0 && 1 && -2 && 1 && \\dots && 0 && 0 \\\\\n",
    "0 && 0 && 1 && -2 && \\dots && 0 && 0 \\\\\n",
    "\\vdots && \\vdots && \\vdots && \\vdots && \\ddots && \\vdots && \\vdots \\\\\n",
    "0 && 0 && 0 && 0 && \\dots && -2 && 1 \\\\\n",
    "0 && 0 && 0 && 0 && \\dots && 1 && -2 \\\\\n",
    "\\end{matrix} \\right)\n",
    "$$\n",
    "\n",
    "Solving for the next iteration of $\\psi$\n",
    "\n",
    "$$\n",
    "\\psi_x^{t+1} = (u + D^2 - \\beta V)^{-1} (u - D^2 + \\beta V) \\psi_x^t\n",
    "$$"
   ]
  },
  {
   "cell_type": "code",
   "execution_count": 22,
   "metadata": {},
   "outputs": [],
   "source": [
    "import torch\n",
    "import torch.nn as nn\n",
    "import numpy as np\n",
    "\n",
    "from scipy import sparse\n",
    "\n",
    "import matplotlib.pyplot as plt\n"
   ]
  },
  {
   "cell_type": "code",
   "execution_count": 20,
   "metadata": {},
   "outputs": [],
   "source": [
    "# Potential V(x)\n",
    "x_Vmin = 5         # center of V(x)\n",
    "T      = 1           # peroid of SHO \n",
    "\n",
    "omega = 2 * np.pi / T\n",
    "k = omega**2 * m\n",
    "V = 0.5 * k * (x - x_Vmin)**2\n"
   ]
  },
  {
   "cell_type": "code",
   "execution_count": 17,
   "metadata": {},
   "outputs": [],
   "source": [
    "dx    = 0.02                      # spatial separation\n",
    "x     = np.arange(0, 10, dx)       # spatial grid points\n",
    "\n",
    "kx    = 0.1                        # wave number\n",
    "m     = 1                          # mass\n",
    "sigma = 0.1                        # width of initial gaussian wave-packet\n",
    "x0    = 3.0                        # center of initial gaussian wave-packet\n",
    "\n",
    "A = 1.0 / (sigma * np.sqrt(np.pi)) # normalization constant\n",
    "\n",
    "# Initial Wavefunction\n",
    "psi0 = np.sqrt(A) * np.exp(-(x-x0)**2 / (2.0 * sigma**2)) * np.exp(1j * kx * x)\n",
    "\n",
    "# better than defining a new tensor, is to recast\n",
    "psi_wp = torch.as_tensor(psi0, dtype=torch.cfloat)"
   ]
  },
  {
   "cell_type": "code",
   "execution_count": 21,
   "metadata": {},
   "outputs": [
    {
     "data": {
      "image/png": "[encoded data removed]",
      "text/plain": [
       "<Figure size 432x288 with 1 Axes>"
      ]
     },
     "metadata": {
      "needs_background": "light"
     },
     "output_type": "display_data"
    }
   ],
   "source": [
    "# wave packet\n",
    "plt.plot(x, V*0.01, \"k--\", label=r\"$V(x) = \\frac{1}{2}m\\omega^2 (x-5)^2$ (x0.01)\")\n",
    "plt.plot(x, np.abs(psi_wp)**2, \"r\", label=r\"$\\vert\\psi(t=0,x)\\vert^2$\")\n",
    "plt.show()"
   ]
  },
  {
   "cell_type": "code",
   "execution_count": 29,
   "metadata": {},
   "outputs": [
    {
     "data": {
      "text/plain": [
       "array([[-2.,  1.,  0., ...,  0.,  0.,  0.],\n",
       "       [ 1., -2.,  1., ...,  0.,  0.,  0.],\n",
       "       [ 0.,  1., -2., ...,  0.,  0.,  0.],\n",
       "       ...,\n",
       "       [ 0.,  0.,  0., ..., -2.,  1.,  0.],\n",
       "       [ 0.,  0.,  0., ...,  1., -2.,  1.],\n",
       "       [ 0.,  0.,  0., ...,  0.,  1., -2.]])"
      ]
     },
     "execution_count": 29,
     "metadata": {},
     "output_type": "execute_result"
    }
   ],
   "source": [
    "# evolution\n",
    "m = 1\n",
    "hbar = 1\n",
    "dt = 0.5\n",
    "\n",
    "u = 1j * 4*m* dx**2 / ( hbar * dt )\n",
    "beta = 2*m* dx**2 / hbar**2\n",
    "\n",
    "# Laplace Operator (Finite Difference)\n",
    "D2 = sparse.diags([1, -2, 1], [-1, 0, 1], shape=(x.size, x.size)) / dx**2\n",
    "\n",
    "D2.toarray()*dx**2"
   ]
  },
  {
   "cell_type": "code",
   "execution_count": 31,
   "metadata": {},
   "outputs": [
    {
     "data": {
      "text/plain": [
       "(-3.4223058414939445e-13+1.23936885060294e-13j)"
      ]
     },
     "execution_count": 31,
     "metadata": {},
     "output_type": "execute_result"
    }
   ],
   "source": [
    "D2.dot(psi0).sum()"
   ]
  },
  {
   "cell_type": "code",
   "execution_count": 33,
   "metadata": {},
   "outputs": [],
   "source": [
    "D2t = torch.as_tensor(D2.toarray())"
   ]
  },
  {
   "cell_type": "code",
   "execution_count": 35,
   "metadata": {},
   "outputs": [
    {
     "ename": "RuntimeError",
     "evalue": "1D tensors expected, but got 2D and 1D tensors",
     "output_type": "error",
     "traceback": [
      "\u001b[1;31m---------------------------------------------------------------------------\u001b[0m",
      "\u001b[1;31mRuntimeError\u001b[0m                              Traceback (most recent call last)",
      "\u001b[1;32mc:\\msys64\\home\\Code\\ML-physics\\4_schodringer_net\\1_theory.ipynb Cell 9\u001b[0m in \u001b[0;36m<module>\u001b[1;34m\u001b[0m\n\u001b[1;32m----> <a href='vscode-notebook-cell:/c%3A/msys64/home/Code/ML-physics/4_schodringer_net/1_theory.ipynb#X16sZmlsZQ%3D%3D?line=0'>1</a>\u001b[0m D2t\u001b[39m.\u001b[39;49mdot(psi_wp)\n",
      "\u001b[1;31mRuntimeError\u001b[0m: 1D tensors expected, but got 2D and 1D tensors"
     ]
    }
   ],
   "source": [
    "D2t.dot(psi_wp)"
   ]
  },
  {
   "cell_type": "code",
   "execution_count": 36,
   "metadata": {},
   "outputs": [
    {
     "ename": "RuntimeError",
     "evalue": "expected scalar type Double but found ComplexFloat",
     "output_type": "error",
     "traceback": [
      "\u001b[1;31m---------------------------------------------------------------------------\u001b[0m",
      "\u001b[1;31mRuntimeError\u001b[0m                              Traceback (most recent call last)",
      "\u001b[1;32mc:\\msys64\\home\\Code\\ML-physics\\4_schodringer_net\\1_theory.ipynb Cell 10\u001b[0m in \u001b[0;36m<module>\u001b[1;34m\u001b[0m\n\u001b[1;32m----> <a href='vscode-notebook-cell:/c%3A/msys64/home/Code/ML-physics/4_schodringer_net/1_theory.ipynb#X14sZmlsZQ%3D%3D?line=0'>1</a>\u001b[0m torch\u001b[39m.\u001b[39;49mmatmul(D2t, psi_wp)\n",
      "\u001b[1;31mRuntimeError\u001b[0m: expected scalar type Double but found ComplexFloat"
     ]
    }
   ],
   "source": [
    "torch.matmul(D2t, psi_wp)"
   ]
  },
  {
   "cell_type": "code",
   "execution_count": 37,
   "metadata": {},
   "outputs": [
    {
     "ename": "RuntimeError",
     "evalue": "expected scalar type ComplexFloat but found Double",
     "output_type": "error",
     "traceback": [
      "\u001b[1;31m---------------------------------------------------------------------------\u001b[0m",
      "\u001b[1;31mRuntimeError\u001b[0m                              Traceback (most recent call last)",
      "\u001b[1;32mc:\\msys64\\home\\Code\\ML-physics\\4_schodringer_net\\1_theory.ipynb Cell 11\u001b[0m in \u001b[0;36m<module>\u001b[1;34m\u001b[0m\n\u001b[1;32m----> <a href='vscode-notebook-cell:/c%3A/msys64/home/Code/ML-physics/4_schodringer_net/1_theory.ipynb#X20sZmlsZQ%3D%3D?line=0'>1</a>\u001b[0m torch\u001b[39m.\u001b[39;49meinsum(\u001b[39m'\u001b[39;49m\u001b[39mij,j->i\u001b[39;49m\u001b[39m'\u001b[39;49m, D2t, psi_wp)\n",
      "File \u001b[1;32mc:\\Users\\fbien.DESKTOP-6FMEAR7\\.conda\\envs\\deepl\\lib\\site-packages\\torch\\functional.py:378\u001b[0m, in \u001b[0;36meinsum\u001b[1;34m(*args)\u001b[0m\n\u001b[0;32m    373\u001b[0m     \u001b[39mreturn\u001b[39;00m einsum(equation, \u001b[39m*\u001b[39m_operands)\n\u001b[0;32m    375\u001b[0m \u001b[39mif\u001b[39;00m \u001b[39mlen\u001b[39m(operands) \u001b[39m<\u001b[39m\u001b[39m=\u001b[39m \u001b[39m2\u001b[39m \u001b[39mor\u001b[39;00m \u001b[39mnot\u001b[39;00m opt_einsum\u001b[39m.\u001b[39menabled:\n\u001b[0;32m    376\u001b[0m     \u001b[39m# the path for contracting 0 or 1 time(s) is already optimized\u001b[39;00m\n\u001b[0;32m    377\u001b[0m     \u001b[39m# or the user has disabled using opt_einsum\u001b[39;00m\n\u001b[1;32m--> 378\u001b[0m     \u001b[39mreturn\u001b[39;00m _VF\u001b[39m.\u001b[39;49meinsum(equation, operands)  \u001b[39m# type: ignore[attr-defined]\u001b[39;00m\n\u001b[0;32m    380\u001b[0m path \u001b[39m=\u001b[39m \u001b[39mNone\u001b[39;00m\n\u001b[0;32m    381\u001b[0m \u001b[39mif\u001b[39;00m opt_einsum\u001b[39m.\u001b[39mis_available():\n",
      "\u001b[1;31mRuntimeError\u001b[0m: expected scalar type ComplexFloat but found Double"
     ]
    }
   ],
   "source": [
    "torch.einsum('ij,j->i', D2t, psi_wp)"
   ]
  },
  {
   "cell_type": "code",
   "execution_count": 38,
   "metadata": {},
   "outputs": [],
   "source": [
    "D2t = torch.as_tensor(D2.toarray(), dtype = torch.cfloat)"
   ]
  },
  {
   "cell_type": "code",
   "execution_count": 40,
   "metadata": {},
   "outputs": [
    {
     "data": {
      "text/plain": [
       "tensor(0.0007+0.0004j)"
      ]
     },
     "execution_count": 40,
     "metadata": {},
     "output_type": "execute_result"
    }
   ],
   "source": [
    "torch.einsum('ij,j->i', D2t, psi_wp).sum()"
   ]
  },
  {
   "cell_type": "code",
   "execution_count": null,
   "metadata": {},
   "outputs": [],
   "source": []
  }
 ],
 "metadata": {
  "kernelspec": {
   "display_name": "deepl",
   "language": "python",
   "name": "python3"
  },
  "language_info": {
   "codemirror_mode": {
    "name": "ipython",
    "version": 3
   },
   "file_extension": ".py",
   "mimetype": "text/x-python",
   "name": "python",
   "nbconvert_exporter": "python",
   "pygments_lexer": "ipython3",
   "version": "3.10.9"
  },
  "orig_nbformat": 4
 },
 "nbformat": 4,
 "nbformat_minor": 2
}
