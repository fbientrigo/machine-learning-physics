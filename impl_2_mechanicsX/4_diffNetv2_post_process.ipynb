{
  "cells": [
    {
      "cell_type": "markdown",
      "metadata": {
        "id": "rFl6uIc33t0g"
      },
      "source": [
        "## Post processing\n",
        "$$\n",
        "T_{\\text{post}} (\\hat x_f) = \\frac{1}{2} \\{ \\tanh [20( \\hat x_f - x_f - \\epsilon )] -  \\tanh [20( \\hat x_f - x_f + \\epsilon )]  \\} + 1\n",
        "$$\n",
        "\n",
        "lo cual nos entregara distintos valores dependiendo de la distancia entre los puntos finales\n",
        "- $\\hat x_f$ la posición final predicha por el modelo\n",
        "- $x_f$ la posición final real\n",
        "- $\\epsilon$ la distancia permitida entre los puntos\n",
        "\n",
        "dado esto funciona tal que:\n",
        "- $T_{\\text{post}} ( | \\hat x_f - x_f | \\leq \\epsilon ) \\approx 0$\n",
        "- $T_{\\text{post}} ( | \\hat x_f - x_f | > \\epsilon ) \\approx 1$\n"
      ]
    },
    {
      "cell_type": "code",
      "execution_count": 1,
      "metadata": {
        "id": "alDXBHdt7COr"
      },
      "outputs": [],
      "source": [
        "import torch\n",
        "import numpy as np\n",
        "import matplotlib.pyplot as plt"
      ]
    },
    {
      "cell_type": "code",
      "execution_count": 2,
      "metadata": {
        "id": "dsyck-QI7lBb"
      },
      "outputs": [],
      "source": [
        "def activation_function_tpost(x, xreal, epsilon):\n",
        "    \"\"\"function of activation used in the construction of T_postprocessing layer\"\"\"\n",
        "    jump_force = 10\n",
        "    tanh_results = torch.tanh( jump_force * (x - xreal - epsilon)) - torch.tanh( jump_force * (x - xreal + epsilon))\n",
        "    return 1 + ( tanh_results ) "
      ]
    },
    {
      "cell_type": "code",
      "execution_count": 23,
      "metadata": {
        "id": "S8IOGL6K--AB"
      },
      "outputs": [],
      "source": [
        "# trying out this function\n",
        "x = torch.tensor(np.linspace(1000,5000, 1000))\n",
        "xreal, epsilon = 3000, 1e-1\n",
        "t_output = activation_function_tpost(x, xreal, epsilon)"
      ]
    },
    {
      "cell_type": "code",
      "execution_count": 24,
      "metadata": {
        "colab": {
          "base_uri": "https://localhost:8080/",
          "height": 452
        },
        "id": "qQb7TcFb-_ep",
        "outputId": "da1f28c8-6223-4e61-8552-e62e09dad4c7"
      },
      "outputs": [
        {
          "data": {
            "image/png": "[encoded data removed]",
            "text/plain": [
              "<Figure size 432x288 with 1 Axes>"
            ]
          },
          "metadata": {
            "needs_background": "light"
          },
          "output_type": "display_data"
        }
      ],
      "source": [
        "plt.plot(x, 1+ 50*( torch.tanh(20 * (x - xreal - epsilon)) - torch.tanh(20 * (x - xreal + epsilon)) ) ) \n",
        "plt.title(\"activation_function_tpost\")\n",
        "plt.grid()\n",
        "plt.show()"
      ]
    },
    {
      "cell_type": "code",
      "execution_count": 85,
      "metadata": {
        "colab": {
          "base_uri": "https://localhost:8080/",
          "height": 452
        },
        "id": "vHdwVcOm8DN7",
        "outputId": "de762783-75b0-40e1-b5b0-3fb32a09678c"
      },
      "outputs": [
        {
          "data": {
            "image/png": "[encoded data removed]",
            "text/plain": [
              "<Figure size 640x480 with 1 Axes>"
            ]
          },
          "metadata": {},
          "output_type": "display_data"
        }
      ],
      "source": [
        "plt.plot(x, t_output)\n",
        "plt.title(\"activation_function_tpost\")\n",
        "plt.grid()\n",
        "plt.show()"
      ]
    },
    {
      "cell_type": "code",
      "execution_count": null,
      "metadata": {
        "id": "4GelwVqw6Ktd"
      },
      "outputs": [],
      "source": [
        "def Tpost(X, xreal = 0, epsilon = 1e-3):\n",
        "    \"\"\"\n",
        "    X takes a tensor and compares its position coordinate\n",
        "    to the xreal, if its inside a given distance, the function returns 0\n",
        "    else it will return 1\n",
        "    \"\"\"\n",
        "\n",
        "    if len(list(X.shape)) == 1: # one data point case\n",
        "        x, v = X[0], X[1]\n",
        "    else:\n",
        "        x, v = X[:,0], X[:,1]\n",
        "\n",
        "    # if x its close to xreal, this will return close to 0\n",
        "    # else it returns close to 1\n",
        "    activation_result = activation_function_tpost(x, xreal, epsilon)\n",
        "    \n",
        "    print(\"on post processing, activation result was:\")\n",
        "    print(activation_result)\n",
        "\n",
        "\n",
        "    if (activation_result >= epsilon): # if K is not close to 0\n",
        "        v = torch.zeros(len(v))\n",
        "\n",
        "    return torch.stack([activation_result, v]).T"
      ]
    },
    {
      "cell_type": "code",
      "execution_count": 19,
      "metadata": {
        "id": "j6s4g0Gv3t0m"
      },
      "outputs": [],
      "source": [
        "import torch\n",
        "from torch import nn\n",
        "\n",
        "class T_postprocessing(nn.Module):\n",
        "    \"\"\"\n",
        "    X takes a tensor and compares its position coordinate\n",
        "    to the xreal, if its inside a given distance, the function returns 0\n",
        "    else it will return 1\n",
        "\n",
        "    if the return is close to 0, it gives out the velocity as well\n",
        "    \"\"\"\n",
        "    import torch\n",
        "    from torch import nn\n",
        "    import matplotlib.pyplot as plt\n",
        "    import numpy as np\n",
        "    def __init__(self, xreal = 0, epsilon = 1e-3):\n",
        "        super(T_postprocessing, self).__init__()\n",
        "        self.xreal = xreal\n",
        "        self.epsilon = epsilon\n",
        "        \n",
        "        \n",
        "    def forward(self, X):\n",
        "        if len(list(X.shape)) == 1: # one data point case\n",
        "            x, v = X[0], X[1]\n",
        "        else:\n",
        "            x, v = X[:,0], X[:,1]\n",
        "\n",
        "        # if x its close to xreal, this will return close to 0\n",
        "        # else it returns close to 1\n",
        "        activation_result = activation_function_tpost(x, xreal, epsilon)\n",
        "        \n",
        "        print(\"on post processing, activation result was:\")\n",
        "        print(activation_result)\n",
        "\n",
        "\n",
        "        if (activation_result >= epsilon): # if K is not close to 0\n",
        "            v = torch.zeros(len(v))\n",
        "\n",
        "        return torch.stack([activation_result, v]).T\n",
        "\n"
      ]
    },
    {
      "cell_type": "code",
      "execution_count": 20,
      "metadata": {
        "colab": {
          "base_uri": "https://localhost:8080/",
          "height": 408
        },
        "id": "MG5kTRQb5l22",
        "outputId": "e6ca62a3-0f5b-4afd-ebb5-1b192cc4cf31"
      },
      "outputs": [
        {
          "name": "stdout",
          "output_type": "stream",
          "text": [
            "on post processing, activation result was:\n",
            "tensor([1.5000])\n",
            "tensor([[1.5000, 0.0000]])\n",
            "on post processing, activation result was:\n",
            "tensor([1.5000, 1.5000])\n"
          ]
        },
        {
          "ename": "RuntimeError",
          "evalue": "ignored",
          "output_type": "error",
          "traceback": [
            "\u001b[0;31m---------------------------------------------------------------------------\u001b[0m",
            "\u001b[0;31mRuntimeError\u001b[0m                              Traceback (most recent call last)",
            "\u001b[0;32m<ipython-input-20-531e6333f725>\u001b[0m in \u001b[0;36m<cell line: 9>\u001b[0;34m()\u001b[0m\n\u001b[1;32m      7\u001b[0m \u001b[0;34m\u001b[0m\u001b[0m\n\u001b[1;32m      8\u001b[0m \u001b[0mprint\u001b[0m\u001b[0;34m(\u001b[0m\u001b[0mtpost\u001b[0m\u001b[0;34m.\u001b[0m\u001b[0mforward\u001b[0m\u001b[0;34m(\u001b[0m\u001b[0mX1\u001b[0m\u001b[0;34m)\u001b[0m\u001b[0;34m)\u001b[0m\u001b[0;34m\u001b[0m\u001b[0;34m\u001b[0m\u001b[0m\n\u001b[0;32m----> 9\u001b[0;31m \u001b[0mprint\u001b[0m\u001b[0;34m(\u001b[0m\u001b[0mtpost\u001b[0m\u001b[0;34m.\u001b[0m\u001b[0mforward\u001b[0m\u001b[0;34m(\u001b[0m\u001b[0mX\u001b[0m\u001b[0;34m)\u001b[0m\u001b[0;34m)\u001b[0m\u001b[0;34m\u001b[0m\u001b[0;34m\u001b[0m\u001b[0m\n\u001b[0m",
            "\u001b[0;32m<ipython-input-19-9d0afb63f34a>\u001b[0m in \u001b[0;36mforward\u001b[0;34m(self, X)\u001b[0m\n\u001b[1;32m     34\u001b[0m \u001b[0;34m\u001b[0m\u001b[0m\n\u001b[1;32m     35\u001b[0m \u001b[0;34m\u001b[0m\u001b[0m\n\u001b[0;32m---> 36\u001b[0;31m         \u001b[0;32mif\u001b[0m \u001b[0;34m(\u001b[0m\u001b[0mactivation_result\u001b[0m \u001b[0;34m>=\u001b[0m \u001b[0mepsilon\u001b[0m\u001b[0;34m)\u001b[0m\u001b[0;34m:\u001b[0m \u001b[0;31m# if K is not close to 0\u001b[0m\u001b[0;34m\u001b[0m\u001b[0;34m\u001b[0m\u001b[0m\n\u001b[0m\u001b[1;32m     37\u001b[0m             \u001b[0mv\u001b[0m \u001b[0;34m=\u001b[0m \u001b[0mtorch\u001b[0m\u001b[0;34m.\u001b[0m\u001b[0mzeros\u001b[0m\u001b[0;34m(\u001b[0m\u001b[0mlen\u001b[0m\u001b[0;34m(\u001b[0m\u001b[0mv\u001b[0m\u001b[0;34m)\u001b[0m\u001b[0;34m)\u001b[0m\u001b[0;34m\u001b[0m\u001b[0;34m\u001b[0m\u001b[0m\n\u001b[1;32m     38\u001b[0m \u001b[0;34m\u001b[0m\u001b[0m\n",
            "\u001b[0;31mRuntimeError\u001b[0m: Boolean value of Tensor with more than one value is ambiguous"
          ]
        }
      ],
      "source": [
        "xreal, epsilon = 0, 1e-3\n",
        "tpost =T_postprocessing(xreal, epsilon)\n",
        "\n",
        "# how the data should be passed\n",
        "X1 = torch.tensor([[300,100]])\n",
        "X = torch.tensor([[300,100], [340, 230]])\n",
        "\n",
        "print(tpost.forward(X1))\n",
        "print(tpost.forward(X))"
      ]
    },
    {
      "cell_type": "markdown",
      "metadata": {
        "id": "EbawFn7L3t0n"
      },
      "source": [
        "# 1. Redifining how the force function works\n",
        "\n",
        "Actual pitfalls:\n",
        "- its fixed and then data is generated, it should be the other way\n",
        "- cant allow negative values\n",
        "- only works on integers values because of the interpolation part\n",
        "\n",
        "\n",
        "Ideas to fix it:\n",
        "- Generate or read data, then with the information generate the Network\n",
        "- `x` -> `percentage with respect to limitsX,V`\n",
        "\n",
        "How the percentage works mathematically:\n",
        "\n",
        "This obtains the percentage from the data point X\n",
        "$$\n",
        "Y \\% = \\frac{X - \\text{lowlimit}}{ \\text{upplimit} - \\text{lowlimit}} \\cdot 100 \\%\n",
        "$$\n",
        "\n",
        "Obtains the data point X from the percentage\n",
        "$$\n",
        "X = (\\text{upplimit} - \\text{lowlimit}) \\frac{Y}{100} + \\text{lowlimit}\n",
        "$$"
      ]
    },
    {
      "cell_type": "code",
      "execution_count": 1,
      "metadata": {
        "id": "2PS7uwBr3t0n"
      },
      "outputs": [],
      "source": [
        "import torch\n",
        "from torch import nn\n",
        "import matplotlib.pyplot as plt\n",
        "import numpy as np"
      ]
    },
    {
      "cell_type": "code",
      "execution_count": null,
      "metadata": {
        "id": "pPqfvQwY3t0o"
      },
      "outputs": [],
      "source": [
        "class F_percentage_function(nn.Module):\n",
        "    \"\"\"\n",
        "    Activation function for fitting, works by saving points in a parametrized array\n",
        "    its domain is constructed with lower_limit and upper_limit\n",
        "    then the ammount of points it contains is decided with N\n",
        "\n",
        "    this is the advanced version of F_function\n",
        "    \"\"\"\n",
        "    import torch\n",
        "    from torch import nn\n",
        "    import matplotlib.pyplot as plt\n",
        "    import numpy as np\n",
        "    def __init__(self, N, lower_limit, upper_limit, dt):\n",
        "        super(F_percentage_function, self).__init__()\n",
        "        self.force = nn.Parameter(torch.rand(N), requires_grad=True)\n",
        "        self.lower_limit = lower_limit\n",
        "        self.upper_limit = upper_limit\n",
        "        \n",
        "        \n",
        "    def forward(self, X):\n",
        "        \"\"\"\n",
        "        does an interpolation based on percentage, \n",
        "        - whats the percentage of the data point\n",
        "        - where is the closest force point to this percentage\n",
        "        - then returns [x, v + dt * selected_force]\n",
        "        \"\"\"\n",
        "\n",
        "        # extracting values\n",
        "        if len(list(X.shape)) == 1: # one data point case\n",
        "            x, v = X[0], X[1]\n",
        "        else:\n",
        "            x, v = X[:,0], X[:,1]\n",
        "\n",
        "        # percentage for selecting the force point\n",
        "        y_percentage = (x - self.lower_limit)/(self.upper_limit - self.lower_limit) * 100\n",
        "\n",
        "        # Select the component of self.force that is closest to the percentage value\n",
        "        idx = torch.argmin(torch.abs(y_percentage.unsqueeze(1) - torch.arange(0, 100, 100/self.force.shape[0])), dim=1)\n",
        "\n",
        "        # Get the selected force value\n",
        "        selected_force = self.force[idx]\n",
        "\n",
        "        # Return the updated input\n",
        "        return torch.stack([x, v + dt * selected_force]).T\n",
        "\n",
        "    def plot_force(self):\n",
        "        \"\"\"\n",
        "        plots the force points, giving not the index but the real meaning of inputs x\n",
        "        \"\"\"\n",
        "        force_points = np.array(self.force.detach())\n",
        "        x_points = np.linspace(lower_limit, upper_limit, N)\n",
        "        \n",
        "        plt.plot(x_points, force_points)\n",
        "        plt.xlabel(\"x\")\n",
        "        plt.ylabel(\"force\")\n",
        "        plt.show()\n"
      ]
    },
    {
      "cell_type": "code",
      "execution_count": null,
      "metadata": {
        "id": "QkJw7iMr3t0p",
        "outputId": "ac20a6aa-cd49-49b3-8687-9b397d0cfe19"
      },
      "outputs": [
        {
          "name": "stdout",
          "output_type": "stream",
          "text": [
            "tensor([[300.0000, 100.0032]], grad_fn=<PermuteBackward0>)\n",
            "tensor([[300.0000, 100.0032],\n",
            "        [340.0000, 230.0021]], grad_fn=<PermuteBackward0>)\n"
          ]
        }
      ],
      "source": [
        "N, lower_limit, upper_limit, dt = 1000, 100, 400, 5e-3\n",
        "fper = F_percentage_function(N, lower_limit, upper_limit, dt)\n",
        "\n",
        "# how the data should be passed\n",
        "X1 = torch.tensor([[300,100]])\n",
        "X = torch.tensor([[300,100], [340, 230]])\n",
        "\n",
        "print(fper.forward(X1))\n",
        "print(fper.forward(X))"
      ]
    },
    {
      "cell_type": "code",
      "execution_count": null,
      "metadata": {
        "id": "3ytP9uWb3t0q",
        "outputId": "9682e328-688c-491c-c97b-b974dd09716f"
      },
      "outputs": [
        {
          "name": "stdout",
          "output_type": "stream",
          "text": [
            "tensor([[4.0000e+02, 3.5087e-03]], grad_fn=<PermuteBackward0>)\n",
            "tensor([[5.0000e+02, 3.5087e-03]], grad_fn=<PermuteBackward0>)\n"
          ]
        }
      ],
      "source": [
        "X_upper = torch.tensor([[400,0]])\n",
        "X_overflow = torch.tensor([[500,0]])\n",
        "\n",
        "print(fper.forward(X_upper))\n",
        "print(fper.forward(X_overflow)) # overflow problem is fixed :)"
      ]
    },
    {
      "cell_type": "code",
      "execution_count": null,
      "metadata": {
        "id": "QE5oaz3s3t0q",
        "outputId": "ff36b5b2-c54b-4a9e-ec8f-b46fb9c9302b"
      },
      "outputs": [
        {
          "data": {
            "image/png": "[encoded data removed]",
            "text/plain": [
              "<Figure size 432x288 with 1 Axes>"
            ]
          },
          "metadata": {
            "needs_background": "light"
          },
          "output_type": "display_data"
        }
      ],
      "source": [
        "fper.plot_force()"
      ]
    },
    {
      "cell_type": "markdown",
      "metadata": {
        "id": "wi9gy0vxK2xG"
      },
      "source": [
        "\n",
        "# Loading model and continuum training"
      ]
    },
    {
      "cell_type": "code",
      "execution_count": null,
      "metadata": {
        "id": "g-lixgrb3t0r"
      },
      "outputs": [],
      "source": [
        "# run this if using local\n",
        "# path where you have this file, this is mine:\n",
        "base_path = r\"./\"\n",
        "\n",
        "data_path = base_path + r\"data/\"\n",
        "model_path = base_path + r\"model/\""
      ]
    },
    {
      "cell_type": "code",
      "execution_count": null,
      "metadata": {
        "id": "YPHYm25HK2xH"
      },
      "outputs": [],
      "source": [
        "from diffnet import F_function, W_matrix, diffNet, smooth_loss, physics_constrain, plot_f\n",
        "from dataset import MyDataset, DataLoader\n",
        "import torch\n",
        "import torch.nn as nn\n",
        "\n",
        "import pandas as pd\n",
        "import glob\n",
        "import matplotlib.pyplot as plt\n",
        "\n",
        "data_file_name = \"song_f3.csv\"\n",
        "model_file_name = \"song_f3_0408_epoch232.pt\"\n",
        "working_date = \"0409\"\n",
        "\n",
        "name_for_model = \"song_f3\"\n",
        "\n",
        "batch_size = 100\n"
      ]
    },
    {
      "cell_type": "code",
      "execution_count": null,
      "metadata": {
        "id": "LNiUCz0IHmxd"
      },
      "outputs": [],
      "source": [
        "# Loading data\n",
        "data_path = base_path + './data/'\n",
        "model_path = base_path + './model/'\n",
        "\n",
        "data = pd.read_csv( data_path + data_file_name  , index_col=0)\n",
        "my_dataset = MyDataset(data)\n",
        "my_dataloader = DataLoader(my_dataset, batch_size=batch_size, shuffle=True)"
      ]
    },
    {
      "cell_type": "code",
      "execution_count": null,
      "metadata": {
        "id": "sD_Dxbbd-tdF"
      },
      "outputs": [],
      "source": [
        "# creating the model first time\n",
        "# model = diffNet(depth=50)"
      ]
    },
    {
      "cell_type": "code",
      "execution_count": null,
      "metadata": {
        "colab": {
          "base_uri": "https://localhost:8080/",
          "height": 452
        },
        "id": "y7K0vd9iK2xH",
        "outputId": "807471cb-ddff-4bc0-ebf8-502fca720656"
      },
      "outputs": [
        {
          "data": {
            "image/png": "[encoded data removed]",
            "text/plain": [
              "<Figure size 640x480 with 1 Axes>"
            ]
          },
          "metadata": {},
          "output_type": "display_data"
        }
      ],
      "source": [
        "# Loading the model\n",
        "model = torch.load( model_path + model_file_name )\n",
        "# model = torch.load(model_file_name)\n",
        "\n",
        "plt.plot(list(model.parameters())[0].detach())\n",
        "N = len(list(model.parameters())[0])\n",
        "plt.title(f\"Loaded parameters of activation function with {N} parameters\")\n",
        "plt.show()\n",
        "\n",
        "\n",
        "loss_array = []\n",
        "global_model_epoch = 0"
      ]
    },
    {
      "cell_type": "code",
      "execution_count": null,
      "metadata": {
        "colab": {
          "base_uri": "https://localhost:8080/",
          "height": 1000
        },
        "id": "cOl7mohCK2xH",
        "outputId": "a766c3d1-df91-4a24-8987-97f37064af45"
      },
      "outputs": [
        {
          "name": "stdout",
          "output_type": "stream",
          "text": [
            "L2_loss: 3.5533249378204346\n",
            "[Epoch 1, Mini-batch   100] Loss: 0.098\n",
            "L2_loss: 3.2502827644348145\n",
            "[Epoch 1, Mini-batch   200] Loss: 0.096\n",
            "L2_loss: 3.3081769943237305\n",
            "[Epoch 1, Mini-batch   300] Loss: 0.097\n",
            "L2_loss: 3.4954352378845215\n",
            "[Epoch 1, Mini-batch   400] Loss: 0.097\n",
            "L2_loss: 3.7099666595458984\n",
            "[Epoch 1, Mini-batch   500] Loss: 0.097\n",
            "L2_loss: 3.5183262825012207\n",
            "[Epoch 1, Mini-batch   600] Loss: 0.098\n",
            "L2_loss: 3.7533509731292725\n",
            "[Epoch 1, Mini-batch   700] Loss: 0.097\n",
            "L2_loss: 3.6665782928466797\n",
            "[Epoch 1, Mini-batch   800] Loss: 0.097\n",
            "L2_loss: 3.5087738037109375\n",
            "[Epoch 2, Mini-batch   100] Loss: 0.148\n",
            "L2_loss: 3.5693116188049316\n",
            "[Epoch 2, Mini-batch   200] Loss: 0.097\n",
            "L2_loss: 3.700058937072754\n",
            "[Epoch 2, Mini-batch   300] Loss: 0.097\n",
            "L2_loss: 3.815457820892334\n",
            "[Epoch 2, Mini-batch   400] Loss: 0.097\n",
            "L2_loss: 3.5506465435028076\n",
            "[Epoch 2, Mini-batch   500] Loss: 0.097\n",
            "L2_loss: 3.733250141143799\n",
            "[Epoch 2, Mini-batch   600] Loss: 0.097\n",
            "L2_loss: 3.742058277130127\n",
            "[Epoch 2, Mini-batch   700] Loss: 0.098\n",
            "L2_loss: 3.709275960922241\n",
            "[Epoch 2, Mini-batch   800] Loss: 0.097\n",
            "L2_loss: 3.475365400314331\n",
            "[Epoch 3, Mini-batch   100] Loss: 0.147\n",
            "L2_loss: 3.614722490310669\n",
            "[Epoch 3, Mini-batch   200] Loss: 0.097\n",
            "L2_loss: 3.921175003051758\n",
            "[Epoch 3, Mini-batch   300] Loss: 0.097\n",
            "L2_loss: 3.568253755569458\n",
            "[Epoch 3, Mini-batch   400] Loss: 0.097\n",
            "L2_loss: 3.6871790885925293\n",
            "[Epoch 3, Mini-batch   500] Loss: 0.097\n",
            "L2_loss: 3.7773842811584473\n",
            "[Epoch 3, Mini-batch   600] Loss: 0.097\n",
            "L2_loss: 3.629669666290283\n",
            "[Epoch 3, Mini-batch   700] Loss: 0.097\n",
            "L2_loss: 3.8809969425201416\n",
            "[Epoch 3, Mini-batch   800] Loss: 0.097\n",
            "L2_loss: 3.519892454147339\n",
            "[Epoch 4, Mini-batch   100] Loss: 0.148\n",
            "L2_loss: 3.594248056411743\n",
            "[Epoch 4, Mini-batch   200] Loss: 0.097\n",
            "L2_loss: 3.5050628185272217\n",
            "[Epoch 4, Mini-batch   300] Loss: 0.097\n",
            "L2_loss: 3.537679433822632\n",
            "[Epoch 4, Mini-batch   400] Loss: 0.096\n",
            "L2_loss: 3.4843432903289795\n",
            "[Epoch 4, Mini-batch   500] Loss: 0.097\n",
            "L2_loss: 3.87900447845459\n",
            "[Epoch 4, Mini-batch   600] Loss: 0.097\n",
            "L2_loss: 3.6238341331481934\n",
            "[Epoch 4, Mini-batch   700] Loss: 0.097\n",
            "L2_loss: 3.847018003463745\n",
            "[Epoch 4, Mini-batch   800] Loss: 0.097\n",
            "L2_loss: 4.0406389236450195\n",
            "[Epoch 5, Mini-batch   100] Loss: 0.149\n",
            "L2_loss: 4.290695667266846\n",
            "[Epoch 5, Mini-batch   200] Loss: 0.097\n",
            "L2_loss: 3.432342529296875\n",
            "[Epoch 5, Mini-batch   300] Loss: 0.097\n",
            "L2_loss: 3.7344274520874023\n",
            "[Epoch 5, Mini-batch   400] Loss: 0.097\n",
            "L2_loss: 3.5937232971191406\n",
            "[Epoch 5, Mini-batch   500] Loss: 0.097\n",
            "L2_loss: 3.4448330402374268\n",
            "[Epoch 5, Mini-batch   600] Loss: 0.097\n",
            "L2_loss: 3.1642062664031982\n",
            "[Epoch 5, Mini-batch   700] Loss: 0.096\n",
            "L2_loss: 4.118690013885498\n",
            "[Epoch 5, Mini-batch   800] Loss: 0.097\n",
            "L2_loss: 3.7833523750305176\n",
            "[Epoch 6, Mini-batch   100] Loss: 0.149\n",
            "L2_loss: 3.341327667236328\n",
            "[Epoch 6, Mini-batch   200] Loss: 0.097\n",
            "L2_loss: 3.7083017826080322\n",
            "[Epoch 6, Mini-batch   300] Loss: 0.096\n",
            "L2_loss: 3.431375026702881\n",
            "[Epoch 6, Mini-batch   400] Loss: 0.097\n",
            "L2_loss: 3.772702693939209\n",
            "[Epoch 6, Mini-batch   500] Loss: 0.098\n",
            "L2_loss: 3.6795947551727295\n",
            "[Epoch 6, Mini-batch   600] Loss: 0.097\n",
            "L2_loss: 3.851959466934204\n",
            "[Epoch 6, Mini-batch   700] Loss: 0.096\n",
            "L2_loss: 3.9151434898376465\n",
            "[Epoch 6, Mini-batch   800] Loss: 0.097\n",
            "L2_loss: 3.488759994506836\n",
            "[Epoch 7, Mini-batch   100] Loss: 0.148\n",
            "L2_loss: 3.5065932273864746\n",
            "[Epoch 7, Mini-batch   200] Loss: 0.097\n",
            "L2_loss: 3.411400556564331\n",
            "[Epoch 7, Mini-batch   300] Loss: 0.097\n",
            "L2_loss: 3.7111387252807617\n",
            "[Epoch 7, Mini-batch   400] Loss: 0.097\n",
            "L2_loss: 3.9692306518554688\n",
            "[Epoch 7, Mini-batch   500] Loss: 0.096\n",
            "L2_loss: 3.982461929321289\n",
            "[Epoch 7, Mini-batch   600] Loss: 0.097\n",
            "L2_loss: 3.4676318168640137\n",
            "[Epoch 7, Mini-batch   700] Loss: 0.097\n",
            "L2_loss: 3.788142204284668\n",
            "[Epoch 7, Mini-batch   800] Loss: 0.097\n",
            "L2_loss: 3.679415225982666\n",
            "[Epoch 8, Mini-batch   100] Loss: 0.148\n",
            "L2_loss: 3.5905513763427734\n",
            "[Epoch 8, Mini-batch   200] Loss: 0.097\n",
            "L2_loss: 3.290210723876953\n",
            "[Epoch 8, Mini-batch   300] Loss: 0.096\n",
            "L2_loss: 4.1622161865234375\n",
            "[Epoch 8, Mini-batch   400] Loss: 0.097\n",
            "L2_loss: 3.7369861602783203\n",
            "[Epoch 8, Mini-batch   500] Loss: 0.097\n",
            "L2_loss: 3.6308999061584473\n",
            "[Epoch 8, Mini-batch   600] Loss: 0.097\n",
            "L2_loss: 3.725261688232422\n",
            "[Epoch 8, Mini-batch   700] Loss: 0.096\n",
            "L2_loss: 4.031702518463135\n",
            "[Epoch 8, Mini-batch   800] Loss: 0.097\n",
            "L2_loss: 3.837986469268799\n",
            "[Epoch 9, Mini-batch   100] Loss: 0.148\n",
            "L2_loss: 4.047757625579834\n",
            "[Epoch 9, Mini-batch   200] Loss: 0.096\n",
            "L2_loss: 3.646944522857666\n",
            "[Epoch 9, Mini-batch   300] Loss: 0.097\n",
            "L2_loss: 4.06178092956543\n",
            "[Epoch 9, Mini-batch   400] Loss: 0.097\n",
            "L2_loss: 3.4897210597991943\n",
            "[Epoch 9, Mini-batch   500] Loss: 0.097\n",
            "L2_loss: 3.5012764930725098\n",
            "[Epoch 9, Mini-batch   600] Loss: 0.097\n",
            "L2_loss: 3.5893208980560303\n",
            "[Epoch 9, Mini-batch   700] Loss: 0.097\n",
            "L2_loss: 3.4930830001831055\n",
            "[Epoch 9, Mini-batch   800] Loss: 0.097\n",
            "L2_loss: 3.361673355102539\n",
            "[Epoch 10, Mini-batch   100] Loss: 0.147\n",
            "L2_loss: 3.9037301540374756\n",
            "[Epoch 10, Mini-batch   200] Loss: 0.097\n",
            "L2_loss: 3.6776115894317627\n",
            "[Epoch 10, Mini-batch   300] Loss: 0.097\n",
            "L2_loss: 3.934727430343628\n",
            "[Epoch 10, Mini-batch   400] Loss: 0.097\n",
            "L2_loss: 3.8713624477386475\n",
            "[Epoch 10, Mini-batch   500] Loss: 0.097\n",
            "L2_loss: 3.9651145935058594\n",
            "[Epoch 10, Mini-batch   600] Loss: 0.098\n",
            "L2_loss: 3.697782516479492\n",
            "[Epoch 10, Mini-batch   700] Loss: 0.097\n",
            "L2_loss: 3.882676839828491\n",
            "[Epoch 10, Mini-batch   800] Loss: 0.097\n",
            "L2_loss: 3.516374111175537\n",
            "[Epoch 11, Mini-batch   100] Loss: 0.148\n",
            "L2_loss: 3.711758852005005\n",
            "[Epoch 11, Mini-batch   200] Loss: 0.097\n",
            "L2_loss: 3.34407377243042\n",
            "[Epoch 11, Mini-batch   300] Loss: 0.097\n",
            "L2_loss: 4.109708786010742\n",
            "[Epoch 11, Mini-batch   400] Loss: 0.097\n",
            "L2_loss: 3.5969648361206055\n",
            "[Epoch 11, Mini-batch   500] Loss: 0.097\n",
            "L2_loss: 3.877373695373535\n",
            "[Epoch 11, Mini-batch   600] Loss: 0.097\n",
            "L2_loss: 3.404454231262207\n",
            "[Epoch 11, Mini-batch   700] Loss: 0.096\n",
            "L2_loss: 3.82077693939209\n",
            "[Epoch 11, Mini-batch   800] Loss: 0.097\n",
            "L2_loss: 3.9601850509643555\n",
            "[Epoch 12, Mini-batch   100] Loss: 0.147\n",
            "L2_loss: 3.70328426361084\n",
            "[Epoch 12, Mini-batch   200] Loss: 0.097\n",
            "L2_loss: 3.463768243789673\n",
            "[Epoch 12, Mini-batch   300] Loss: 0.097\n",
            "L2_loss: 3.7842366695404053\n",
            "[Epoch 12, Mini-batch   400] Loss: 0.097\n",
            "L2_loss: 3.7719151973724365\n",
            "[Epoch 12, Mini-batch   500] Loss: 0.097\n",
            "L2_loss: 4.265395641326904\n",
            "[Epoch 12, Mini-batch   600] Loss: 0.096\n",
            "L2_loss: 3.54219651222229\n",
            "[Epoch 12, Mini-batch   700] Loss: 0.097\n",
            "L2_loss: 3.878657817840576\n",
            "[Epoch 12, Mini-batch   800] Loss: 0.097\n",
            "L2_loss: 3.666813373565674\n",
            "[Epoch 13, Mini-batch   100] Loss: 0.148\n",
            "L2_loss: 4.087130546569824\n",
            "[Epoch 13, Mini-batch   200] Loss: 0.097\n",
            "L2_loss: 3.543301820755005\n",
            "[Epoch 13, Mini-batch   300] Loss: 0.097\n",
            "L2_loss: 3.731234550476074\n",
            "[Epoch 13, Mini-batch   400] Loss: 0.097\n",
            "L2_loss: 3.8064756393432617\n",
            "[Epoch 13, Mini-batch   500] Loss: 0.097\n",
            "L2_loss: 3.395681142807007\n",
            "[Epoch 13, Mini-batch   600] Loss: 0.097\n",
            "L2_loss: 3.5638160705566406\n",
            "[Epoch 13, Mini-batch   700] Loss: 0.096\n",
            "L2_loss: 3.600839376449585\n",
            "[Epoch 13, Mini-batch   800] Loss: 0.096\n",
            "L2_loss: 3.515256881713867\n",
            "[Epoch 14, Mini-batch   100] Loss: 0.148\n",
            "L2_loss: 3.654862642288208\n",
            "[Epoch 14, Mini-batch   200] Loss: 0.097\n",
            "L2_loss: 3.7912566661834717\n",
            "[Epoch 14, Mini-batch   300] Loss: 0.097\n",
            "L2_loss: 3.4324734210968018\n",
            "[Epoch 14, Mini-batch   400] Loss: 0.096\n",
            "L2_loss: 3.513976573944092\n",
            "[Epoch 14, Mini-batch   500] Loss: 0.096\n",
            "L2_loss: 3.6820051670074463\n",
            "[Epoch 14, Mini-batch   600] Loss: 0.097\n",
            "L2_loss: 3.793402910232544\n",
            "[Epoch 14, Mini-batch   700] Loss: 0.097\n",
            "L2_loss: 4.167811870574951\n",
            "[Epoch 14, Mini-batch   800] Loss: 0.097\n",
            "L2_loss: 3.3565611839294434\n",
            "[Epoch 15, Mini-batch   100] Loss: 0.148\n",
            "L2_loss: 3.6637496948242188\n",
            "[Epoch 15, Mini-batch   200] Loss: 0.096\n",
            "L2_loss: 3.7259459495544434\n",
            "[Epoch 15, Mini-batch   300] Loss: 0.097\n",
            "L2_loss: 3.3285884857177734\n",
            "[Epoch 15, Mini-batch   400] Loss: 0.096\n",
            "L2_loss: 3.5152835845947266\n",
            "[Epoch 15, Mini-batch   500] Loss: 0.097\n",
            "L2_loss: 3.4376657009124756\n",
            "[Epoch 15, Mini-batch   600] Loss: 0.097\n",
            "L2_loss: 3.825544595718384\n",
            "[Epoch 15, Mini-batch   700] Loss: 0.098\n",
            "L2_loss: 3.5677738189697266\n",
            "[Epoch 15, Mini-batch   800] Loss: 0.097\n",
            "L2_loss: 3.5191547870635986\n",
            "[Epoch 16, Mini-batch   100] Loss: 0.148\n",
            "L2_loss: 3.7701873779296875\n",
            "[Epoch 16, Mini-batch   200] Loss: 0.098\n",
            "L2_loss: 3.7414278984069824\n",
            "[Epoch 16, Mini-batch   300] Loss: 0.097\n",
            "L2_loss: 3.831021785736084\n",
            "[Epoch 16, Mini-batch   400] Loss: 0.097\n",
            "L2_loss: 4.109823226928711\n",
            "[Epoch 16, Mini-batch   500] Loss: 0.096\n",
            "L2_loss: 3.887657880783081\n",
            "[Epoch 16, Mini-batch   600] Loss: 0.097\n",
            "L2_loss: 3.7700021266937256\n",
            "[Epoch 16, Mini-batch   700] Loss: 0.097\n",
            "L2_loss: 3.618222951889038\n",
            "[Epoch 16, Mini-batch   800] Loss: 0.097\n",
            "L2_loss: 3.8346242904663086\n",
            "[Epoch 17, Mini-batch   100] Loss: 0.147\n",
            "L2_loss: 3.9537107944488525\n",
            "[Epoch 17, Mini-batch   200] Loss: 0.096\n",
            "L2_loss: 3.3667473793029785\n",
            "[Epoch 17, Mini-batch   300] Loss: 0.097\n",
            "L2_loss: 3.54167103767395\n",
            "[Epoch 17, Mini-batch   400] Loss: 0.097\n",
            "L2_loss: 3.9792516231536865\n",
            "[Epoch 17, Mini-batch   500] Loss: 0.097\n",
            "L2_loss: 3.4734020233154297\n",
            "[Epoch 17, Mini-batch   600] Loss: 0.096\n",
            "L2_loss: 3.5301170349121094\n",
            "[Epoch 17, Mini-batch   700] Loss: 0.097\n",
            "L2_loss: 3.5236759185791016\n",
            "[Epoch 17, Mini-batch   800] Loss: 0.097\n",
            "L2_loss: 3.6787216663360596\n",
            "[Epoch 18, Mini-batch   100] Loss: 0.148\n",
            "L2_loss: 3.8491950035095215\n",
            "[Epoch 18, Mini-batch   200] Loss: 0.097\n",
            "L2_loss: 3.2808103561401367\n",
            "[Epoch 18, Mini-batch   300] Loss: 0.097\n",
            "L2_loss: 3.8447463512420654\n",
            "[Epoch 18, Mini-batch   400] Loss: 0.097\n",
            "L2_loss: 3.6864781379699707\n",
            "[Epoch 18, Mini-batch   500] Loss: 0.097\n",
            "L2_loss: 3.526862621307373\n",
            "[Epoch 18, Mini-batch   600] Loss: 0.096\n",
            "L2_loss: 3.691495180130005\n",
            "[Epoch 18, Mini-batch   700] Loss: 0.098\n",
            "L2_loss: 3.9182746410369873\n",
            "[Epoch 18, Mini-batch   800] Loss: 0.096\n",
            "L2_loss: 3.741990089416504\n",
            "[Epoch 19, Mini-batch   100] Loss: 0.148\n",
            "L2_loss: 3.6749069690704346\n",
            "[Epoch 19, Mini-batch   200] Loss: 0.096\n",
            "L2_loss: 3.147575855255127\n",
            "[Epoch 19, Mini-batch   300] Loss: 0.097\n",
            "L2_loss: 3.573070764541626\n",
            "[Epoch 19, Mini-batch   400] Loss: 0.097\n",
            "L2_loss: 3.745929002761841\n",
            "[Epoch 19, Mini-batch   500] Loss: 0.097\n",
            "L2_loss: 3.720576047897339\n",
            "[Epoch 19, Mini-batch   600] Loss: 0.097\n",
            "L2_loss: 3.7497878074645996\n",
            "[Epoch 19, Mini-batch   700] Loss: 0.097\n",
            "L2_loss: 3.525498628616333\n",
            "[Epoch 19, Mini-batch   800] Loss: 0.096\n",
            "L2_loss: 3.958848714828491\n",
            "[Epoch 20, Mini-batch   100] Loss: 0.148\n",
            "L2_loss: 3.4454901218414307\n",
            "[Epoch 20, Mini-batch   200] Loss: 0.097\n",
            "L2_loss: 3.4066004753112793\n",
            "[Epoch 20, Mini-batch   300] Loss: 0.097\n",
            "L2_loss: 3.523907423019409\n",
            "[Epoch 20, Mini-batch   400] Loss: 0.097\n",
            "L2_loss: 3.6707205772399902\n",
            "[Epoch 20, Mini-batch   500] Loss: 0.097\n",
            "L2_loss: 3.452136993408203\n",
            "[Epoch 20, Mini-batch   600] Loss: 0.097\n",
            "L2_loss: 4.183347225189209\n",
            "[Epoch 20, Mini-batch   700] Loss: 0.097\n",
            "L2_loss: 3.720888137817383\n",
            "[Epoch 20, Mini-batch   800] Loss: 0.097\n",
            "L2_loss: 3.8808016777038574\n",
            "[Epoch 21, Mini-batch   100] Loss: 0.147\n",
            "L2_loss: 3.603381633758545\n",
            "[Epoch 21, Mini-batch   200] Loss: 0.097\n",
            "L2_loss: 3.6494812965393066\n",
            "[Epoch 21, Mini-batch   300] Loss: 0.098\n",
            "L2_loss: 3.53155517578125\n",
            "[Epoch 21, Mini-batch   400] Loss: 0.096\n",
            "L2_loss: 3.36989426612854\n",
            "[Epoch 21, Mini-batch   500] Loss: 0.096\n",
            "L2_loss: 3.7821245193481445\n",
            "[Epoch 21, Mini-batch   600] Loss: 0.098\n",
            "L2_loss: 3.6387939453125\n",
            "[Epoch 21, Mini-batch   700] Loss: 0.097\n",
            "L2_loss: 3.5415279865264893\n",
            "[Epoch 21, Mini-batch   800] Loss: 0.097\n",
            "L2_loss: 3.7014994621276855\n",
            "[Epoch 22, Mini-batch   100] Loss: 0.148\n",
            "L2_loss: 3.822988986968994\n",
            "[Epoch 22, Mini-batch   200] Loss: 0.096\n",
            "L2_loss: 3.6585488319396973\n",
            "[Epoch 22, Mini-batch   300] Loss: 0.096\n",
            "L2_loss: 3.5549890995025635\n",
            "[Epoch 22, Mini-batch   400] Loss: 0.097\n",
            "L2_loss: 3.3752360343933105\n",
            "[Epoch 22, Mini-batch   500] Loss: 0.097\n",
            "L2_loss: 3.8343679904937744\n",
            "[Epoch 22, Mini-batch   600] Loss: 0.097\n",
            "L2_loss: 3.539261817932129\n",
            "[Epoch 22, Mini-batch   700] Loss: 0.097\n",
            "L2_loss: 3.4132461547851562\n",
            "[Epoch 22, Mini-batch   800] Loss: 0.097\n",
            "L2_loss: 3.3934788703918457\n",
            "[Epoch 23, Mini-batch   100] Loss: 0.147\n",
            "L2_loss: 3.8499231338500977\n",
            "[Epoch 23, Mini-batch   200] Loss: 0.096\n",
            "L2_loss: 3.5294618606567383\n",
            "[Epoch 23, Mini-batch   300] Loss: 0.097\n",
            "L2_loss: 3.574070453643799\n",
            "[Epoch 23, Mini-batch   400] Loss: 0.097\n",
            "L2_loss: 3.715127468109131\n",
            "[Epoch 23, Mini-batch   500] Loss: 0.097\n",
            "L2_loss: 3.7321505546569824\n",
            "[Epoch 23, Mini-batch   600] Loss: 0.097\n",
            "L2_loss: 4.081913471221924\n",
            "[Epoch 23, Mini-batch   700] Loss: 0.097\n",
            "L2_loss: 3.290163278579712\n",
            "[Epoch 23, Mini-batch   800] Loss: 0.096\n",
            "L2_loss: 3.9573287963867188\n",
            "[Epoch 24, Mini-batch   100] Loss: 0.148\n",
            "L2_loss: 3.6993305683135986\n",
            "[Epoch 24, Mini-batch   200] Loss: 0.097\n",
            "L2_loss: 3.4508047103881836\n",
            "[Epoch 24, Mini-batch   300] Loss: 0.096\n",
            "L2_loss: 3.911700487136841\n",
            "[Epoch 24, Mini-batch   400] Loss: 0.096\n",
            "L2_loss: 3.7324869632720947\n",
            "[Epoch 24, Mini-batch   500] Loss: 0.096\n",
            "L2_loss: 3.56746768951416\n",
            "[Epoch 24, Mini-batch   600] Loss: 0.097\n",
            "L2_loss: 3.4591195583343506\n",
            "[Epoch 24, Mini-batch   700] Loss: 0.097\n",
            "L2_loss: 3.8100290298461914\n",
            "[Epoch 24, Mini-batch   800] Loss: 0.097\n",
            "L2_loss: 3.7885947227478027\n",
            "[Epoch 25, Mini-batch   100] Loss: 0.149\n",
            "L2_loss: 3.337425947189331\n",
            "[Epoch 25, Mini-batch   200] Loss: 0.098\n",
            "L2_loss: 3.8493213653564453\n",
            "[Epoch 25, Mini-batch   300] Loss: 0.097\n",
            "L2_loss: 3.947650194168091\n",
            "[Epoch 25, Mini-batch   400] Loss: 0.097\n",
            "L2_loss: 3.5241641998291016\n",
            "[Epoch 25, Mini-batch   500] Loss: 0.097\n",
            "L2_loss: 3.663311719894409\n",
            "[Epoch 25, Mini-batch   600] Loss: 0.097\n",
            "L2_loss: 3.798452377319336\n",
            "[Epoch 25, Mini-batch   700] Loss: 0.096\n",
            "L2_loss: 3.516223669052124\n",
            "[Epoch 25, Mini-batch   800] Loss: 0.096\n",
            "L2_loss: 3.57511830329895\n",
            "[Epoch 26, Mini-batch   100] Loss: 0.148\n",
            "L2_loss: 3.586627244949341\n",
            "[Epoch 26, Mini-batch   200] Loss: 0.097\n",
            "L2_loss: 3.5076000690460205\n",
            "[Epoch 26, Mini-batch   300] Loss: 0.097\n",
            "L2_loss: 3.4612979888916016\n",
            "[Epoch 26, Mini-batch   400] Loss: 0.097\n",
            "L2_loss: 3.2699763774871826\n",
            "[Epoch 26, Mini-batch   500] Loss: 0.097\n",
            "L2_loss: 3.3134372234344482\n",
            "[Epoch 26, Mini-batch   600] Loss: 0.097\n",
            "L2_loss: 3.565109968185425\n",
            "[Epoch 26, Mini-batch   700] Loss: 0.097\n",
            "L2_loss: 3.886185884475708\n",
            "[Epoch 26, Mini-batch   800] Loss: 0.096\n",
            "L2_loss: 3.346665859222412\n",
            "[Epoch 27, Mini-batch   100] Loss: 0.147\n",
            "L2_loss: 3.5589113235473633\n",
            "[Epoch 27, Mini-batch   200] Loss: 0.096\n",
            "L2_loss: 3.467272996902466\n",
            "[Epoch 27, Mini-batch   300] Loss: 0.097\n",
            "L2_loss: 3.6179986000061035\n",
            "[Epoch 27, Mini-batch   400] Loss: 0.098\n",
            "L2_loss: 3.7963366508483887\n",
            "[Epoch 27, Mini-batch   500] Loss: 0.097\n",
            "L2_loss: 3.725735902786255\n",
            "[Epoch 27, Mini-batch   600] Loss: 0.097\n",
            "L2_loss: 3.6924502849578857\n",
            "[Epoch 27, Mini-batch   700] Loss: 0.097\n",
            "L2_loss: 3.7932097911834717\n",
            "[Epoch 27, Mini-batch   800] Loss: 0.097\n",
            "L2_loss: 3.7483959197998047\n",
            "[Epoch 28, Mini-batch   100] Loss: 0.147\n",
            "L2_loss: 3.6013646125793457\n",
            "[Epoch 28, Mini-batch   200] Loss: 0.097\n",
            "L2_loss: 3.2447409629821777\n",
            "[Epoch 28, Mini-batch   300] Loss: 0.097\n",
            "L2_loss: 3.4908812046051025\n",
            "[Epoch 28, Mini-batch   400] Loss: 0.097\n",
            "L2_loss: 3.6454803943634033\n",
            "[Epoch 28, Mini-batch   500] Loss: 0.097\n",
            "L2_loss: 3.502556562423706\n",
            "[Epoch 28, Mini-batch   600] Loss: 0.097\n",
            "L2_loss: 3.8577396869659424\n",
            "[Epoch 28, Mini-batch   700] Loss: 0.096\n",
            "L2_loss: 3.839040756225586\n",
            "[Epoch 28, Mini-batch   800] Loss: 0.097\n",
            "L2_loss: 4.093991279602051\n",
            "[Epoch 29, Mini-batch   100] Loss: 0.148\n",
            "L2_loss: 3.7474865913391113\n",
            "[Epoch 29, Mini-batch   200] Loss: 0.096\n",
            "L2_loss: 3.874269723892212\n",
            "[Epoch 29, Mini-batch   300] Loss: 0.097\n",
            "L2_loss: 3.8849942684173584\n",
            "[Epoch 29, Mini-batch   400] Loss: 0.097\n",
            "L2_loss: 3.8766164779663086\n",
            "[Epoch 29, Mini-batch   500] Loss: 0.097\n",
            "L2_loss: 3.568357467651367\n",
            "[Epoch 29, Mini-batch   600] Loss: 0.096\n",
            "L2_loss: 3.5754311084747314\n",
            "[Epoch 29, Mini-batch   700] Loss: 0.097\n",
            "L2_loss: 3.687272310256958\n",
            "[Epoch 29, Mini-batch   800] Loss: 0.097\n",
            "L2_loss: 3.547537326812744\n",
            "[Epoch 30, Mini-batch   100] Loss: 0.148\n",
            "L2_loss: 3.894528865814209\n",
            "[Epoch 30, Mini-batch   200] Loss: 0.097\n",
            "L2_loss: 3.402665853500366\n",
            "[Epoch 30, Mini-batch   300] Loss: 0.097\n",
            "L2_loss: 3.6003592014312744\n",
            "[Epoch 30, Mini-batch   400] Loss: 0.097\n",
            "L2_loss: 3.8513317108154297\n",
            "[Epoch 30, Mini-batch   500] Loss: 0.097\n",
            "L2_loss: 3.201815128326416\n",
            "[Epoch 30, Mini-batch   600] Loss: 0.097\n",
            "L2_loss: 3.4888527393341064\n",
            "[Epoch 30, Mini-batch   700] Loss: 0.096\n",
            "L2_loss: 3.2518813610076904\n",
            "[Epoch 30, Mini-batch   800] Loss: 0.097\n",
            "L2_loss: 3.8842642307281494\n",
            "[Epoch 31, Mini-batch   100] Loss: 0.148\n",
            "L2_loss: 3.7097561359405518\n",
            "[Epoch 31, Mini-batch   200] Loss: 0.097\n",
            "L2_loss: 3.58740234375\n",
            "[Epoch 31, Mini-batch   300] Loss: 0.097\n",
            "L2_loss: 3.6538548469543457\n",
            "[Epoch 31, Mini-batch   400] Loss: 0.096\n",
            "L2_loss: 3.6213722229003906\n",
            "[Epoch 31, Mini-batch   500] Loss: 0.096\n",
            "L2_loss: 3.8431363105773926\n",
            "[Epoch 31, Mini-batch   600] Loss: 0.097\n",
            "L2_loss: 3.760580539703369\n",
            "[Epoch 31, Mini-batch   700] Loss: 0.097\n",
            "L2_loss: 3.9459476470947266\n",
            "[Epoch 31, Mini-batch   800] Loss: 0.097\n",
            "L2_loss: 3.492549180984497\n",
            "[Epoch 32, Mini-batch   100] Loss: 0.148\n",
            "L2_loss: 3.707571506500244\n",
            "[Epoch 32, Mini-batch   200] Loss: 0.096\n",
            "L2_loss: 3.538709878921509\n",
            "[Epoch 32, Mini-batch   300] Loss: 0.097\n",
            "L2_loss: 3.52195405960083\n",
            "[Epoch 32, Mini-batch   400] Loss: 0.097\n",
            "L2_loss: 3.253878355026245\n",
            "[Epoch 32, Mini-batch   500] Loss: 0.097\n"
          ]
        },
        {
          "ename": "KeyboardInterrupt",
          "evalue": "ignored",
          "output_type": "error",
          "traceback": [
            "\u001b[0;31m---------------------------------------------------------------------------\u001b[0m",
            "\u001b[0;31mKeyboardInterrupt\u001b[0m                         Traceback (most recent call last)",
            "\u001b[0;32m<ipython-input-17-17f79e1310b9>\u001b[0m in \u001b[0;36m<cell line: 28>\u001b[0;34m()\u001b[0m\n\u001b[1;32m     45\u001b[0m \u001b[0;34m\u001b[0m\u001b[0m\n\u001b[1;32m     46\u001b[0m         \u001b[0;31m# Backward pass and optimization\u001b[0m\u001b[0;34m\u001b[0m\u001b[0;34m\u001b[0m\u001b[0m\n\u001b[0;32m---> 47\u001b[0;31m         \u001b[0mloss\u001b[0m\u001b[0;34m.\u001b[0m\u001b[0mbackward\u001b[0m\u001b[0;34m(\u001b[0m\u001b[0;34m)\u001b[0m\u001b[0;34m\u001b[0m\u001b[0;34m\u001b[0m\u001b[0m\n\u001b[0m\u001b[1;32m     48\u001b[0m         \u001b[0moptimizer\u001b[0m\u001b[0;34m.\u001b[0m\u001b[0mstep\u001b[0m\u001b[0;34m(\u001b[0m\u001b[0;34m)\u001b[0m\u001b[0;34m\u001b[0m\u001b[0;34m\u001b[0m\u001b[0m\n\u001b[1;32m     49\u001b[0m \u001b[0;34m\u001b[0m\u001b[0m\n",
            "\u001b[0;32m/usr/local/lib/python3.9/dist-packages/torch/_tensor.py\u001b[0m in \u001b[0;36mbackward\u001b[0;34m(self, gradient, retain_graph, create_graph, inputs)\u001b[0m\n\u001b[1;32m    485\u001b[0m                 \u001b[0minputs\u001b[0m\u001b[0;34m=\u001b[0m\u001b[0minputs\u001b[0m\u001b[0;34m,\u001b[0m\u001b[0;34m\u001b[0m\u001b[0;34m\u001b[0m\u001b[0m\n\u001b[1;32m    486\u001b[0m             )\n\u001b[0;32m--> 487\u001b[0;31m         torch.autograd.backward(\n\u001b[0m\u001b[1;32m    488\u001b[0m             \u001b[0mself\u001b[0m\u001b[0;34m,\u001b[0m \u001b[0mgradient\u001b[0m\u001b[0;34m,\u001b[0m \u001b[0mretain_graph\u001b[0m\u001b[0;34m,\u001b[0m \u001b[0mcreate_graph\u001b[0m\u001b[0;34m,\u001b[0m \u001b[0minputs\u001b[0m\u001b[0;34m=\u001b[0m\u001b[0minputs\u001b[0m\u001b[0;34m\u001b[0m\u001b[0;34m\u001b[0m\u001b[0m\n\u001b[1;32m    489\u001b[0m         )\n",
            "\u001b[0;32m/usr/local/lib/python3.9/dist-packages/torch/autograd/__init__.py\u001b[0m in \u001b[0;36mbackward\u001b[0;34m(tensors, grad_tensors, retain_graph, create_graph, grad_variables, inputs)\u001b[0m\n\u001b[1;32m    198\u001b[0m     \u001b[0;31m# some Python versions print out the first line of a multi-line function\u001b[0m\u001b[0;34m\u001b[0m\u001b[0;34m\u001b[0m\u001b[0m\n\u001b[1;32m    199\u001b[0m     \u001b[0;31m# calls in the traceback and some print out the last line\u001b[0m\u001b[0;34m\u001b[0m\u001b[0;34m\u001b[0m\u001b[0m\n\u001b[0;32m--> 200\u001b[0;31m     Variable._execution_engine.run_backward(  # Calls into the C++ engine to run the backward pass\n\u001b[0m\u001b[1;32m    201\u001b[0m         \u001b[0mtensors\u001b[0m\u001b[0;34m,\u001b[0m \u001b[0mgrad_tensors_\u001b[0m\u001b[0;34m,\u001b[0m \u001b[0mretain_graph\u001b[0m\u001b[0;34m,\u001b[0m \u001b[0mcreate_graph\u001b[0m\u001b[0;34m,\u001b[0m \u001b[0minputs\u001b[0m\u001b[0;34m,\u001b[0m\u001b[0;34m\u001b[0m\u001b[0;34m\u001b[0m\u001b[0m\n\u001b[1;32m    202\u001b[0m         allow_unreachable=True, accumulate_grad=True)  # Calls into the C++ engine to run the backward pass\n",
            "\u001b[0;31mKeyboardInterrupt\u001b[0m: "
          ]
        }
      ],
      "source": [
        "# ========================= Hyperparameters ====================================\n",
        "smooth_rate = 5 \n",
        "constrain_rate = 1.0 # F(v=0) = 0\n",
        "targets_rate = 2\n",
        "\n",
        "# Define number of epochs\n",
        "num_epochs = 100\n",
        "\n",
        "# Define loss function and optimizer\n",
        "L2_loss = nn.MSELoss(reduction=\"sum\")\n",
        "\n",
        "optimizer = torch.optim.SGD(model.parameters(), lr=0.45)\n",
        "#optimizer = torch.optim.Adam(model.parameters(), lr=0.5)\n",
        "\n",
        "# ==================== end of hyperparameters ==================================\n",
        "\n",
        "# normalization for losses\n",
        "smooth_rate = smooth_rate / N\n",
        "targets_rate = targets_rate / batch_size\n",
        "\n",
        "running_loss = 0\n",
        "\n",
        "\n",
        "#used for graphs\n",
        "max_i = len(my_dataloader)\n",
        "\n",
        "# Iterate through epochs\n",
        "for epoch in range(num_epochs):\n",
        "    # Iterate through data in the DataLoader\n",
        "    for i, data in enumerate(my_dataloader, 0):\n",
        "        # Get inputs and targets from data\n",
        "        inputs, targets = data\n",
        "\n",
        "        # Zero the parameter gradients\n",
        "        optimizer.zero_grad()\n",
        "\n",
        "        # Forward pass\n",
        "        outputs = model.forward(inputs)\n",
        "\n",
        "        L2_computed_loss = L2_loss(outputs, targets)\n",
        "        # Compute loss\n",
        "        loss = (smooth_rate * smooth_loss(list(model.parameters())[0]) +\\\n",
        "            constrain_rate*physics_constrain(list(model.parameters())[0]) + targets_rate * L2_computed_loss)\n",
        "\n",
        "\n",
        "        # Backward pass and optimization\n",
        "        loss.backward()\n",
        "        optimizer.step()\n",
        "\n",
        "        # Print statistics\n",
        "        running_loss += loss.item()\n",
        "        if i % 100 == 99:    # Print every 100 mini-batches\n",
        "            print(\"L2_loss:\", L2_computed_loss.detach().item())\n",
        "            loss_array.append(L2_computed_loss.detach().item())\n",
        "            print('[Epoch %d, Mini-batch %5d] Loss: %.3f' %\n",
        "                  (epoch + 1, i + 1, running_loss / 100))\n",
        "            running_loss = 0.0\n",
        "    \n",
        "    if epoch % 100 == 10:\n",
        "        # saving the model\n",
        "        torch.save(model, model_path + f\"{name_for_model}_{working_date}_{global_model_epoch}+epoch{epoch}.pt\")\n",
        "    \n",
        "\n",
        "# finish training\n",
        "global_model_epoch += epoch +1\n",
        "torch.save(model, model_path + f\"{name_for_model}_{working_date}_{global_model_epoch}.pt\")\n",
        "print('Finished training')"
      ]
    },
    {
      "cell_type": "code",
      "execution_count": null,
      "metadata": {
        "colab": {
          "base_uri": "https://localhost:8080/",
          "height": 452
        },
        "id": "cD0aJ3NzK2xI",
        "outputId": "0074c834-2f5f-41cc-d0e3-5542f4f55aed"
      },
      "outputs": [
        {
          "data": {
            "image/png": "[encoded data removed]",
            "text/plain": [
              "<Figure size 640x480 with 1 Axes>"
            ]
          },
          "metadata": {},
          "output_type": "display_data"
        }
      ],
      "source": [
        "plt.plot(list(model.parameters())[0].detach())\n",
        "plt.title(f\"After training parameters of activation function, {global_model_epoch}\")\n",
        "plt.show()"
      ]
    },
    {
      "cell_type": "code",
      "execution_count": null,
      "metadata": {
        "colab": {
          "base_uri": "https://localhost:8080/",
          "height": 452
        },
        "id": "5S_coKVQK2xI",
        "outputId": "88725197-1305-4b62-8eaf-264066fcab95"
      },
      "outputs": [
        {
          "data": {
            "image/png": "[encoded data removed]",
            "text/plain": [
              "<Figure size 640x480 with 1 Axes>"
            ]
          },
          "metadata": {},
          "output_type": "display_data"
        }
      ],
      "source": [
        "# plot loss\n",
        "plt.plot(loss_array)\n",
        "plt.title(f\"L2 loss {global_model_epoch}, smth: {smooth_rate}, tgts: {targets_rate} \")\n",
        "plt.savefig(f\"{base_path}evolution_force\")\n",
        "plt.show()"
      ]
    },
    {
      "cell_type": "code",
      "execution_count": null,
      "metadata": {
        "id": "gJ_jXNIiYElE"
      },
      "outputs": [],
      "source": [
        "global_model_epoch =+ 32"
      ]
    },
    {
      "cell_type": "code",
      "execution_count": null,
      "metadata": {
        "id": "3mBhqHILK2xJ"
      },
      "outputs": [],
      "source": [
        "# saving the model\n",
        "torch.save(model, f\"{model_path}{name_for_model}_{working_date}_epoch{global_model_epoch}.pt\")"
      ]
    },
    {
      "cell_type": "code",
      "execution_count": null,
      "metadata": {
        "id": "xK9oX9pOK2xJ"
      },
      "outputs": [],
      "source": [
        "# save loss as csv\n",
        "pd.DataFrame(loss_array).to_csv(f\"{model_path}loss_{name_for_model}_epoch{global_model_epoch}.csv\")"
      ]
    },
    {
      "cell_type": "code",
      "execution_count": null,
      "metadata": {
        "id": "9CFz2Bs02YMK"
      },
      "outputs": [],
      "source": []
    }
  ],
  "metadata": {
    "colab": {
      "provenance": []
    },
    "kernelspec": {
      "display_name": "deepl",
      "language": "python",
      "name": "python3"
    },
    "language_info": {
      "codemirror_mode": {
        "name": "ipython",
        "version": 3
      },
      "file_extension": ".py",
      "mimetype": "text/x-python",
      "name": "python",
      "nbconvert_exporter": "python",
      "pygments_lexer": "ipython3",
      "version": "3.10.9"
    },
    "orig_nbformat": 4
  },
  "nbformat": 4,
  "nbformat_minor": 0
}
