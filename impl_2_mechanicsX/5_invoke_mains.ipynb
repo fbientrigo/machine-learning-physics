{
 "cells": [
  {
   "cell_type": "code",
   "execution_count": 6,
   "metadata": {},
   "outputs": [],
   "source": [
    "import integrate_data\n",
    "import pandas as pd"
   ]
  },
  {
   "attachments": {},
   "cell_type": "markdown",
   "metadata": {},
   "source": [
    "# Higher automation\n",
    "Until this point everything was constructed to be able to use it from a terminal; the fact that every major function works as an stand alone module (inspired in SOLID principles), makes this next step easier to do.\n",
    "\n",
    "First we need to update some workings to generalize even more\n",
    "- [ ] dt part of main arguments; so is easily modifiable for experimentation\n",
    "- [ ] being able to invoke main() methods from scripts"
   ]
  },
  {
   "attachments": {},
   "cell_type": "markdown",
   "metadata": {},
   "source": [
    "# 1. Integrate Data\n",
    "\n",
    "Has this argument code:\n",
    "```python\n",
    "    ('-name', type=str, help='Name of the files, recommended the standard [force_name]_[v_speed_initial], because we always use dt=1e-3 the name will include dt1e-3 at the end')\n",
    "    ('--force', help='exports and plots force data', action='store_true')\n",
    "    ('-xi',type=float, help='specifies initial position')\n",
    "    ('-vi',type=float, help='specifies initial velocity')\n",
    "    ('-N',type=int, help='specifies ammounts of jump steps, recommended around 1e3 ')\n",
    "    ('-dt',type=float, help='specifies discrete jumps of time in integrator, recommended 5e-2')\n",
    "\n",
    "```\n",
    "\n",
    "____\n",
    "\n",
    "What are the possible pitfalls?\n",
    "- the integration was unable to happen, halting the program\n",
    "\n",
    "Workarounds\n",
    "- if integration was unable to happen, fill with `np.nan`\n",
    "- add K = -1 (so it can be colored after with its initial condition and easily filtered)\n",
    "\n",
    "____\n",
    "\n",
    "Format of this module\n",
    "- `x_initial, v_initial` (possible for graphs; assumes 2xN size)\n",
    "- `x_step10,v_step10, K_10`, positions after 10 steps, and K = 0\n",
    "- ...\n",
    "- `x_step50,v_step50, K_50`, positions after 50 steps, and K = 0\n",
    "\n",
    "for generalizing the ammount of depth over 50 steps, this limit will be coded in such a way this step will be trivial\n",
    "\n",
    "Algorithm:\n",
    "- higher steps of multiples of 10 are easy to implement if error catching is already existant `(N -> round(N,10) )`\n",
    "- generates the names using for and f-strings `x_step{%}, v_step{%}, K_{%}`\n",
    "\n",
    "___\n",
    "\n",
    "\n"
   ]
  },
  {
   "cell_type": "code",
   "execution_count": null,
   "metadata": {},
   "outputs": [],
   "source": [
    "def make_integrator_args(name, xi, vi, N, dt):\n",
    "    \"\"\"\n",
    "    Compiles in a pandas series all of the essential arguments for integrator\n",
    "    \"\"\"\n",
    "\n",
    "    import pandas as pd\n",
    "\n",
    "    integrator_args = pd.Series(\n",
    "        {'name': name, 'xi': xi, 'vi':vi, 'N':N, 'dt':dt }\n",
    "    )\n",
    "\n",
    "    "
   ]
  }
 ],
 "metadata": {
  "kernelspec": {
   "display_name": "deepl",
   "language": "python",
   "name": "python3"
  },
  "language_info": {
   "codemirror_mode": {
    "name": "ipython",
    "version": 3
   },
   "file_extension": ".py",
   "mimetype": "text/x-python",
   "name": "python",
   "nbconvert_exporter": "python",
   "pygments_lexer": "ipython3",
   "version": "3.10.9"
  },
  "orig_nbformat": 4
 },
 "nbformat": 4,
 "nbformat_minor": 2
}
