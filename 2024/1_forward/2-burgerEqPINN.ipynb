{
 "cells": [
  {
   "cell_type": "code",
   "execution_count": 2,
   "metadata": {},
   "outputs": [],
   "source": [
    "import tensorflow as tf\n",
    "import tensorflow.keras.layers as layers\n",
    "import numpy as np\n",
    "import matplotlib.pyplot as plt"
   ]
  },
  {
   "cell_type": "markdown",
   "metadata": {},
   "source": [
    "# 1D Potentials\n",
    "Potential for $i$ sample is as $V_{i}^k$ where $k$ corresponds to an index as the $x$ dimension"
   ]
  },
  {
   "cell_type": "code",
   "execution_count": 2,
   "metadata": {},
   "outputs": [],
   "source": [
    "import numpy as np"
   ]
  },
  {
   "cell_type": "code",
   "execution_count": 20,
   "metadata": {},
   "outputs": [],
   "source": [
    "# example with simple harmonic oscillator\n",
    "M=50\n",
    "x = np.linspace(-1,1,M)\n",
    "V_1 = x**2\n",
    "V_1 = np.reshape(V_1, (1, -1))\n",
    "\n",
    "# eignvalues teoricos\n",
    "E = np.array([k for k in range(M)])"
   ]
  },
  {
   "cell_type": "code",
   "execution_count": 23,
   "metadata": {},
   "outputs": [],
   "source": [
    "# functional API\n",
    "inputV = layers.Input(shape=V_1[0].shape)\n",
    "hidden1 = layers.Dense(300, activation='sigmoid')(inputV)\n",
    "hidden2 = layers.Dense(100, activation='sigmoid')(hidden1)\n",
    "output = layers.Dense(M, activation='sigmoid')(hidden2)\n",
    "\n",
    "# construccion\n",
    "model = tf.keras.Model(inputs=[inputV], outputs=[output])\n",
    "\n",
    "model.compile(\n",
    "    loss\n",
    ")"
   ]
  },
  {
   "cell_type": "code",
   "execution_count": 24,
   "metadata": {},
   "outputs": [
    {
     "name": "stdout",
     "output_type": "stream",
     "text": [
      "1/1 [==============================] - 0s 251ms/step\n"
     ]
    },
    {
     "data": {
      "text/plain": [
       "array([[0.63209563, 0.64861995, 0.6449438 , 0.51514804, 0.64623106,\n",
       "        0.59589785, 0.16342705, 0.26058578, 0.5420518 , 0.54435766,\n",
       "        0.6463727 , 0.8010331 , 0.340649  , 0.24358405, 0.3304996 ,\n",
       "        0.44612423, 0.39727533, 0.5720871 , 0.3787265 , 0.5631058 ,\n",
       "        0.49482277, 0.5298165 , 0.694265  , 0.6526648 , 0.47183004,\n",
       "        0.38478193, 0.5552852 , 0.32851297, 0.37436116, 0.2826595 ,\n",
       "        0.65941954, 0.29386774, 0.35547394, 0.5039998 , 0.15552554,\n",
       "        0.3047922 , 0.44886726, 0.21260373, 0.6638535 , 0.2557885 ,\n",
       "        0.588617  , 0.4916435 , 0.46816558, 0.4549424 , 0.31923616,\n",
       "        0.34102538, 0.7851062 , 0.62377304, 0.48558733, 0.30104885]],\n",
       "      dtype=float32)"
      ]
     },
     "execution_count": 24,
     "metadata": {},
     "output_type": "execute_result"
    }
   ],
   "source": [
    "model.predict(V_1)\n"
   ]
  },
  {
   "cell_type": "code",
   "execution_count": 4,
   "metadata": {},
   "outputs": [
    {
     "name": "stdout",
     "output_type": "stream",
     "text": [
      "\u001b[1;31mInit signature:\u001b[0m \u001b[0mtf\u001b[0m\u001b[1;33m.\u001b[0m\u001b[0mkeras\u001b[0m\u001b[1;33m.\u001b[0m\u001b[0mSequential\u001b[0m\u001b[1;33m(\u001b[0m\u001b[0mlayers\u001b[0m\u001b[1;33m=\u001b[0m\u001b[1;32mNone\u001b[0m\u001b[1;33m,\u001b[0m \u001b[0mname\u001b[0m\u001b[1;33m=\u001b[0m\u001b[1;32mNone\u001b[0m\u001b[1;33m)\u001b[0m\u001b[1;33m\u001b[0m\u001b[1;33m\u001b[0m\u001b[0m\n",
      "\u001b[1;31mDocstring:\u001b[0m     \n",
      "`Sequential` groups a linear stack of layers into a `tf.keras.Model`.\n",
      "\n",
      "`Sequential` provides training and inference features on this model.\n",
      "\n",
      "Examples:\n",
      "\n",
      "```python\n",
      "# Optionally, the first layer can receive an `input_shape` argument:\n",
      "model = tf.keras.Sequential()\n",
      "model.add(tf.keras.layers.Dense(8, input_shape=(16,)))\n",
      "# Afterwards, we do automatic shape inference:\n",
      "model.add(tf.keras.layers.Dense(4))\n",
      "\n",
      "# This is identical to the following:\n",
      "model = tf.keras.Sequential()\n",
      "model.add(tf.keras.Input(shape=(16,)))\n",
      "model.add(tf.keras.layers.Dense(8))\n",
      "\n",
      "# Note that you can also omit the `input_shape` argument.\n",
      "# In that case the model doesn't have any weights until the first call\n",
      "# to a training/evaluation method (since it isn't yet built):\n",
      "model = tf.keras.Sequential()\n",
      "model.add(tf.keras.layers.Dense(8))\n",
      "model.add(tf.keras.layers.Dense(4))\n",
      "# model.weights not created yet\n",
      "\n",
      "# Whereas if you specify the input shape, the model gets built\n",
      "# continuously as you are adding layers:\n",
      "model = tf.keras.Sequential()\n",
      "model.add(tf.keras.layers.Dense(8, input_shape=(16,)))\n",
      "model.add(tf.keras.layers.Dense(4))\n",
      "len(model.weights)\n",
      "# Returns \"4\"\n",
      "\n",
      "# When using the delayed-build pattern (no input shape specified), you can\n",
      "# choose to manually build your model by calling\n",
      "# `build(batch_input_shape)`:\n",
      "model = tf.keras.Sequential()\n",
      "model.add(tf.keras.layers.Dense(8))\n",
      "model.add(tf.keras.layers.Dense(4))\n",
      "model.build((None, 16))\n",
      "len(model.weights)\n",
      "# Returns \"4\"\n",
      "\n",
      "# Note that when using the delayed-build pattern (no input shape specified),\n",
      "# the model gets built the first time you call `fit`, `eval`, or `predict`,\n",
      "# or the first time you call the model on some input data.\n",
      "model = tf.keras.Sequential()\n",
      "model.add(tf.keras.layers.Dense(8))\n",
      "model.add(tf.keras.layers.Dense(1))\n",
      "model.compile(optimizer='sgd', loss='mse')\n",
      "# This builds the model for the first time:\n",
      "model.fit(x, y, batch_size=32, epochs=10)\n",
      "```\n",
      "\u001b[1;31mInit docstring:\u001b[0m\n",
      "Creates a `Sequential` model instance.\n",
      "\n",
      "Args:\n",
      "  layers: Optional list of layers to add to the model.\n",
      "  name: Optional name for the model.\n",
      "\u001b[1;31mFile:\u001b[0m           c:\\users\\fbien.desktop-6fmear7\\.conda\\envs\\tfq\\lib\\site-packages\\keras\\engine\\sequential.py\n",
      "\u001b[1;31mType:\u001b[0m           type\n",
      "\u001b[1;31mSubclasses:\u001b[0m     "
     ]
    }
   ],
   "source": [
    "tf.keras.Sequential(\n",
    "    [.\n",
    "    ]\n",
    ")"
   ]
  }
 ],
 "metadata": {
  "kernelspec": {
   "display_name": "deepl",
   "language": "python",
   "name": "python3"
  },
  "language_info": {
   "codemirror_mode": {
    "name": "ipython",
    "version": 3
   },
   "file_extension": ".py",
   "mimetype": "text/x-python",
   "name": "python",
   "nbconvert_exporter": "python",
   "pygments_lexer": "ipython3",
   "version": "3.9.18"
  },
  "orig_nbformat": 4
 },
 "nbformat": 4,
 "nbformat_minor": 2
}
