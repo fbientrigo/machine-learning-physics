{
 "cells": [
  {
   "cell_type": "code",
   "execution_count": 1,
   "metadata": {},
   "outputs": [],
   "source": [
    "import pandas as pd\n",
    "import numpy as np\n",
    "import matplotlib.pyplot as plt\n",
    "import torch"
   ]
  },
  {
   "attachments": {},
   "cell_type": "markdown",
   "metadata": {},
   "source": [
    "# Higher automation\n",
    "Until this point everything was constructed to be able to use it from a terminal; the fact that every major function works as an stand alone module (inspired in SOLID principles), makes this next step easier to do.\n",
    "\n",
    "First we need to update some workings to generalize even more\n",
    "- [ready] dt part of main arguments; so is easily modifiable for experimentation\n",
    "- [ready] being able to invoke main() methods from scripts"
   ]
  },
  {
   "attachments": {},
   "cell_type": "markdown",
   "metadata": {},
   "source": [
    "# 1. Integrate Data\n",
    "\n",
    "Has this argument code:\n",
    "```python\n",
    "    ('-name', type=str, help='Name of the files, recommended the standard [force_name]_[v_speed_initial], because we always use dt=1e-3 the name will include dt1e-3 at the end')\n",
    "    ('--force', help='exports and plots force data', action='store_true')\n",
    "    ('-xi',type=float, help='specifies initial position')\n",
    "    ('-vi',type=float, help='specifies initial velocity')\n",
    "    ('-N',type=int, help='specifies ammounts of jump steps, recommended around 1e3 ')\n",
    "    ('-dt',type=float, help='specifies discrete jumps of time in integrator, recommended 5e-2')\n",
    "\n",
    "```\n",
    "\n",
    "____\n",
    "\n",
    "What are the possible pitfalls?\n",
    "- the integration was unable to happen, halting the program\n",
    "\n",
    "Workarounds\n",
    "- if integration was unable to happen, fill with `np.nan`\n",
    "- add K = -1 (so it can be colored after with its initial condition and easily filtered)\n",
    "\n",
    "____\n",
    "\n",
    "Format of this module\n",
    "- `x_initial, v_initial` (possible for graphs; assumes 2xN size)\n",
    "- `x_step10,v_step10, K_10`, positions after 10 steps, and K = 0\n",
    "- ...\n",
    "- `x_step50,v_step50, K_50`, positions after 50 steps, and K = 0\n",
    "\n",
    "for generalizing the ammount of depth over 50 steps, this limit will be coded in such a way this step will be trivial\n",
    "\n",
    "Algorithm:\n",
    "- higher steps of multiples of 10 are easy to implement if error catching is already existant `(N -> round(N,10) )`\n",
    "- generates the names using for and f-strings `x_step{%}, v_step{%}, K_{%}`\n",
    "\n",
    "___\n",
    "\n",
    "\n"
   ]
  },
  {
   "attachments": {},
   "cell_type": "markdown",
   "metadata": {},
   "source": [
    "We are using:\n",
    "\n",
    "```python\n",
    "arguments = pd.Series({'name': name, 'xi': xi, 'vi':vi, 'N':N, 'dt':dt })\n",
    "\n",
    "solution_status, data = run_integrator( arguments )\n",
    "```\n",
    "\n",
    "in the case that solution_status is 0, then the data is usable;\n",
    "if the solution_status is different; then it will mean no convergence and the code should give out a list with `np.nan`\n"
   ]
  },
  {
   "cell_type": "code",
   "execution_count": 2,
   "metadata": {},
   "outputs": [],
   "source": [
    "from integrate_data import run_integrator, make_integrator_args"
   ]
  },
  {
   "cell_type": "code",
   "execution_count": 4,
   "metadata": {},
   "outputs": [
    {
     "name": "stdout",
     "output_type": "stream",
     "text": [
      "\u001b[1;31mSignature:\u001b[0m \u001b[0mmake_integrator_args\u001b[0m\u001b[1;33m(\u001b[0m\u001b[0mname\u001b[0m\u001b[1;33m,\u001b[0m \u001b[0mxi\u001b[0m\u001b[1;33m,\u001b[0m \u001b[0mvi\u001b[0m\u001b[1;33m,\u001b[0m \u001b[0mN\u001b[0m\u001b[1;33m,\u001b[0m \u001b[0mdt\u001b[0m\u001b[1;33m)\u001b[0m\u001b[1;33m\u001b[0m\u001b[1;33m\u001b[0m\u001b[0m\n",
      "\u001b[1;31mDocstring:\u001b[0m\n",
      "Compiles in a pandas series all of the essential arguments for integrator\n",
      ">> arguments = pd.Series({'name': name, 'xi': xi, 'vi':vi, 'N':N, 'dt':dt })\n",
      ">> solution_status, data = run_integrator( arguments )\n",
      "\u001b[1;31mFile:\u001b[0m      c:\\msys64\\home\\code\\ml-physics\\impl_2_mechanicsx\\integrate_data.py\n",
      "\u001b[1;31mType:\u001b[0m      function\n"
     ]
    }
   ],
   "source": [
    "make_integrator_args?"
   ]
  },
  {
   "cell_type": "code",
   "execution_count": 3,
   "metadata": {},
   "outputs": [
    {
     "name": "stdout",
     "output_type": "stream",
     "text": [
      "\u001b[1;31mSignature:\u001b[0m \u001b[0mrun_integrator\u001b[0m\u001b[1;33m(\u001b[0m\u001b[0margs\u001b[0m\u001b[1;33m)\u001b[0m\u001b[1;33m\u001b[0m\u001b[1;33m\u001b[0m\u001b[0m\n",
      "\u001b[1;31mDocstring:\u001b[0m\n",
      "uses scipy.solve_ivp, with the RK45; if the integrator converge\n",
      "it gives out an array: (data_id, t, y, v)\n",
      "- data_id are the initial conditions as string\n",
      "- t is the time of every data point\n",
      "- y is the position at time t\n",
      "- v is the speed at time t\n",
      "\n",
      "it needs input as a pandas Series\n",
      ">> arguments = pd.Series({'name': name, 'xi': xi, 'vi':vi, 'N':N, 'dt':dt })\n",
      ">> solution_status, data = run_integrator( arguments )\n",
      "\u001b[1;31mFile:\u001b[0m      c:\\msys64\\home\\code\\ml-physics\\impl_2_mechanicsx\\integrate_data.py\n",
      "\u001b[1;31mType:\u001b[0m      function\n"
     ]
    }
   ],
   "source": [
    "run_integrator?"
   ]
  },
  {
   "attachments": {},
   "cell_type": "markdown",
   "metadata": {},
   "source": [
    "# 2. Generation of data\n",
    "Inputs:\n",
    "- ammount of points to generate\n",
    "- space to populate, the `range` (example: x goes from 0 to 10, and v from ...)\n",
    "\n",
    "\n"
   ]
  },
  {
   "cell_type": "code",
   "execution_count": 7,
   "metadata": {},
   "outputs": [],
   "source": [
    "range_x = [-5, 5]\n",
    "range_v = [-5, 5]"
   ]
  },
  {
   "cell_type": "code",
   "execution_count": 6,
   "metadata": {},
   "outputs": [
    {
     "name": "stdout",
     "output_type": "stream",
     "text": [
      "\u001b[1;31mDocstring:\u001b[0m\n",
      "uniform(low=0.0, high=1.0, size=None)\n",
      "\n",
      "Draw samples from a uniform distribution.\n",
      "\n",
      "Samples are uniformly distributed over the half-open interval\n",
      "``[low, high)`` (includes low, but excludes high).  In other words,\n",
      "any value within the given interval is equally likely to be drawn\n",
      "by `uniform`.\n",
      "\n",
      ".. note::\n",
      "    New code should use the ``uniform`` method of a ``default_rng()``\n",
      "    instance instead; please see the :ref:`random-quick-start`.\n",
      "\n",
      "Parameters\n",
      "----------\n",
      "low : float or array_like of floats, optional\n",
      "    Lower boundary of the output interval.  All values generated will be\n",
      "    greater than or equal to low.  The default value is 0.\n",
      "high : float or array_like of floats\n",
      "    Upper boundary of the output interval.  All values generated will be\n",
      "    less than or equal to high.  The high limit may be included in the \n",
      "    returned array of floats due to floating-point rounding in the \n",
      "    equation ``low + (high-low) * random_sample()``.  The default value \n",
      "    is 1.0.\n",
      "size : int or tuple of ints, optional\n",
      "    Output shape.  If the given shape is, e.g., ``(m, n, k)``, then\n",
      "    ``m * n * k`` samples are drawn.  If size is ``None`` (default),\n",
      "    a single value is returned if ``low`` and ``high`` are both scalars.\n",
      "    Otherwise, ``np.broadcast(low, high).size`` samples are drawn.\n",
      "\n",
      "Returns\n",
      "-------\n",
      "out : ndarray or scalar\n",
      "    Drawn samples from the parameterized uniform distribution.\n",
      "\n",
      "See Also\n",
      "--------\n",
      "randint : Discrete uniform distribution, yielding integers.\n",
      "random_integers : Discrete uniform distribution over the closed\n",
      "                  interval ``[low, high]``.\n",
      "random_sample : Floats uniformly distributed over ``[0, 1)``.\n",
      "random : Alias for `random_sample`.\n",
      "rand : Convenience function that accepts dimensions as input, e.g.,\n",
      "       ``rand(2,2)`` would generate a 2-by-2 array of floats,\n",
      "       uniformly distributed over ``[0, 1)``.\n",
      "random.Generator.uniform: which should be used for new code.\n",
      "\n",
      "Notes\n",
      "-----\n",
      "The probability density function of the uniform distribution is\n",
      "\n",
      ".. math:: p(x) = \\frac{1}{b - a}\n",
      "\n",
      "anywhere within the interval ``[a, b)``, and zero elsewhere.\n",
      "\n",
      "When ``high`` == ``low``, values of ``low`` will be returned.\n",
      "If ``high`` < ``low``, the results are officially undefined\n",
      "and may eventually raise an error, i.e. do not rely on this\n",
      "function to behave when passed arguments satisfying that\n",
      "inequality condition. The ``high`` limit may be included in the\n",
      "returned array of floats due to floating-point rounding in the\n",
      "equation ``low + (high-low) * random_sample()``. For example:\n",
      "\n",
      ">>> x = np.float32(5*0.99999999)\n",
      ">>> x\n",
      "5.0\n",
      "\n",
      "\n",
      "Examples\n",
      "--------\n",
      "Draw samples from the distribution:\n",
      "\n",
      ">>> s = np.random.uniform(-1,0,1000)\n",
      "\n",
      "All values are within the given interval:\n",
      "\n",
      ">>> np.all(s >= -1)\n",
      "True\n",
      ">>> np.all(s < 0)\n",
      "True\n",
      "\n",
      "Display the histogram of the samples, along with the\n",
      "probability density function:\n",
      "\n",
      ">>> import matplotlib.pyplot as plt\n",
      ">>> count, bins, ignored = plt.hist(s, 15, density=True)\n",
      ">>> plt.plot(bins, np.ones_like(bins), linewidth=2, color='r')\n",
      ">>> plt.show()\n",
      "\u001b[1;31mType:\u001b[0m      builtin_function_or_method\n"
     ]
    }
   ],
   "source": [
    "np.random.uniform\n",
    "\n"
   ]
  },
  {
   "cell_type": "code",
   "execution_count": null,
   "metadata": {},
   "outputs": [],
   "source": []
  }
 ],
 "metadata": {
  "kernelspec": {
   "display_name": "deepl",
   "language": "python",
   "name": "python3"
  },
  "language_info": {
   "codemirror_mode": {
    "name": "ipython",
    "version": 3
   },
   "file_extension": ".py",
   "mimetype": "text/x-python",
   "name": "python",
   "nbconvert_exporter": "python",
   "pygments_lexer": "ipython3",
   "version": "3.10.9"
  },
  "orig_nbformat": 4
 },
 "nbformat": 4,
 "nbformat_minor": 2
}
