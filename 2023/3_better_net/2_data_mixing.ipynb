{
 "cells": [
  {
   "cell_type": "code",
   "execution_count": 2,
   "metadata": {},
   "outputs": [],
   "source": [
    "import deepql\n",
    "import torch\n",
    "import torch.nn as nn\n",
    "\n",
    "import numpy as np\n",
    "import pandas as pd\n",
    "import matplotlib.pyplot as plt"
   ]
  },
  {
   "cell_type": "code",
   "execution_count": 6,
   "metadata": {},
   "outputs": [],
   "source": [
    "import pandas as pd\n",
    "import glob\n",
    "\n",
    "# Define the folder path and pattern\n",
    "folder_path = \"gen_data/\"\n",
    "file_pattern = \"heun_c1_u0*.csv\"\n",
    "\n",
    "# Get a list of all matching file paths\n",
    "file_paths = glob.glob(folder_path + file_pattern)\n",
    "\n",
    "# Loop through the file paths\n",
    "for file_path in file_paths:\n",
    "    # Load the data from the file\n",
    "    data = pd.read_csv(file_path, index_col=0)\n",
    "\n",
    "    # Perform operations on the data\n",
    "    df = deepql.separate_data(df=data, run_length=150, position='u', velocity='udot')\n",
    "\n",
    "    # Define the new file path for export\n",
    "    new_file_path = \"data/\" + file_path.split(\"\\\\\")[-1]\n",
    "\n",
    "    # Export the modified data to a new file\n",
    "    df.to_csv(new_file_path)\n"
   ]
  },
  {
   "cell_type": "code",
   "execution_count": 8,
   "metadata": {},
   "outputs": [],
   "source": [
    "import pandas as pd\n",
    "import glob\n",
    "\n",
    "# Define the folder path and pattern\n",
    "folder_path = \"data/\"\n",
    "file_pattern = \"heun_c1_u0*.csv\"\n",
    "\n",
    "# Get a list of all matching file paths\n",
    "file_paths = glob.glob(folder_path + file_pattern)\n",
    "\n",
    "# Initialize an empty list to store the dataframes\n",
    "dfs = []\n",
    "\n",
    "# Loop through the file paths and read each CSV file\n",
    "for file_path in file_paths:\n",
    "    df = pd.read_csv(file_path)\n",
    "    dfs.append(df)\n",
    "\n",
    "# Concatenate the dataframes into a single dataframe\n",
    "merged_df = pd.concat(dfs)\n",
    "\n",
    "# Export the merged dataframe to a new CSV file\n",
    "merged_df.to_csv(\"data/heun_c1_merged_data.csv\", index=False)\n"
   ]
  },
  {
   "cell_type": "code",
   "execution_count": null,
   "metadata": {},
   "outputs": [],
   "source": []
  }
 ],
 "metadata": {
  "kernelspec": {
   "display_name": "deepl",
   "language": "python",
   "name": "python3"
  },
  "language_info": {
   "codemirror_mode": {
    "name": "ipython",
    "version": 3
   },
   "file_extension": ".py",
   "mimetype": "text/x-python",
   "name": "python",
   "nbconvert_exporter": "python",
   "pygments_lexer": "ipython3",
   "version": "3.10.9"
  },
  "orig_nbformat": 4
 },
 "nbformat": 4,
 "nbformat_minor": 2
}
